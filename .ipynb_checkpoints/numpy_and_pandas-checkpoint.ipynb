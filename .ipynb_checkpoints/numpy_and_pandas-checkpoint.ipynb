{
 "cells": [
  {
   "cell_type": "markdown",
   "id": "f10a24dc-061a-4a50-9f13-774939a332b8",
   "metadata": {
    "tags": [],
    "toc-hr-collapsed": true
   },
   "source": [
    "# numpy(advanced)\n",
    "* 行列計算に特化したモジュール\n",
    "* pythonの標準ライブラリではないのでimportが必要"
   ]
  },
  {
   "cell_type": "markdown",
   "id": "8042fc02-c43d-4968-b42b-40593e732af7",
   "metadata": {
    "tags": []
   },
   "source": [
    "## numpy array"
   ]
  },
  {
   "cell_type": "markdown",
   "id": "a88a371b-ed20-40b7-8c2f-f4825d0ea464",
   "metadata": {
    "tags": []
   },
   "source": [
    "### 基本"
   ]
  },
  {
   "cell_type": "code",
   "execution_count": 37,
   "id": "005026fd-b21a-4e57-a75e-184eebf2c906",
   "metadata": {},
   "outputs": [],
   "source": [
    "import numpy as np"
   ]
  },
  {
   "cell_type": "code",
   "execution_count": 38,
   "id": "96f6aabc-a950-4d68-a02b-eae18bab0b24",
   "metadata": {},
   "outputs": [
    {
     "data": {
      "text/plain": [
       "array([0, 1, 2, 3, 4, 5])"
      ]
     },
     "execution_count": 38,
     "metadata": {},
     "output_type": "execute_result"
    }
   ],
   "source": [
    "a = np.array(range(0, 6))\n",
    "a"
   ]
  },
  {
   "cell_type": "code",
   "execution_count": 39,
   "id": "696aaf5a-9b76-41bd-a4a8-e9d710c6be4d",
   "metadata": {},
   "outputs": [
    {
     "data": {
      "text/plain": [
       "numpy.ndarray"
      ]
     },
     "execution_count": 39,
     "metadata": {},
     "output_type": "execute_result"
    }
   ],
   "source": [
    "type(a)"
   ]
  },
  {
   "cell_type": "code",
   "execution_count": 40,
   "id": "ec812e5e-a194-47e1-88e4-5f7567c3c8a6",
   "metadata": {},
   "outputs": [
    {
     "data": {
      "text/plain": [
       "(6,)"
      ]
     },
     "execution_count": 40,
     "metadata": {},
     "output_type": "execute_result"
    }
   ],
   "source": [
    "a.shape"
   ]
  },
  {
   "cell_type": "markdown",
   "id": "86b96966-a3df-4601-b96b-43b4e31b9156",
   "metadata": {},
   "source": [
    "**.reshape()で好きな形に変形できる**"
   ]
  },
  {
   "cell_type": "code",
   "execution_count": 41,
   "id": "76b86d04-8b01-4dd5-a72c-28e6b0414bbb",
   "metadata": {},
   "outputs": [
    {
     "data": {
      "text/plain": [
       "array([[0, 1],\n",
       "       [2, 3],\n",
       "       [4, 5]])"
      ]
     },
     "execution_count": 41,
     "metadata": {},
     "output_type": "execute_result"
    }
   ],
   "source": [
    "# 3行×2列に変換\n",
    "b = a.reshape(3, 2)\n",
    "b"
   ]
  },
  {
   "cell_type": "markdown",
   "id": "80726870-4f1e-4bfb-b19d-cee4d849ecb4",
   "metadata": {},
   "source": [
    "**.flatten()で1行に変換できる**"
   ]
  },
  {
   "cell_type": "code",
   "execution_count": 42,
   "id": "5bcb6742-6577-4509-8425-3e9856476942",
   "metadata": {},
   "outputs": [
    {
     "data": {
      "text/plain": [
       "array([0, 1, 2, 3, 4, 5])"
      ]
     },
     "execution_count": 42,
     "metadata": {},
     "output_type": "execute_result"
    }
   ],
   "source": [
    "b.flatten()"
   ]
  },
  {
   "cell_type": "markdown",
   "id": "b3b8aa34-9515-4e00-9c91-e6c624b70ec7",
   "metadata": {
    "tags": []
   },
   "source": [
    "### 行列計算"
   ]
  },
  {
   "cell_type": "code",
   "execution_count": 43,
   "id": "0d82aee7-58e4-4857-984a-09dbcb5a7288",
   "metadata": {},
   "outputs": [],
   "source": [
    "a = np.array(np.random.randint(0, 10, (3, 3)))\n",
    "b = np.array(np.random.randint(0, 10, (3, 3)))"
   ]
  },
  {
   "cell_type": "code",
   "execution_count": 44,
   "id": "88a3502a-5d47-43cb-b4fb-b04c705cd382",
   "metadata": {},
   "outputs": [
    {
     "data": {
      "text/plain": [
       "array([[2, 0, 5],\n",
       "       [9, 6, 4],\n",
       "       [7, 3, 7]])"
      ]
     },
     "execution_count": 44,
     "metadata": {},
     "output_type": "execute_result"
    }
   ],
   "source": [
    "a"
   ]
  },
  {
   "cell_type": "code",
   "execution_count": 45,
   "id": "c5748598-25f0-4383-83d6-4fe88886c59d",
   "metadata": {},
   "outputs": [
    {
     "data": {
      "text/plain": [
       "array([[7, 4, 6],\n",
       "       [8, 8, 0],\n",
       "       [0, 8, 3]])"
      ]
     },
     "execution_count": 45,
     "metadata": {},
     "output_type": "execute_result"
    }
   ],
   "source": [
    "b"
   ]
  },
  {
   "cell_type": "code",
   "execution_count": 46,
   "id": "895f2e63-c39d-4941-8c29-9bc3036a49c1",
   "metadata": {},
   "outputs": [
    {
     "data": {
      "text/plain": [
       "array([[ 9,  4, 11],\n",
       "       [17, 14,  4],\n",
       "       [ 7, 11, 10]])"
      ]
     },
     "execution_count": 46,
     "metadata": {},
     "output_type": "execute_result"
    }
   ],
   "source": [
    "a + b"
   ]
  },
  {
   "cell_type": "code",
   "execution_count": 47,
   "id": "40adc4ac-e0aa-4bf9-bd54-5e77d6b6c22a",
   "metadata": {},
   "outputs": [
    {
     "data": {
      "text/plain": [
       "array([[14,  0, 30],\n",
       "       [72, 48,  0],\n",
       "       [ 0, 24, 21]])"
      ]
     },
     "execution_count": 47,
     "metadata": {},
     "output_type": "execute_result"
    }
   ],
   "source": [
    "a * b"
   ]
  },
  {
   "cell_type": "code",
   "execution_count": 48,
   "id": "a3cf637c-5919-4370-9ffc-a6c20f93c58c",
   "metadata": {
    "collapsed": true,
    "jupyter": {
     "outputs_hidden": true
    },
    "tags": []
   },
   "outputs": [
    {
     "data": {
      "text/plain": [
       "array([[[[0., 0., 0.],\n",
       "         [0., 0., 0.],\n",
       "         [0., 0., 0.]],\n",
       "\n",
       "        [[0., 0., 0.],\n",
       "         [0., 0., 0.],\n",
       "         [0., 0., 0.]],\n",
       "\n",
       "        [[0., 0., 0.],\n",
       "         [0., 0., 0.],\n",
       "         [0., 0., 0.]]],\n",
       "\n",
       "\n",
       "       [[[0., 0., 0.],\n",
       "         [0., 0., 0.],\n",
       "         [0., 0., 0.]],\n",
       "\n",
       "        [[0., 0., 0.],\n",
       "         [0., 0., 0.],\n",
       "         [0., 0., 0.]],\n",
       "\n",
       "        [[0., 0., 0.],\n",
       "         [0., 0., 0.],\n",
       "         [0., 0., 0.]]],\n",
       "\n",
       "\n",
       "       [[[0., 0., 0.],\n",
       "         [0., 0., 0.],\n",
       "         [0., 0., 0.]],\n",
       "\n",
       "        [[0., 0., 0.],\n",
       "         [0., 0., 0.],\n",
       "         [0., 0., 0.]],\n",
       "\n",
       "        [[0., 0., 0.],\n",
       "         [0., 0., 0.],\n",
       "         [0., 0., 0.]]]])"
      ]
     },
     "execution_count": 48,
     "metadata": {},
     "output_type": "execute_result"
    }
   ],
   "source": [
    "# n次元配列も作れるが実務では登場機会は少ないか\n",
    "ndarray_3D = np.zeros((3, 3, 3, 3))\n",
    "ndarray_3D"
   ]
  },
  {
   "cell_type": "markdown",
   "id": "d2b80dd2-83e2-4db0-847b-926bfaa2bd8d",
   "metadata": {},
   "source": [
    "### 要素の抽出"
   ]
  },
  {
   "cell_type": "markdown",
   "id": "f6e73382-d91a-4aa4-b555-36d3dfa0a90b",
   "metadata": {},
   "source": [
    "**要素の番号で指定**"
   ]
  },
  {
   "cell_type": "code",
   "execution_count": 52,
   "id": "90699655-a895-434b-b290-51a4009529aa",
   "metadata": {},
   "outputs": [
    {
     "data": {
      "text/plain": [
       "array([2, 0, 5, 9, 6, 4, 7, 3, 7])"
      ]
     },
     "execution_count": 52,
     "metadata": {},
     "output_type": "execute_result"
    }
   ],
   "source": [
    "a = a.flatten()\n",
    "a"
   ]
  },
  {
   "cell_type": "code",
   "execution_count": 53,
   "id": "421d65f0-39b3-4993-926d-668e7a0c1005",
   "metadata": {},
   "outputs": [
    {
     "data": {
      "text/plain": [
       "5"
      ]
     },
     "execution_count": 53,
     "metadata": {},
     "output_type": "execute_result"
    }
   ],
   "source": [
    "a[2]"
   ]
  },
  {
   "cell_type": "markdown",
   "id": "c44d4032-bdbe-4ea3-96e7-66d9cafa9ef8",
   "metadata": {},
   "source": [
    "**[行番号, 列番号]で指定**"
   ]
  },
  {
   "cell_type": "code",
   "execution_count": 71,
   "id": "6ea3abaa-3d36-41e9-9f60-520165c7cded",
   "metadata": {},
   "outputs": [
    {
     "data": {
      "text/plain": [
       "array([[ 0,  1,  2,  3,  4,  5,  6,  7],\n",
       "       [ 8,  9, 10, 11, 12, 13, 14, 15],\n",
       "       [16, 17, 18, 19, 20, 21, 22, 23],\n",
       "       [24, 25, 26, 27, 28, 29, 30, 31],\n",
       "       [32, 33, 34, 35, 36, 37, 38, 39],\n",
       "       [40, 41, 42, 43, 44, 45, 46, 47]])"
      ]
     },
     "execution_count": 71,
     "metadata": {},
     "output_type": "execute_result"
    }
   ],
   "source": [
    "c = np.arange(0, 48, 1).reshape(6, 8)\n",
    "c"
   ]
  },
  {
   "cell_type": "code",
   "execution_count": 31,
   "id": "76446d8f-4c36-4368-a3f5-bb49a8689bfe",
   "metadata": {},
   "outputs": [
    {
     "data": {
      "text/plain": [
       "9"
      ]
     },
     "execution_count": 31,
     "metadata": {},
     "output_type": "execute_result"
    }
   ],
   "source": [
    "# 2行3列目\n",
    "c[2, 3]"
   ]
  },
  {
   "cell_type": "code",
   "execution_count": 27,
   "id": "8a51f023-644a-46bc-bf61-d47958f585fb",
   "metadata": {},
   "outputs": [
    {
     "data": {
      "text/plain": [
       "array([5, 6, 3, 9, 3, 2, 5, 4])"
      ]
     },
     "execution_count": 27,
     "metadata": {},
     "output_type": "execute_result"
    }
   ],
   "source": [
    "# 2行目(2個目の要素とも言える)\n",
    "c[2]"
   ]
  },
  {
   "cell_type": "code",
   "execution_count": 29,
   "id": "da0f5f36-7dd7-457e-bf02-530222d8de57",
   "metadata": {},
   "outputs": [
    {
     "data": {
      "text/plain": [
       "9"
      ]
     },
     "execution_count": 29,
     "metadata": {},
     "output_type": "execute_result"
    }
   ],
   "source": [
    "# 2行3列目(2個目の要素の中の３個目の要素とも言える)\n",
    "c[2][3]"
   ]
  },
  {
   "cell_type": "markdown",
   "id": "89d049b5-ea3c-4c0a-97b7-fea3bf5c2748",
   "metadata": {},
   "source": [
    "**スライスで指定**"
   ]
  },
  {
   "cell_type": "code",
   "execution_count": 54,
   "id": "33106007-ea09-4404-bdc6-3809c6cad7c5",
   "metadata": {},
   "outputs": [
    {
     "data": {
      "text/plain": [
       "array([2, 0, 5, 9, 6, 4, 7, 3, 7])"
      ]
     },
     "execution_count": 54,
     "metadata": {},
     "output_type": "execute_result"
    }
   ],
   "source": [
    "# 1次元の場合\n",
    "a"
   ]
  },
  {
   "cell_type": "code",
   "execution_count": 56,
   "id": "791eedcf-77e5-4011-98b3-7ae4bba60800",
   "metadata": {},
   "outputs": [
    {
     "data": {
      "text/plain": [
       "array([9, 6, 4])"
      ]
     },
     "execution_count": 56,
     "metadata": {},
     "output_type": "execute_result"
    }
   ],
   "source": [
    "# 3から6個目まで取り出す(※6は含まれない)\n",
    "a[3:6]"
   ]
  },
  {
   "cell_type": "code",
   "execution_count": 65,
   "id": "eb03f854-1f3f-4677-88e0-16c9ead95bdb",
   "metadata": {},
   "outputs": [
    {
     "data": {
      "text/plain": [
       "array([9, 6, 4, 7, 3, 7])"
      ]
     },
     "execution_count": 65,
     "metadata": {},
     "output_type": "execute_result"
    }
   ],
   "source": [
    "# 3から全部\n",
    "a[3:]"
   ]
  },
  {
   "cell_type": "code",
   "execution_count": 66,
   "id": "e5612d89-a471-4a6e-b57c-c6de8da149ef",
   "metadata": {},
   "outputs": [
    {
     "data": {
      "text/plain": [
       "array([2, 0, 5])"
      ]
     },
     "execution_count": 66,
     "metadata": {},
     "output_type": "execute_result"
    }
   ],
   "source": [
    "# 3まで全部\n",
    "a[:3]"
   ]
  },
  {
   "cell_type": "code",
   "execution_count": 67,
   "id": "5c79c1c0-b645-43f3-86eb-2e1a8c3e870f",
   "metadata": {},
   "outputs": [
    {
     "data": {
      "text/plain": [
       "array([2, 0, 5, 9, 6, 4, 7, 3, 7])"
      ]
     },
     "execution_count": 67,
     "metadata": {},
     "output_type": "execute_result"
    }
   ],
   "source": [
    "# 全部\n",
    "a[:]"
   ]
  },
  {
   "cell_type": "code",
   "execution_count": 70,
   "id": "b559fb37-543f-41be-9468-934eb97f56f5",
   "metadata": {},
   "outputs": [
    {
     "data": {
      "text/plain": [
       "7"
      ]
     },
     "execution_count": 70,
     "metadata": {},
     "output_type": "execute_result"
    }
   ],
   "source": [
    "# 最後尾\n",
    "a[-1]"
   ]
  },
  {
   "cell_type": "code",
   "execution_count": 78,
   "id": "2818c0ac-f39a-4495-a89a-81529e54471d",
   "metadata": {},
   "outputs": [
    {
     "data": {
      "text/plain": [
       "array([[  1.        ,   3.02040816,   5.04081633,   7.06122449,\n",
       "          9.08163265],\n",
       "       [ 11.10204082,  13.12244898,  15.14285714,  17.16326531,\n",
       "         19.18367347],\n",
       "       [ 21.20408163,  23.2244898 ,  25.24489796,  27.26530612,\n",
       "         29.28571429],\n",
       "       [ 31.30612245,  33.32653061,  35.34693878,  37.36734694,\n",
       "         39.3877551 ],\n",
       "       [ 41.40816327,  43.42857143,  45.44897959,  47.46938776,\n",
       "         49.48979592],\n",
       "       [ 51.51020408,  53.53061224,  55.55102041,  57.57142857,\n",
       "         59.59183673],\n",
       "       [ 61.6122449 ,  63.63265306,  65.65306122,  67.67346939,\n",
       "         69.69387755],\n",
       "       [ 71.71428571,  73.73469388,  75.75510204,  77.7755102 ,\n",
       "         79.79591837],\n",
       "       [ 81.81632653,  83.83673469,  85.85714286,  87.87755102,\n",
       "         89.89795918],\n",
       "       [ 91.91836735,  93.93877551,  95.95918367,  97.97959184,\n",
       "        100.        ]])"
      ]
     },
     "execution_count": 78,
     "metadata": {},
     "output_type": "execute_result"
    }
   ],
   "source": [
    "# 2次元の場合\n",
    "d = np.linspace(1, 100, 50).reshape(10, 5)\n",
    "d"
   ]
  },
  {
   "cell_type": "code",
   "execution_count": 79,
   "id": "9ac8555a-a0f4-41f3-80d7-cdb9250db5f9",
   "metadata": {},
   "outputs": [
    {
     "data": {
      "text/plain": [
       "array([[21.20408163, 23.2244898 , 25.24489796, 27.26530612, 29.28571429],\n",
       "       [31.30612245, 33.32653061, 35.34693878, 37.36734694, 39.3877551 ]])"
      ]
     },
     "execution_count": 79,
     "metadata": {},
     "output_type": "execute_result"
    }
   ],
   "source": [
    "d[2:4]"
   ]
  },
  {
   "cell_type": "code",
   "execution_count": 80,
   "id": "a42eb0d0-f4bb-43fd-a63c-f65fdd6ac29e",
   "metadata": {},
   "outputs": [
    {
     "data": {
      "text/plain": [
       "array([[21.20408163, 23.2244898 , 25.24489796, 27.26530612, 29.28571429],\n",
       "       [31.30612245, 33.32653061, 35.34693878, 37.36734694, 39.3877551 ]])"
      ]
     },
     "execution_count": 80,
     "metadata": {},
     "output_type": "execute_result"
    }
   ],
   "source": [
    "# 注意\n",
    "d[2:4][0:3]"
   ]
  },
  {
   "cell_type": "code",
   "execution_count": 81,
   "id": "9e4312af-45fd-40dc-8563-62a24eb577ed",
   "metadata": {},
   "outputs": [
    {
     "data": {
      "text/plain": [
       "array([[21.20408163, 23.2244898 , 25.24489796],\n",
       "       [31.30612245, 33.32653061, 35.34693878]])"
      ]
     },
     "execution_count": 81,
     "metadata": {},
     "output_type": "execute_result"
    }
   ],
   "source": [
    "d[2:4, 0:3]"
   ]
  },
  {
   "cell_type": "markdown",
   "id": "23aa84c4-c1db-43e3-95f5-98f8490328eb",
   "metadata": {
    "jupyter": {
     "source_hidden": true
    },
    "tags": []
   },
   "source": [
    "### 参照渡しと値渡し"
   ]
  },
  {
   "cell_type": "markdown",
   "id": "3797af46-e684-4b61-9ed6-5077e63404c2",
   "metadata": {},
   "source": [
    "* listやnumpyを関数に渡して処理させると元のオブジェクトにも変更が加えられてしまうことがありバグの原因になりうる\n",
    "* 頭の片隅に入れておくとよい\n",
    "* listやnumpyを関数に食わせるときはcopy()しておくのが安全\n",
    "\n",
    "https://datawokagaku.com/numpy_generate/"
   ]
  },
  {
   "cell_type": "code",
   "execution_count": 109,
   "id": "ca2fcb28-6660-4413-9ec4-2e136c6da6be",
   "metadata": {},
   "outputs": [],
   "source": [
    "def change_hundred(array):\n",
    "\n",
    "    array[0] = 100\n",
    "    return array\n",
    "\n",
    "def change_hundred_copy(array):\n",
    "    \n",
    "    array_copy = array.copy()\n",
    "    array_copy[0] = 100\n",
    "    return array_copy"
   ]
  },
  {
   "cell_type": "code",
   "execution_count": 110,
   "id": "ef4ea43c-7815-4b26-9bdc-ce0f01c55d8c",
   "metadata": {},
   "outputs": [],
   "source": [
    "# array1とarray2は同じ値\n",
    "array_1 = np.arange(0, 4)\n",
    "array_2 = np.arange(0, 4)"
   ]
  },
  {
   "cell_type": "code",
   "execution_count": 111,
   "id": "73b86bce-d582-451b-a3f1-9f077fe84fc5",
   "metadata": {},
   "outputs": [],
   "source": [
    "# 関数に入れると\n",
    "output_array = change_hundred(array_1)\n",
    "output_array_copy = change_hundred_copy(array_2)"
   ]
  },
  {
   "cell_type": "code",
   "execution_count": 112,
   "id": "cf960c0a-acef-4e35-abb7-37fee77cfec0",
   "metadata": {},
   "outputs": [
    {
     "name": "stdout",
     "output_type": "stream",
     "text": [
      "[100   1   2   3]\n",
      "[0 1 2 3]\n"
     ]
    }
   ],
   "source": [
    "# 別の値になってしまった\n",
    "print(array_1)\n",
    "print(array_2)"
   ]
  },
  {
   "cell_type": "markdown",
   "id": "5fa0cb4b-55f1-4c75-8e7c-29cd9add0b90",
   "metadata": {
    "jp-MarkdownHeadingCollapsed": true,
    "tags": []
   },
   "source": [
    "### 便利関数まとめ"
   ]
  },
  {
   "cell_type": "markdown",
   "id": "2ba622be-27fa-4a32-af4d-41b30b1e53cf",
   "metadata": {},
   "source": [
    "|                                          |                                                                          | \n",
    "| ---------------------------------------- | ------------------------------------------------------------------------ | \n",
    "| .flatten()                               | 一列にする                                                               | \n",
    "| np.arange([start,] stop[, step])         | start以上stop未満の値をstepずつ増加させた値のarrayを生成                 | \n",
    "| np.linspace(start, stop, num=50)         | start以上stop未満の値を均等にnum個等分した値のarrayを生成                | \n",
    "| .copy()                                  | NumPy arrayをコピー                                                      | \n",
    "| np.zeros(shape)                          | 要素が全て０のndarrayを生成                                              | \n",
    "| np.ones(shape)                           | 要素が全て１のndarrayを生成                                              | \n",
    "| np.eye(N)                                | N x Nの単位行列を生成                                                    | \n",
    "| np.random.rand()                         | 0 ~ 1からランダムな数字で行列を生成                                      | \n",
    "| np.random.randn()                        | 標準正規分布から値をとって行列を生成                                     | \n",
    "| np.random.randint(low[, hight] [, size]) | low以上hight未満のintegerからランダムに，指定したsizeのndarrayを生成<br> | \n",
    "| .reshape(shape)                          | ndarrayのshapeを任意のshapeに変換                                        | \n",
    "|                                          |                                                                          | \n",
    "|                                          |                                                                          | "
   ]
  },
  {
   "cell_type": "markdown",
   "id": "f9a697c6-1294-4652-a6fc-5fa7afab1429",
   "metadata": {
    "tags": [],
    "toc-hr-collapsed": true
   },
   "source": [
    "# Pandas\n",
    "* 表計算用のライブラリ\n",
    "* 内部ではnumpyを使っているのでnumpyと扱い方は結構似てる部分もあるが、さらに便利な機能がたくさん搭載されている\n",
    "* importが必要"
   ]
  },
  {
   "cell_type": "code",
   "execution_count": 114,
   "id": "324bd0f1-7fbc-48aa-90b3-87c86496721b",
   "metadata": {},
   "outputs": [],
   "source": [
    "import pandas as pd"
   ]
  },
  {
   "cell_type": "markdown",
   "id": "c9876c2a-cf51-4839-b0e7-52677edba0f0",
   "metadata": {
    "tags": []
   },
   "source": [
    "## データのインポート"
   ]
  },
  {
   "cell_type": "markdown",
   "id": "838800f8-137a-4da0-9039-3882748fee5e",
   "metadata": {},
   "source": [
    "`pd.read_csv()` : csvファイルの読み込み\n",
    "\n",
    "| パラメータ      | 値  | 説明                   | \n",
    "| --------------- | --- | ---------------------- | \n",
    "| file_path(必須) | str | 読み込むファイルのパス | \n",
    "| encoding        | str | エンコード             | \n",
    "| skip_rows        | int | 先頭行を読み込まない   | "
   ]
  },
  {
   "cell_type": "markdown",
   "id": "4aecf3db-a315-40de-9350-e2d7aaeeb2a3",
   "metadata": {},
   "source": [
    "`pd.read_excel()` : excelファイルの読み込み\n",
    "\n",
    "| パラメータ      | 値  | 説明                   | \n",
    "| --------------- | --- | ---------------------- | \n",
    "| file_path(必須) | str | 読み込むファイルのパス | \n",
    "| encoding        | str | エンコード             |\n",
    "| skip_rows        | int | 先頭行を読み込まない   | \n",
    "|sheet_name       | str | シート指定             |"
   ]
  },
  {
   "cell_type": "code",
   "execution_count": 125,
   "id": "d334d1b8-9b1b-4dfd-93b3-f05971a47317",
   "metadata": {
    "collapsed": true,
    "jupyter": {
     "outputs_hidden": true
    },
    "tags": []
   },
   "outputs": [
    {
     "name": "stderr",
     "output_type": "stream",
     "text": [
      "/opt/anaconda3/lib/python3.7/site-packages/IPython/core/interactiveshell.py:3457: DtypeWarning: Columns (45) have mixed types.Specify dtype option on import or set low_memory=False.\n",
      "  exec(code_obj, self.user_global_ns, self.user_ns)\n"
     ]
    },
    {
     "data": {
      "text/html": [
       "<div>\n",
       "<style scoped>\n",
       "    .dataframe tbody tr th:only-of-type {\n",
       "        vertical-align: middle;\n",
       "    }\n",
       "\n",
       "    .dataframe tbody tr th {\n",
       "        vertical-align: top;\n",
       "    }\n",
       "\n",
       "    .dataframe thead th {\n",
       "        text-align: right;\n",
       "    }\n",
       "</style>\n",
       "<table border=\"1\" class=\"dataframe\">\n",
       "  <thead>\n",
       "    <tr style=\"text-align: right;\">\n",
       "      <th></th>\n",
       "      <th>year</th>\n",
       "      <th>datanum</th>\n",
       "      <th>serial</th>\n",
       "      <th>cbserial</th>\n",
       "      <th>numprec</th>\n",
       "      <th>subsamp</th>\n",
       "      <th>hhwt</th>\n",
       "      <th>hhtype</th>\n",
       "      <th>cluster</th>\n",
       "      <th>adjust</th>\n",
       "      <th>...</th>\n",
       "      <th>migcounty1</th>\n",
       "      <th>migmet131</th>\n",
       "      <th>vetdisab</th>\n",
       "      <th>diffrem</th>\n",
       "      <th>diffphys</th>\n",
       "      <th>diffmob</th>\n",
       "      <th>diffcare</th>\n",
       "      <th>diffsens</th>\n",
       "      <th>diffeye</th>\n",
       "      <th>diffhear</th>\n",
       "    </tr>\n",
       "  </thead>\n",
       "  <tbody>\n",
       "    <tr>\n",
       "      <th>0</th>\n",
       "      <td>2017</td>\n",
       "      <td>1</td>\n",
       "      <td>177686</td>\n",
       "      <td>2.017001e+12</td>\n",
       "      <td>9</td>\n",
       "      <td>64</td>\n",
       "      <td>55</td>\n",
       "      <td>female householder, no husband present</td>\n",
       "      <td>2.017002e+12</td>\n",
       "      <td>1.011189</td>\n",
       "      <td>...</td>\n",
       "      <td>0</td>\n",
       "      <td>not in identifiable area</td>\n",
       "      <td>NaN</td>\n",
       "      <td>NaN</td>\n",
       "      <td>NaN</td>\n",
       "      <td>NaN</td>\n",
       "      <td>NaN</td>\n",
       "      <td>no vision or hearing difficulty</td>\n",
       "      <td>no</td>\n",
       "      <td>no</td>\n",
       "    </tr>\n",
       "    <tr>\n",
       "      <th>1</th>\n",
       "      <td>2017</td>\n",
       "      <td>1</td>\n",
       "      <td>1200045</td>\n",
       "      <td>2.017001e+12</td>\n",
       "      <td>6</td>\n",
       "      <td>79</td>\n",
       "      <td>25</td>\n",
       "      <td>male householder, no wife present</td>\n",
       "      <td>2.017012e+12</td>\n",
       "      <td>1.011189</td>\n",
       "      <td>...</td>\n",
       "      <td>0</td>\n",
       "      <td>not in identifiable area</td>\n",
       "      <td>NaN</td>\n",
       "      <td>no cognitive difficulty</td>\n",
       "      <td>no ambulatory difficulty</td>\n",
       "      <td>no independent living difficulty</td>\n",
       "      <td>no</td>\n",
       "      <td>no vision or hearing difficulty</td>\n",
       "      <td>no</td>\n",
       "      <td>no</td>\n",
       "    </tr>\n",
       "    <tr>\n",
       "      <th>2</th>\n",
       "      <td>2017</td>\n",
       "      <td>1</td>\n",
       "      <td>70831</td>\n",
       "      <td>2.017000e+12</td>\n",
       "      <td>1 person record</td>\n",
       "      <td>36</td>\n",
       "      <td>57</td>\n",
       "      <td>male householder, living alone</td>\n",
       "      <td>2.017001e+12</td>\n",
       "      <td>1.011189</td>\n",
       "      <td>...</td>\n",
       "      <td>0</td>\n",
       "      <td>not in identifiable area</td>\n",
       "      <td>NaN</td>\n",
       "      <td>has cognitive difficulty</td>\n",
       "      <td>no ambulatory difficulty</td>\n",
       "      <td>no independent living difficulty</td>\n",
       "      <td>no</td>\n",
       "      <td>no vision or hearing difficulty</td>\n",
       "      <td>no</td>\n",
       "      <td>no</td>\n",
       "    </tr>\n",
       "    <tr>\n",
       "      <th>3</th>\n",
       "      <td>2017</td>\n",
       "      <td>1</td>\n",
       "      <td>557128</td>\n",
       "      <td>2.017001e+12</td>\n",
       "      <td>2</td>\n",
       "      <td>10</td>\n",
       "      <td>98</td>\n",
       "      <td>married-couple family household</td>\n",
       "      <td>2.017006e+12</td>\n",
       "      <td>1.011189</td>\n",
       "      <td>...</td>\n",
       "      <td>0</td>\n",
       "      <td>not in identifiable area</td>\n",
       "      <td>NaN</td>\n",
       "      <td>no cognitive difficulty</td>\n",
       "      <td>no ambulatory difficulty</td>\n",
       "      <td>no independent living difficulty</td>\n",
       "      <td>no</td>\n",
       "      <td>no vision or hearing difficulty</td>\n",
       "      <td>no</td>\n",
       "      <td>no</td>\n",
       "    </tr>\n",
       "    <tr>\n",
       "      <th>4</th>\n",
       "      <td>2017</td>\n",
       "      <td>1</td>\n",
       "      <td>614890</td>\n",
       "      <td>2.017001e+12</td>\n",
       "      <td>4</td>\n",
       "      <td>96</td>\n",
       "      <td>54</td>\n",
       "      <td>married-couple family household</td>\n",
       "      <td>2.017006e+12</td>\n",
       "      <td>1.011189</td>\n",
       "      <td>...</td>\n",
       "      <td>0</td>\n",
       "      <td>not in identifiable area</td>\n",
       "      <td>NaN</td>\n",
       "      <td>NaN</td>\n",
       "      <td>NaN</td>\n",
       "      <td>NaN</td>\n",
       "      <td>NaN</td>\n",
       "      <td>no vision or hearing difficulty</td>\n",
       "      <td>no</td>\n",
       "      <td>no</td>\n",
       "    </tr>\n",
       "    <tr>\n",
       "      <th>...</th>\n",
       "      <td>...</td>\n",
       "      <td>...</td>\n",
       "      <td>...</td>\n",
       "      <td>...</td>\n",
       "      <td>...</td>\n",
       "      <td>...</td>\n",
       "      <td>...</td>\n",
       "      <td>...</td>\n",
       "      <td>...</td>\n",
       "      <td>...</td>\n",
       "      <td>...</td>\n",
       "      <td>...</td>\n",
       "      <td>...</td>\n",
       "      <td>...</td>\n",
       "      <td>...</td>\n",
       "      <td>...</td>\n",
       "      <td>...</td>\n",
       "      <td>...</td>\n",
       "      <td>...</td>\n",
       "      <td>...</td>\n",
       "      <td>...</td>\n",
       "    </tr>\n",
       "    <tr>\n",
       "      <th>318999</th>\n",
       "      <td>2017</td>\n",
       "      <td>1</td>\n",
       "      <td>734396</td>\n",
       "      <td>2.017001e+12</td>\n",
       "      <td>4</td>\n",
       "      <td>78</td>\n",
       "      <td>100</td>\n",
       "      <td>married-couple family household</td>\n",
       "      <td>2.017007e+12</td>\n",
       "      <td>1.011189</td>\n",
       "      <td>...</td>\n",
       "      <td>0</td>\n",
       "      <td>not in identifiable area</td>\n",
       "      <td>NaN</td>\n",
       "      <td>no cognitive difficulty</td>\n",
       "      <td>no ambulatory difficulty</td>\n",
       "      <td>no independent living difficulty</td>\n",
       "      <td>no</td>\n",
       "      <td>no vision or hearing difficulty</td>\n",
       "      <td>no</td>\n",
       "      <td>no</td>\n",
       "    </tr>\n",
       "    <tr>\n",
       "      <th>319000</th>\n",
       "      <td>2017</td>\n",
       "      <td>1</td>\n",
       "      <td>586263</td>\n",
       "      <td>2.017001e+12</td>\n",
       "      <td>4</td>\n",
       "      <td>57</td>\n",
       "      <td>77</td>\n",
       "      <td>married-couple family household</td>\n",
       "      <td>2.017006e+12</td>\n",
       "      <td>1.011189</td>\n",
       "      <td>...</td>\n",
       "      <td>0</td>\n",
       "      <td>not in identifiable area</td>\n",
       "      <td>NaN</td>\n",
       "      <td>NaN</td>\n",
       "      <td>NaN</td>\n",
       "      <td>NaN</td>\n",
       "      <td>NaN</td>\n",
       "      <td>no vision or hearing difficulty</td>\n",
       "      <td>no</td>\n",
       "      <td>no</td>\n",
       "    </tr>\n",
       "    <tr>\n",
       "      <th>319001</th>\n",
       "      <td>2017</td>\n",
       "      <td>1</td>\n",
       "      <td>510444</td>\n",
       "      <td>2.017001e+12</td>\n",
       "      <td>2</td>\n",
       "      <td>43</td>\n",
       "      <td>152</td>\n",
       "      <td>female householder, no husband present</td>\n",
       "      <td>2.017005e+12</td>\n",
       "      <td>1.011189</td>\n",
       "      <td>...</td>\n",
       "      <td>0</td>\n",
       "      <td>not in identifiable area</td>\n",
       "      <td>NaN</td>\n",
       "      <td>has cognitive difficulty</td>\n",
       "      <td>no ambulatory difficulty</td>\n",
       "      <td>no independent living difficulty</td>\n",
       "      <td>no</td>\n",
       "      <td>no vision or hearing difficulty</td>\n",
       "      <td>no</td>\n",
       "      <td>no</td>\n",
       "    </tr>\n",
       "    <tr>\n",
       "      <th>319002</th>\n",
       "      <td>2017</td>\n",
       "      <td>1</td>\n",
       "      <td>1220474</td>\n",
       "      <td>2.017001e+12</td>\n",
       "      <td>4</td>\n",
       "      <td>16</td>\n",
       "      <td>148</td>\n",
       "      <td>married-couple family household</td>\n",
       "      <td>2.017012e+12</td>\n",
       "      <td>1.011189</td>\n",
       "      <td>...</td>\n",
       "      <td>0</td>\n",
       "      <td>not in identifiable area</td>\n",
       "      <td>NaN</td>\n",
       "      <td>no cognitive difficulty</td>\n",
       "      <td>no ambulatory difficulty</td>\n",
       "      <td>no independent living difficulty</td>\n",
       "      <td>no</td>\n",
       "      <td>no vision or hearing difficulty</td>\n",
       "      <td>no</td>\n",
       "      <td>no</td>\n",
       "    </tr>\n",
       "    <tr>\n",
       "      <th>319003</th>\n",
       "      <td>2017</td>\n",
       "      <td>1</td>\n",
       "      <td>219435</td>\n",
       "      <td>2.017000e+12</td>\n",
       "      <td>2</td>\n",
       "      <td>17</td>\n",
       "      <td>47</td>\n",
       "      <td>married-couple family household</td>\n",
       "      <td>2.017002e+12</td>\n",
       "      <td>1.011189</td>\n",
       "      <td>...</td>\n",
       "      <td>0</td>\n",
       "      <td>not in identifiable area</td>\n",
       "      <td>NaN</td>\n",
       "      <td>no cognitive difficulty</td>\n",
       "      <td>no ambulatory difficulty</td>\n",
       "      <td>no independent living difficulty</td>\n",
       "      <td>no</td>\n",
       "      <td>no vision or hearing difficulty</td>\n",
       "      <td>no</td>\n",
       "      <td>no</td>\n",
       "    </tr>\n",
       "  </tbody>\n",
       "</table>\n",
       "<p>319004 rows × 104 columns</p>\n",
       "</div>"
      ],
      "text/plain": [
       "        year  datanum   serial      cbserial          numprec subsamp  hhwt  \\\n",
       "0       2017        1   177686  2.017001e+12                9      64    55   \n",
       "1       2017        1  1200045  2.017001e+12                6      79    25   \n",
       "2       2017        1    70831  2.017000e+12  1 person record      36    57   \n",
       "3       2017        1   557128  2.017001e+12                2      10    98   \n",
       "4       2017        1   614890  2.017001e+12                4      96    54   \n",
       "...      ...      ...      ...           ...              ...     ...   ...   \n",
       "318999  2017        1   734396  2.017001e+12                4      78   100   \n",
       "319000  2017        1   586263  2.017001e+12                4      57    77   \n",
       "319001  2017        1   510444  2.017001e+12                2      43   152   \n",
       "319002  2017        1  1220474  2.017001e+12                4      16   148   \n",
       "319003  2017        1   219435  2.017000e+12                2      17    47   \n",
       "\n",
       "                                        hhtype       cluster    adjust  ...  \\\n",
       "0       female householder, no husband present  2.017002e+12  1.011189  ...   \n",
       "1            male householder, no wife present  2.017012e+12  1.011189  ...   \n",
       "2               male householder, living alone  2.017001e+12  1.011189  ...   \n",
       "3              married-couple family household  2.017006e+12  1.011189  ...   \n",
       "4              married-couple family household  2.017006e+12  1.011189  ...   \n",
       "...                                        ...           ...       ...  ...   \n",
       "318999         married-couple family household  2.017007e+12  1.011189  ...   \n",
       "319000         married-couple family household  2.017006e+12  1.011189  ...   \n",
       "319001  female householder, no husband present  2.017005e+12  1.011189  ...   \n",
       "319002         married-couple family household  2.017012e+12  1.011189  ...   \n",
       "319003         married-couple family household  2.017002e+12  1.011189  ...   \n",
       "\n",
       "        migcounty1                 migmet131 vetdisab  \\\n",
       "0                0  not in identifiable area      NaN   \n",
       "1                0  not in identifiable area      NaN   \n",
       "2                0  not in identifiable area      NaN   \n",
       "3                0  not in identifiable area      NaN   \n",
       "4                0  not in identifiable area      NaN   \n",
       "...            ...                       ...      ...   \n",
       "318999           0  not in identifiable area      NaN   \n",
       "319000           0  not in identifiable area      NaN   \n",
       "319001           0  not in identifiable area      NaN   \n",
       "319002           0  not in identifiable area      NaN   \n",
       "319003           0  not in identifiable area      NaN   \n",
       "\n",
       "                         diffrem                  diffphys  \\\n",
       "0                            NaN                       NaN   \n",
       "1        no cognitive difficulty  no ambulatory difficulty   \n",
       "2       has cognitive difficulty  no ambulatory difficulty   \n",
       "3        no cognitive difficulty  no ambulatory difficulty   \n",
       "4                            NaN                       NaN   \n",
       "...                          ...                       ...   \n",
       "318999   no cognitive difficulty  no ambulatory difficulty   \n",
       "319000                       NaN                       NaN   \n",
       "319001  has cognitive difficulty  no ambulatory difficulty   \n",
       "319002   no cognitive difficulty  no ambulatory difficulty   \n",
       "319003   no cognitive difficulty  no ambulatory difficulty   \n",
       "\n",
       "                                 diffmob diffcare  \\\n",
       "0                                    NaN      NaN   \n",
       "1       no independent living difficulty       no   \n",
       "2       no independent living difficulty       no   \n",
       "3       no independent living difficulty       no   \n",
       "4                                    NaN      NaN   \n",
       "...                                  ...      ...   \n",
       "318999  no independent living difficulty       no   \n",
       "319000                               NaN      NaN   \n",
       "319001  no independent living difficulty       no   \n",
       "319002  no independent living difficulty       no   \n",
       "319003  no independent living difficulty       no   \n",
       "\n",
       "                               diffsens  diffeye  diffhear  \n",
       "0       no vision or hearing difficulty       no        no  \n",
       "1       no vision or hearing difficulty       no        no  \n",
       "2       no vision or hearing difficulty       no        no  \n",
       "3       no vision or hearing difficulty       no        no  \n",
       "4       no vision or hearing difficulty       no        no  \n",
       "...                                 ...      ...       ...  \n",
       "318999  no vision or hearing difficulty       no        no  \n",
       "319000  no vision or hearing difficulty       no        no  \n",
       "319001  no vision or hearing difficulty       no        no  \n",
       "319002  no vision or hearing difficulty       no        no  \n",
       "319003  no vision or hearing difficulty       no        no  \n",
       "\n",
       "[319004 rows x 104 columns]"
      ]
     },
     "execution_count": 125,
     "metadata": {},
     "output_type": "execute_result"
    }
   ],
   "source": [
    "# American Comunities Survay(ACS):米国国税調査局によるデータ\n",
    "df = pd.read_csv('./US_ACS_2017_10pct_sample.csv', encoding='sjis')"
   ]
  },
  {
   "cell_type": "markdown",
   "id": "24cd2b30-209b-49c3-9db2-ec1b34357255",
   "metadata": {
    "tags": [],
    "toc-hr-collapsed": true
   },
   "source": [
    "## データ分析\n",
    "**ACSデータを使って賃金と学歴/人種の関係を分析**"
   ]
  },
  {
   "cell_type": "markdown",
   "id": "b118e94e-711a-4586-a881-d964aaa623ab",
   "metadata": {
    "jp-MarkdownHeadingCollapsed": true,
    "tags": []
   },
   "source": [
    "### utils\n",
    "**df操作** <br>\n",
    "`df.columns` : カラムのリスト <br>\n",
    "`df.index ` : インデックスのリスト <br>\n",
    "`df.head()` : dfの先頭n行を抽出 <br>\n",
    "`df.tail()` : dfの最後尾n行を抽出 <br>\n",
    "`df.sample()` : ランダムにn行抽出 <br>\n",
    "`df['column_name']` : column_name列抽出 <br>\n",
    "`df.loc['column_name']` : column_name列抽出 <br>\n",
    "`df.loc[mask]` : mask条件文がTrueなものを抽出 <br>\n",
    "`df.iloc[index_num, column_num]` : 行列番号で抽出 <br>\n",
    "`df.rename(columns={'previous_name':'new_name'})` : カラム名の変更 <br>\n",
    "`df.set_index('column_name')` : column_name列をindexにする(時刻など) <br>\n",
    "`df.reset_index()` : indexを0から振りなおす <br> <br>\n",
    "**統計量** <br>\n",
    "`df.describe()` : 統計量まとめ <br>\n",
    "`seriese.value_counts` : 同じ値をカウント <br>\n",
    "`df.groupby('column_name')` : column_name列の値でグルーピング <br> <br>\n",
    "**欠損値** <br>\n",
    "`df.isna()` : NaNの抽出 <br>\n",
    "`df.dropna()` : NaNをドロップ <br>\n",
    "`df.fillna()` : NaNに値を代入 <br>\n",
    "`df.replace()` : ある値を別の値に置き換える(np.nan) <br> <br>\n",
    "**その他** <br>\n",
    "`pd.concat([df1, df2])` : df1とdf2の結合 <br>\n",
    "`df1.merge(df2)` : df1とdf2の結合　キーや結合方法を指定可能"
   ]
  },
  {
   "cell_type": "markdown",
   "id": "fc678cfd-7e84-45ea-a4bb-995a05447c37",
   "metadata": {},
   "source": [
    "### 1. DataFrameの全体像確認"
   ]
  },
  {
   "cell_type": "code",
   "execution_count": 138,
   "id": "31251dba-a1ab-45aa-a898-15d23d666304",
   "metadata": {},
   "outputs": [
    {
     "data": {
      "text/html": [
       "<div>\n",
       "<style scoped>\n",
       "    .dataframe tbody tr th:only-of-type {\n",
       "        vertical-align: middle;\n",
       "    }\n",
       "\n",
       "    .dataframe tbody tr th {\n",
       "        vertical-align: top;\n",
       "    }\n",
       "\n",
       "    .dataframe thead th {\n",
       "        text-align: right;\n",
       "    }\n",
       "</style>\n",
       "<table border=\"1\" class=\"dataframe\">\n",
       "  <thead>\n",
       "    <tr style=\"text-align: right;\">\n",
       "      <th></th>\n",
       "      <th>year</th>\n",
       "      <th>datanum</th>\n",
       "      <th>serial</th>\n",
       "      <th>cbserial</th>\n",
       "      <th>numprec</th>\n",
       "      <th>subsamp</th>\n",
       "      <th>hhwt</th>\n",
       "      <th>hhtype</th>\n",
       "      <th>cluster</th>\n",
       "      <th>adjust</th>\n",
       "      <th>...</th>\n",
       "      <th>migcounty1</th>\n",
       "      <th>migmet131</th>\n",
       "      <th>vetdisab</th>\n",
       "      <th>diffrem</th>\n",
       "      <th>diffphys</th>\n",
       "      <th>diffmob</th>\n",
       "      <th>diffcare</th>\n",
       "      <th>diffsens</th>\n",
       "      <th>diffeye</th>\n",
       "      <th>diffhear</th>\n",
       "    </tr>\n",
       "  </thead>\n",
       "  <tbody>\n",
       "    <tr>\n",
       "      <th>0</th>\n",
       "      <td>2017</td>\n",
       "      <td>1</td>\n",
       "      <td>177686</td>\n",
       "      <td>2.017001e+12</td>\n",
       "      <td>9</td>\n",
       "      <td>64</td>\n",
       "      <td>55</td>\n",
       "      <td>female householder, no husband present</td>\n",
       "      <td>2.017002e+12</td>\n",
       "      <td>1.011189</td>\n",
       "      <td>...</td>\n",
       "      <td>0</td>\n",
       "      <td>not in identifiable area</td>\n",
       "      <td>NaN</td>\n",
       "      <td>NaN</td>\n",
       "      <td>NaN</td>\n",
       "      <td>NaN</td>\n",
       "      <td>NaN</td>\n",
       "      <td>no vision or hearing difficulty</td>\n",
       "      <td>no</td>\n",
       "      <td>no</td>\n",
       "    </tr>\n",
       "    <tr>\n",
       "      <th>1</th>\n",
       "      <td>2017</td>\n",
       "      <td>1</td>\n",
       "      <td>1200045</td>\n",
       "      <td>2.017001e+12</td>\n",
       "      <td>6</td>\n",
       "      <td>79</td>\n",
       "      <td>25</td>\n",
       "      <td>male householder, no wife present</td>\n",
       "      <td>2.017012e+12</td>\n",
       "      <td>1.011189</td>\n",
       "      <td>...</td>\n",
       "      <td>0</td>\n",
       "      <td>not in identifiable area</td>\n",
       "      <td>NaN</td>\n",
       "      <td>no cognitive difficulty</td>\n",
       "      <td>no ambulatory difficulty</td>\n",
       "      <td>no independent living difficulty</td>\n",
       "      <td>no</td>\n",
       "      <td>no vision or hearing difficulty</td>\n",
       "      <td>no</td>\n",
       "      <td>no</td>\n",
       "    </tr>\n",
       "    <tr>\n",
       "      <th>2</th>\n",
       "      <td>2017</td>\n",
       "      <td>1</td>\n",
       "      <td>70831</td>\n",
       "      <td>2.017000e+12</td>\n",
       "      <td>1 person record</td>\n",
       "      <td>36</td>\n",
       "      <td>57</td>\n",
       "      <td>male householder, living alone</td>\n",
       "      <td>2.017001e+12</td>\n",
       "      <td>1.011189</td>\n",
       "      <td>...</td>\n",
       "      <td>0</td>\n",
       "      <td>not in identifiable area</td>\n",
       "      <td>NaN</td>\n",
       "      <td>has cognitive difficulty</td>\n",
       "      <td>no ambulatory difficulty</td>\n",
       "      <td>no independent living difficulty</td>\n",
       "      <td>no</td>\n",
       "      <td>no vision or hearing difficulty</td>\n",
       "      <td>no</td>\n",
       "      <td>no</td>\n",
       "    </tr>\n",
       "    <tr>\n",
       "      <th>3</th>\n",
       "      <td>2017</td>\n",
       "      <td>1</td>\n",
       "      <td>557128</td>\n",
       "      <td>2.017001e+12</td>\n",
       "      <td>2</td>\n",
       "      <td>10</td>\n",
       "      <td>98</td>\n",
       "      <td>married-couple family household</td>\n",
       "      <td>2.017006e+12</td>\n",
       "      <td>1.011189</td>\n",
       "      <td>...</td>\n",
       "      <td>0</td>\n",
       "      <td>not in identifiable area</td>\n",
       "      <td>NaN</td>\n",
       "      <td>no cognitive difficulty</td>\n",
       "      <td>no ambulatory difficulty</td>\n",
       "      <td>no independent living difficulty</td>\n",
       "      <td>no</td>\n",
       "      <td>no vision or hearing difficulty</td>\n",
       "      <td>no</td>\n",
       "      <td>no</td>\n",
       "    </tr>\n",
       "    <tr>\n",
       "      <th>4</th>\n",
       "      <td>2017</td>\n",
       "      <td>1</td>\n",
       "      <td>614890</td>\n",
       "      <td>2.017001e+12</td>\n",
       "      <td>4</td>\n",
       "      <td>96</td>\n",
       "      <td>54</td>\n",
       "      <td>married-couple family household</td>\n",
       "      <td>2.017006e+12</td>\n",
       "      <td>1.011189</td>\n",
       "      <td>...</td>\n",
       "      <td>0</td>\n",
       "      <td>not in identifiable area</td>\n",
       "      <td>NaN</td>\n",
       "      <td>NaN</td>\n",
       "      <td>NaN</td>\n",
       "      <td>NaN</td>\n",
       "      <td>NaN</td>\n",
       "      <td>no vision or hearing difficulty</td>\n",
       "      <td>no</td>\n",
       "      <td>no</td>\n",
       "    </tr>\n",
       "  </tbody>\n",
       "</table>\n",
       "<p>5 rows × 104 columns</p>\n",
       "</div>"
      ],
      "text/plain": [
       "   year  datanum   serial      cbserial          numprec subsamp  hhwt  \\\n",
       "0  2017        1   177686  2.017001e+12                9      64    55   \n",
       "1  2017        1  1200045  2.017001e+12                6      79    25   \n",
       "2  2017        1    70831  2.017000e+12  1 person record      36    57   \n",
       "3  2017        1   557128  2.017001e+12                2      10    98   \n",
       "4  2017        1   614890  2.017001e+12                4      96    54   \n",
       "\n",
       "                                   hhtype       cluster    adjust  ...  \\\n",
       "0  female householder, no husband present  2.017002e+12  1.011189  ...   \n",
       "1       male householder, no wife present  2.017012e+12  1.011189  ...   \n",
       "2          male householder, living alone  2.017001e+12  1.011189  ...   \n",
       "3         married-couple family household  2.017006e+12  1.011189  ...   \n",
       "4         married-couple family household  2.017006e+12  1.011189  ...   \n",
       "\n",
       "   migcounty1                 migmet131 vetdisab                   diffrem  \\\n",
       "0           0  not in identifiable area      NaN                       NaN   \n",
       "1           0  not in identifiable area      NaN   no cognitive difficulty   \n",
       "2           0  not in identifiable area      NaN  has cognitive difficulty   \n",
       "3           0  not in identifiable area      NaN   no cognitive difficulty   \n",
       "4           0  not in identifiable area      NaN                       NaN   \n",
       "\n",
       "                   diffphys                           diffmob diffcare  \\\n",
       "0                       NaN                               NaN      NaN   \n",
       "1  no ambulatory difficulty  no independent living difficulty       no   \n",
       "2  no ambulatory difficulty  no independent living difficulty       no   \n",
       "3  no ambulatory difficulty  no independent living difficulty       no   \n",
       "4                       NaN                               NaN      NaN   \n",
       "\n",
       "                          diffsens  diffeye  diffhear  \n",
       "0  no vision or hearing difficulty       no        no  \n",
       "1  no vision or hearing difficulty       no        no  \n",
       "2  no vision or hearing difficulty       no        no  \n",
       "3  no vision or hearing difficulty       no        no  \n",
       "4  no vision or hearing difficulty       no        no  \n",
       "\n",
       "[5 rows x 104 columns]"
      ]
     },
     "execution_count": 138,
     "metadata": {},
     "output_type": "execute_result"
    }
   ],
   "source": [
    "df.head()"
   ]
  },
  {
   "cell_type": "markdown",
   "id": "ef7f1fcb-ad9d-416f-a625-7ab395709b0e",
   "metadata": {
    "tags": []
   },
   "source": [
    "### 2. columnsの確認"
   ]
  },
  {
   "cell_type": "code",
   "execution_count": 126,
   "id": "98ced34c-5d00-417c-b051-f9193331db75",
   "metadata": {},
   "outputs": [
    {
     "data": {
      "text/plain": [
       "Index(['year', 'datanum', 'serial', 'cbserial', 'numprec', 'subsamp', 'hhwt',\n",
       "       'hhtype', 'cluster', 'adjust',\n",
       "       ...\n",
       "       'migcounty1', 'migmet131', 'vetdisab', 'diffrem', 'diffphys', 'diffmob',\n",
       "       'diffcare', 'diffsens', 'diffeye', 'diffhear'],\n",
       "      dtype='object', length=104)"
      ]
     },
     "execution_count": 126,
     "metadata": {},
     "output_type": "execute_result"
    }
   ],
   "source": [
    "# データが多い場合は全部は表示してくれない\n",
    "df.columns"
   ]
  },
  {
   "cell_type": "code",
   "execution_count": 127,
   "id": "0bd5ccb9-e2d8-4651-90cc-5d9ecae6eae2",
   "metadata": {
    "collapsed": true,
    "jupyter": {
     "outputs_hidden": true
    },
    "tags": []
   },
   "outputs": [
    {
     "name": "stdout",
     "output_type": "stream",
     "text": [
      "year\n",
      "datanum\n",
      "serial\n",
      "cbserial\n",
      "numprec\n",
      "subsamp\n",
      "hhwt\n",
      "hhtype\n",
      "cluster\n",
      "adjust\n",
      "cpi99\n",
      "region\n",
      "stateicp\n",
      "statefip\n",
      "countyicp\n",
      "countyfip\n",
      "metro\n",
      "city\n",
      "citypop\n",
      "strata\n",
      "gq\n",
      "farm\n",
      "ownershp\n",
      "ownershpd\n",
      "mortgage\n",
      "mortgag2\n",
      "mortamt1\n",
      "mortamt2\n",
      "respmode\n",
      "pernum\n",
      "cbpernum\n",
      "perwt\n",
      "slwt\n",
      "famunit\n",
      "sex\n",
      "age\n",
      "marst\n",
      "birthyr\n",
      "race\n",
      "raced\n",
      "hispan\n",
      "hispand\n",
      "bpl\n",
      "bpld\n",
      "citizen\n",
      "yrnatur\n",
      "yrimmig\n",
      "language\n",
      "languaged\n",
      "speakeng\n",
      "hcovany\n",
      "hcovpriv\n",
      "hinsemp\n",
      "hinspur\n",
      "hinstri\n",
      "hcovpub\n",
      "hinscaid\n",
      "hinscare\n",
      "hinsva\n",
      "hinsihs\n",
      "school\n",
      "educ\n",
      "educd\n",
      "gradeatt\n",
      "gradeattd\n",
      "schltype\n",
      "degfield\n",
      "degfieldd\n",
      "degfield2\n",
      "degfield2d\n",
      "empstat\n",
      "empstatd\n",
      "labforce\n",
      "occ\n",
      "ind\n",
      "classwkr\n",
      "classwkrd\n",
      "looking\n",
      "availble\n",
      "inctot\n",
      "ftotinc\n",
      "incwage\n",
      "incbus00\n",
      "incss\n",
      "incwelfr\n",
      "incinvst\n",
      "incretir\n",
      "incsupp\n",
      "incother\n",
      "incearn\n",
      "poverty\n",
      "migrate1\n",
      "migrate1d\n",
      "migplac1\n",
      "migcounty1\n",
      "migmet131\n",
      "vetdisab\n",
      "diffrem\n",
      "diffphys\n",
      "diffmob\n",
      "diffcare\n",
      "diffsens\n",
      "diffeye\n",
      "diffhear\n"
     ]
    }
   ],
   "source": [
    "# for文でprint()すれば全部のカラムを確認できる\n",
    "for c in df.columns:\n",
    "    print(c)"
   ]
  },
  {
   "cell_type": "markdown",
   "id": "fecdf886-294d-4bd3-9a26-6b78d50df3dd",
   "metadata": {},
   "source": [
    "### 3. データ成型\n",
    "**平均所得(`columns = 'inctot'`)**"
   ]
  },
  {
   "cell_type": "code",
   "execution_count": 129,
   "id": "7e77053b-fe6a-4db3-980b-a50b098a92af",
   "metadata": {},
   "outputs": [
    {
     "data": {
      "text/plain": [
       "count    3.190040e+05\n",
       "mean     1.723646e+06\n",
       "std      3.732326e+06\n",
       "min     -9.000000e+03\n",
       "25%      1.050000e+04\n",
       "50%      3.370000e+04\n",
       "75%      9.140000e+04\n",
       "max      9.999999e+06\n",
       "Name: inctot, dtype: float64"
      ]
     },
     "execution_count": 129,
     "metadata": {},
     "output_type": "execute_result"
    }
   ],
   "source": [
    "df['inctot'].describe()"
   ]
  },
  {
   "cell_type": "code",
   "execution_count": 131,
   "id": "9f38427e-453d-4115-81c8-809c6b77d40d",
   "metadata": {},
   "outputs": [
    {
     "data": {
      "text/plain": [
       "1723646.2703978634"
      ]
     },
     "execution_count": 131,
     "metadata": {},
     "output_type": "execute_result"
    }
   ],
   "source": [
    "# それぞれの統計量を個別に抽出することも可\n",
    "# 以下のような書き方もあるが非推奨(紹介のみ)\n",
    "df.inctot.mean()"
   ]
  },
  {
   "cell_type": "code",
   "execution_count": 132,
   "id": "1db67665-19ca-4f1d-85e9-61e1ffe61c08",
   "metadata": {},
   "outputs": [
    {
     "data": {
      "text/plain": [
       "1723646.2703978634"
      ]
     },
     "execution_count": 132,
     "metadata": {},
     "output_type": "execute_result"
    }
   ],
   "source": [
    "df['inctot'].describe()['mean']"
   ]
  },
  {
   "cell_type": "markdown",
   "id": "87a10942-5ba9-4ad6-a3de-8810c5b581fd",
   "metadata": {},
   "source": [
    "**平均所得が高すぎる→max値がどうも怪しい**"
   ]
  },
  {
   "cell_type": "code",
   "execution_count": 133,
   "id": "06203e0e-e599-4074-b477-d07d45b1c6bb",
   "metadata": {},
   "outputs": [
    {
     "data": {
      "text/plain": [
       "9999999    53901\n",
       "0          33679\n",
       "30000       4778\n",
       "50000       4414\n",
       "40000       4413\n",
       "           ...  \n",
       "70520          1\n",
       "76680          1\n",
       "57760          1\n",
       "200310         1\n",
       "505400         1\n",
       "Name: inctot, Length: 8471, dtype: int64"
      ]
     },
     "execution_count": 133,
     "metadata": {},
     "output_type": "execute_result"
    }
   ],
   "source": [
    "df['inctot'].value_counts()"
   ]
  },
  {
   "cell_type": "markdown",
   "id": "c0593c3e-e4dc-4d5a-9241-4f57dca6a912",
   "metadata": {},
   "source": [
    "**9999999が多すぎる** <br>\n",
    "**→ このデータでは欠損地を9999999にしているぽい** <br>\n",
    "**→ ドメイン知識によって怪しいデータを排除**"
   ]
  },
  {
   "cell_type": "code",
   "execution_count": 134,
   "id": "88b248e0-616a-4842-bdd0-8a473b284371",
   "metadata": {},
   "outputs": [],
   "source": [
    "df['inctot'] = df['inctot'].replace(9999999, np.nan)"
   ]
  },
  {
   "cell_type": "code",
   "execution_count": 135,
   "id": "6601fe3a-96b3-4893-93a8-3955981dfe28",
   "metadata": {},
   "outputs": [
    {
     "data": {
      "text/plain": [
       "0.0         33679\n",
       "30000.0      4778\n",
       "50000.0      4414\n",
       "40000.0      4413\n",
       "20000.0      4067\n",
       "            ...  \n",
       "246600.0        1\n",
       "90810.0         1\n",
       "341380.0        1\n",
       "15790.0         1\n",
       "505400.0        1\n",
       "Name: inctot, Length: 8470, dtype: int64"
      ]
     },
     "execution_count": 135,
     "metadata": {},
     "output_type": "execute_result"
    }
   ],
   "source": [
    "df['inctot'].value_counts()"
   ]
  },
  {
   "cell_type": "code",
   "execution_count": 136,
   "id": "f494b2d6-6bd3-434c-8acc-c83f7ed5f3cb",
   "metadata": {},
   "outputs": [
    {
     "data": {
      "text/plain": [
       "40890.177564946454"
      ]
     },
     "execution_count": 136,
     "metadata": {},
     "output_type": "execute_result"
    }
   ],
   "source": [
    "df['inctot'].mean()"
   ]
  },
  {
   "cell_type": "markdown",
   "id": "d9967fec-891f-475e-bc80-fbe4d32dc686",
   "metadata": {},
   "source": [
    "**それではいつ9999999が使われていたのかを特定する**"
   ]
  },
  {
   "cell_type": "code",
   "execution_count": 142,
   "id": "2e986df3-3c40-44fa-9d59-05f5267af0a3",
   "metadata": {},
   "outputs": [
    {
     "data": {
      "text/plain": [
       "10                      3997\n",
       "9                       3977\n",
       "14                      3847\n",
       "12                      3845\n",
       "13                      3800\n",
       "11                      3791\n",
       "8                       3648\n",
       "7                       3527\n",
       "6                       3524\n",
       "5                       3512\n",
       "2                       3405\n",
       "1                       3340\n",
       "4                       3318\n",
       "3                       3220\n",
       "less than 1 year old    3150\n",
       "Name: age, dtype: int64"
      ]
     },
     "execution_count": 142,
     "metadata": {},
     "output_type": "execute_result"
    }
   ],
   "source": [
    "# dfの中でinctotがNaNの行を抽出しさらにそのなかのage列を抽出しその列に対してvalue_counts\n",
    "# なれない場合は分解して実行するとよい\n",
    "df.loc[df['inctot'].isnull()]['age'].value_counts()"
   ]
  },
  {
   "cell_type": "code",
   "execution_count": 144,
   "id": "a9b5b4f3-1719-4178-a6bb-5dacb52a3a48",
   "metadata": {},
   "outputs": [
    {
     "data": {
      "text/plain": [
       "60    4950\n",
       "54    4821\n",
       "59    4776\n",
       "56    4776\n",
       "58    4734\n",
       "      ... \n",
       "93     476\n",
       "95     471\n",
       "92     355\n",
       "91     227\n",
       "96      10\n",
       "Name: age, Length: 82, dtype: int64"
      ]
     },
     "execution_count": 144,
     "metadata": {},
     "output_type": "execute_result"
    }
   ],
   "source": [
    "# ~でmaskのTrue/Falseを反転できる\n",
    "df.loc[~df['inctot'].isnull()]['age'].value_counts()"
   ]
  },
  {
   "cell_type": "markdown",
   "id": "1bfe357f-48da-44aa-81c2-99454e077dd3",
   "metadata": {},
   "source": [
    "**どうやら14歳以下のinctotを9999999にしていたぽい**"
   ]
  },
  {
   "cell_type": "markdown",
   "id": "012ca722-b5e5-4ddf-a339-5605c3475ee9",
   "metadata": {},
   "source": [
    "***さらに収入0もかなりの数あるため現在働いている人を対象として抽出***"
   ]
  },
  {
   "cell_type": "code",
   "execution_count": 145,
   "id": "fadb406a-ebdb-4a08-96d2-0ebaf2890979",
   "metadata": {},
   "outputs": [
    {
     "data": {
      "text/plain": [
       "employed              148758\n",
       "not in labor force    104676\n",
       "unemployed              7727\n",
       "Name: empstat, dtype: int64"
      ]
     },
     "execution_count": 145,
     "metadata": {},
     "output_type": "execute_result"
    }
   ],
   "source": [
    "df['empstat'].value_counts()"
   ]
  },
  {
   "cell_type": "code",
   "execution_count": 146,
   "id": "458e1f80-21b1-4582-903a-6a4d0fb93e35",
   "metadata": {},
   "outputs": [
    {
     "data": {
      "text/plain": [
       "57854.723914007984"
      ]
     },
     "execution_count": 146,
     "metadata": {},
     "output_type": "execute_result"
    }
   ],
   "source": [
    "df.loc[df['empstat']=='employed']['inctot'].mean()"
   ]
  },
  {
   "cell_type": "markdown",
   "id": "32407247-db3e-4dde-8409-35a899618405",
   "metadata": {},
   "source": [
    "### 4. 分析"
   ]
  },
  {
   "cell_type": "markdown",
   "id": "f1500885-631f-4728-a254-c4bd90b81e93",
   "metadata": {},
   "source": [
    "**収入と人種(`columns='race'`)**"
   ]
  },
  {
   "cell_type": "code",
   "execution_count": 147,
   "id": "52d83bc1-26f0-4a12-a0d1-68ca55ab39f1",
   "metadata": {},
   "outputs": [
    {
     "data": {
      "text/plain": [
       "white                               243751\n",
       "black/african american/negro         31691\n",
       "other asian or pacific islander      12508\n",
       "other race, nec                      12304\n",
       "two major races                       8826\n",
       "chinese                               4313\n",
       "american indian or alaska native      3595\n",
       "three or more major races             1207\n",
       "japanese                               809\n",
       "Name: race, dtype: int64"
      ]
     },
     "execution_count": 147,
     "metadata": {},
     "output_type": "execute_result"
    }
   ],
   "source": [
    "df['race'].value_counts()"
   ]
  },
  {
   "cell_type": "markdown",
   "id": "9833a935-85e6-4d2e-afbe-d017e49ad8fb",
   "metadata": {},
   "source": [
    "***ここでは白人と日本人で比較***"
   ]
  },
  {
   "cell_type": "code",
   "execution_count": 149,
   "id": "7dada196-40fd-4425-a1aa-ae001890ab5a",
   "metadata": {},
   "outputs": [
    {
     "data": {
      "text/plain": [
       "60473.15372747098"
      ]
     },
     "execution_count": 149,
     "metadata": {},
     "output_type": "execute_result"
    }
   ],
   "source": [
    "# 複数条件のmaskは()で囲み, &(and), |(or)で記述\n",
    "white = df.loc[(df['empstat']=='employed') & (df['race']=='white')]['inctot'].mean()\n",
    "white"
   ]
  },
  {
   "cell_type": "code",
   "execution_count": 150,
   "id": "0fd8cf42-7751-48ff-b549-c04ee4bd83c5",
   "metadata": {},
   "outputs": [
    {
     "data": {
      "text/plain": [
       "78906.74418604652"
      ]
     },
     "execution_count": 150,
     "metadata": {},
     "output_type": "execute_result"
    }
   ],
   "source": [
    "Japanese = df.loc[(df['empstat']=='employed') & (df['race']=='japanese')]['inctot'].mean()\n",
    "Japanese"
   ]
  },
  {
   "cell_type": "markdown",
   "id": "b7849a07-b3f4-4fcc-b8a3-f4b37007f183",
   "metadata": {},
   "source": [
    "***groupbyで一度に算出***"
   ]
  },
  {
   "cell_type": "code",
   "execution_count": 152,
   "id": "9dc45f46-afff-44fa-b7f9-ace97d1c7442",
   "metadata": {},
   "outputs": [
    {
     "data": {
      "text/plain": [
       "race\n",
       "american indian or alaska native    23992.854989\n",
       "black/african american/negro        27427.134738\n",
       "chinese                             47246.115591\n",
       "japanese                            54477.486842\n",
       "other asian or pacific islander     45444.672559\n",
       "other race, nec                     23703.220545\n",
       "three or more major races           34824.905660\n",
       "two major races                     32277.964461\n",
       "white                               43488.430019\n",
       "Name: inctot, dtype: float64"
      ]
     },
     "execution_count": 152,
     "metadata": {},
     "output_type": "execute_result"
    }
   ],
   "source": [
    "# non_employed含む\n",
    "df.groupby('race')['inctot'].mean()"
   ]
  },
  {
   "cell_type": "code",
   "execution_count": 153,
   "id": "e9c74b97-7a6b-41d6-8870-ecbd4a506a16",
   "metadata": {},
   "outputs": [
    {
     "data": {
      "text/plain": [
       "race\n",
       "american indian or alaska native    37996.522481\n",
       "black/african american/negro        41747.949905\n",
       "chinese                             72804.918567\n",
       "japanese                            78906.744186\n",
       "other asian or pacific islander     66647.736613\n",
       "other race, nec                     34989.400521\n",
       "three or more major races           49787.183099\n",
       "two major races                     49021.151515\n",
       "white                               60473.153727\n",
       "Name: inctot, dtype: float64"
      ]
     },
     "execution_count": 153,
     "metadata": {},
     "output_type": "execute_result"
    }
   ],
   "source": [
    "# employedのみ\n",
    "df.loc[df['empstat']=='employed'].groupby('race')['inctot'].mean()"
   ]
  },
  {
   "cell_type": "markdown",
   "id": "555dfa2f-d0cc-4e93-9166-a6e8be32d65b",
   "metadata": {},
   "source": [
    "* 演習 <br>\n",
    "白人の中にはヒスパニック系アメリカ人も含まれるため、一般に想定される白人アメリカ人の給与が過小評価されてしまっている<br>\n",
    "`hispan`列を用いて白人アメリカ人の平均給与を算出せよ"
   ]
  },
  {
   "cell_type": "code",
   "execution_count": null,
   "id": "0611a05a-52ea-4122-9997-0b4b8c28c39b",
   "metadata": {},
   "outputs": [],
   "source": []
  },
  {
   "cell_type": "markdown",
   "id": "2ffa816b-12ff-4b3a-bf97-3d115841ea62",
   "metadata": {},
   "source": [
    "***groupbyの結果を用いて新たなDataFrameを生成***"
   ]
  },
  {
   "cell_type": "code",
   "execution_count": 156,
   "id": "8f01d05a-6999-4553-871d-202217265086",
   "metadata": {},
   "outputs": [],
   "source": [
    "df1 = df.groupby('race')['inctot'].mean()\n",
    "df2 = df.loc[df['empstat']=='employed'].groupby('race')['inctot'].mean()"
   ]
  },
  {
   "cell_type": "code",
   "execution_count": 158,
   "id": "25a8d64d-672f-48b6-b091-6b115278328b",
   "metadata": {},
   "outputs": [
    {
     "data": {
      "text/html": [
       "<div>\n",
       "<style scoped>\n",
       "    .dataframe tbody tr th:only-of-type {\n",
       "        vertical-align: middle;\n",
       "    }\n",
       "\n",
       "    .dataframe tbody tr th {\n",
       "        vertical-align: top;\n",
       "    }\n",
       "\n",
       "    .dataframe thead th {\n",
       "        text-align: right;\n",
       "    }\n",
       "</style>\n",
       "<table border=\"1\" class=\"dataframe\">\n",
       "  <thead>\n",
       "    <tr style=\"text-align: right;\">\n",
       "      <th></th>\n",
       "      <th>inctot</th>\n",
       "      <th>inctot</th>\n",
       "    </tr>\n",
       "    <tr>\n",
       "      <th>race</th>\n",
       "      <th></th>\n",
       "      <th></th>\n",
       "    </tr>\n",
       "  </thead>\n",
       "  <tbody>\n",
       "    <tr>\n",
       "      <th>american indian or alaska native</th>\n",
       "      <td>23992.854989</td>\n",
       "      <td>37996.522481</td>\n",
       "    </tr>\n",
       "    <tr>\n",
       "      <th>black/african american/negro</th>\n",
       "      <td>27427.134738</td>\n",
       "      <td>41747.949905</td>\n",
       "    </tr>\n",
       "    <tr>\n",
       "      <th>chinese</th>\n",
       "      <td>47246.115591</td>\n",
       "      <td>72804.918567</td>\n",
       "    </tr>\n",
       "    <tr>\n",
       "      <th>japanese</th>\n",
       "      <td>54477.486842</td>\n",
       "      <td>78906.744186</td>\n",
       "    </tr>\n",
       "    <tr>\n",
       "      <th>other asian or pacific islander</th>\n",
       "      <td>45444.672559</td>\n",
       "      <td>66647.736613</td>\n",
       "    </tr>\n",
       "    <tr>\n",
       "      <th>other race, nec</th>\n",
       "      <td>23703.220545</td>\n",
       "      <td>34989.400521</td>\n",
       "    </tr>\n",
       "    <tr>\n",
       "      <th>three or more major races</th>\n",
       "      <td>34824.905660</td>\n",
       "      <td>49787.183099</td>\n",
       "    </tr>\n",
       "    <tr>\n",
       "      <th>two major races</th>\n",
       "      <td>32277.964461</td>\n",
       "      <td>49021.151515</td>\n",
       "    </tr>\n",
       "    <tr>\n",
       "      <th>white</th>\n",
       "      <td>43488.430019</td>\n",
       "      <td>60473.153727</td>\n",
       "    </tr>\n",
       "  </tbody>\n",
       "</table>\n",
       "</div>"
      ],
      "text/plain": [
       "                                        inctot        inctot\n",
       "race                                                        \n",
       "american indian or alaska native  23992.854989  37996.522481\n",
       "black/african american/negro      27427.134738  41747.949905\n",
       "chinese                           47246.115591  72804.918567\n",
       "japanese                          54477.486842  78906.744186\n",
       "other asian or pacific islander   45444.672559  66647.736613\n",
       "other race, nec                   23703.220545  34989.400521\n",
       "three or more major races         34824.905660  49787.183099\n",
       "two major races                   32277.964461  49021.151515\n",
       "white                             43488.430019  60473.153727"
      ]
     },
     "execution_count": 158,
     "metadata": {},
     "output_type": "execute_result"
    }
   ],
   "source": [
    "# axisで行方向か列方向か指定\n",
    "df_concat = pd.concat([df1, df2], axis=1)\n",
    "df_concat"
   ]
  },
  {
   "cell_type": "code",
   "execution_count": 161,
   "id": "f5fb5d7c-d9f5-4dd5-a472-0c2e8bbba968",
   "metadata": {},
   "outputs": [
    {
     "data": {
      "text/html": [
       "<div>\n",
       "<style scoped>\n",
       "    .dataframe tbody tr th:only-of-type {\n",
       "        vertical-align: middle;\n",
       "    }\n",
       "\n",
       "    .dataframe tbody tr th {\n",
       "        vertical-align: top;\n",
       "    }\n",
       "\n",
       "    .dataframe thead th {\n",
       "        text-align: right;\n",
       "    }\n",
       "</style>\n",
       "<table border=\"1\" class=\"dataframe\">\n",
       "  <thead>\n",
       "    <tr style=\"text-align: right;\">\n",
       "      <th></th>\n",
       "      <th>all</th>\n",
       "      <th>only_employed</th>\n",
       "    </tr>\n",
       "    <tr>\n",
       "      <th>race</th>\n",
       "      <th></th>\n",
       "      <th></th>\n",
       "    </tr>\n",
       "  </thead>\n",
       "  <tbody>\n",
       "    <tr>\n",
       "      <th>american indian or alaska native</th>\n",
       "      <td>23992.854989</td>\n",
       "      <td>37996.522481</td>\n",
       "    </tr>\n",
       "    <tr>\n",
       "      <th>black/african american/negro</th>\n",
       "      <td>27427.134738</td>\n",
       "      <td>41747.949905</td>\n",
       "    </tr>\n",
       "    <tr>\n",
       "      <th>chinese</th>\n",
       "      <td>47246.115591</td>\n",
       "      <td>72804.918567</td>\n",
       "    </tr>\n",
       "    <tr>\n",
       "      <th>japanese</th>\n",
       "      <td>54477.486842</td>\n",
       "      <td>78906.744186</td>\n",
       "    </tr>\n",
       "    <tr>\n",
       "      <th>other asian or pacific islander</th>\n",
       "      <td>45444.672559</td>\n",
       "      <td>66647.736613</td>\n",
       "    </tr>\n",
       "    <tr>\n",
       "      <th>other race, nec</th>\n",
       "      <td>23703.220545</td>\n",
       "      <td>34989.400521</td>\n",
       "    </tr>\n",
       "    <tr>\n",
       "      <th>three or more major races</th>\n",
       "      <td>34824.905660</td>\n",
       "      <td>49787.183099</td>\n",
       "    </tr>\n",
       "    <tr>\n",
       "      <th>two major races</th>\n",
       "      <td>32277.964461</td>\n",
       "      <td>49021.151515</td>\n",
       "    </tr>\n",
       "    <tr>\n",
       "      <th>white</th>\n",
       "      <td>43488.430019</td>\n",
       "      <td>60473.153727</td>\n",
       "    </tr>\n",
       "  </tbody>\n",
       "</table>\n",
       "</div>"
      ],
      "text/plain": [
       "                                           all  only_employed\n",
       "race                                                         \n",
       "american indian or alaska native  23992.854989   37996.522481\n",
       "black/african american/negro      27427.134738   41747.949905\n",
       "chinese                           47246.115591   72804.918567\n",
       "japanese                          54477.486842   78906.744186\n",
       "other asian or pacific islander   45444.672559   66647.736613\n",
       "other race, nec                   23703.220545   34989.400521\n",
       "three or more major races         34824.905660   49787.183099\n",
       "two major races                   32277.964461   49021.151515\n",
       "white                             43488.430019   60473.153727"
      ]
     },
     "execution_count": 161,
     "metadata": {},
     "output_type": "execute_result"
    }
   ],
   "source": [
    "# columnの変更(rename()でもよいが今回はどちらも同じ名前だったので使えなさそう)\n",
    "df_concat.columns = ['all', 'only_employed']\n",
    "df_concat"
   ]
  },
  {
   "cell_type": "markdown",
   "id": "ec59d475-3bd0-4241-b79c-2bb1704816f4",
   "metadata": {},
   "source": [
    "### 5. その他"
   ]
  },
  {
   "cell_type": "markdown",
   "id": "c69bd350-e24e-4009-8578-05504375db69",
   "metadata": {},
   "source": [
    "**pd.merge()の使い方**"
   ]
  },
  {
   "cell_type": "code",
   "execution_count": 198,
   "id": "fddb0f13-3282-4199-bd45-261d6a184d5d",
   "metadata": {},
   "outputs": [
    {
     "data": {
      "text/html": [
       "<div>\n",
       "<style scoped>\n",
       "    .dataframe tbody tr th:only-of-type {\n",
       "        vertical-align: middle;\n",
       "    }\n",
       "\n",
       "    .dataframe tbody tr th {\n",
       "        vertical-align: top;\n",
       "    }\n",
       "\n",
       "    .dataframe thead th {\n",
       "        text-align: right;\n",
       "    }\n",
       "</style>\n",
       "<table border=\"1\" class=\"dataframe\">\n",
       "  <thead>\n",
       "    <tr style=\"text-align: right;\">\n",
       "      <th></th>\n",
       "      <th>id</th>\n",
       "      <th>race</th>\n",
       "    </tr>\n",
       "  </thead>\n",
       "  <tbody>\n",
       "    <tr>\n",
       "      <th>0</th>\n",
       "      <td>000000</td>\n",
       "      <td>american indian or alaska native</td>\n",
       "    </tr>\n",
       "    <tr>\n",
       "      <th>1</th>\n",
       "      <td>000001</td>\n",
       "      <td>black/african american/negro</td>\n",
       "    </tr>\n",
       "    <tr>\n",
       "      <th>2</th>\n",
       "      <td>000002</td>\n",
       "      <td>chinese</td>\n",
       "    </tr>\n",
       "    <tr>\n",
       "      <th>3</th>\n",
       "      <td>000003</td>\n",
       "      <td>japanese</td>\n",
       "    </tr>\n",
       "    <tr>\n",
       "      <th>4</th>\n",
       "      <td>000004</td>\n",
       "      <td>other asian or pacific islander</td>\n",
       "    </tr>\n",
       "    <tr>\n",
       "      <th>5</th>\n",
       "      <td>000005</td>\n",
       "      <td>other race, nec</td>\n",
       "    </tr>\n",
       "    <tr>\n",
       "      <th>6</th>\n",
       "      <td>000006</td>\n",
       "      <td>three or more major races</td>\n",
       "    </tr>\n",
       "    <tr>\n",
       "      <th>7</th>\n",
       "      <td>000007</td>\n",
       "      <td>two major races</td>\n",
       "    </tr>\n",
       "    <tr>\n",
       "      <th>8</th>\n",
       "      <td>000008</td>\n",
       "      <td>white</td>\n",
       "    </tr>\n",
       "    <tr>\n",
       "      <th>9</th>\n",
       "      <td>000009</td>\n",
       "      <td>indian</td>\n",
       "    </tr>\n",
       "    <tr>\n",
       "      <th>10</th>\n",
       "      <td>000010</td>\n",
       "      <td>korean</td>\n",
       "    </tr>\n",
       "    <tr>\n",
       "      <th>11</th>\n",
       "      <td>000011</td>\n",
       "      <td>arab</td>\n",
       "    </tr>\n",
       "  </tbody>\n",
       "</table>\n",
       "</div>"
      ],
      "text/plain": [
       "        id                              race\n",
       "0   000000  american indian or alaska native\n",
       "1   000001      black/african american/negro\n",
       "2   000002                           chinese\n",
       "3   000003                          japanese\n",
       "4   000004   other asian or pacific islander\n",
       "5   000005                   other race, nec\n",
       "6   000006         three or more major races\n",
       "7   000007                   two major races\n",
       "8   000008                             white\n",
       "9   000009                            indian\n",
       "10  000010                            korean\n",
       "11  000011                              arab"
      ]
     },
     "execution_count": 198,
     "metadata": {},
     "output_type": "execute_result"
    }
   ],
   "source": [
    "# ダミーデータ生成\n",
    "id=[]\n",
    "for c in list(map(str, range(0, len(df_concat.index)+3))):\n",
    "    c  = c.zfill(6)\n",
    "    id.append(c)\n",
    "\n",
    "import random\n",
    "\n",
    "ID = pd.DataFrame()\n",
    "ID['id'] = id\n",
    "ID['race'] = list(df_concat.index) + ['indian', 'korean', 'arab']\n",
    "\n",
    "ID"
   ]
  },
  {
   "cell_type": "markdown",
   "id": "0fd81ae7-89bd-4c5b-96e9-905abfbb76de",
   "metadata": {},
   "source": [
    "**ACSのデータに対して、人種ごとにidを振り分けたいとする <br>\n",
    "具体的には、ACSとIDデータを見比べて同じraceならばACSのrace_id列にidを入力するという作業 <br>\n",
    "→raceをキーにしてマージすればよい**"
   ]
  },
  {
   "cell_type": "markdown",
   "id": "0b15ea83-6775-423f-91b5-d4e25f96625e",
   "metadata": {},
   "source": [
    "`pd.merge()` : データフレームの結合\n",
    "\n",
    "| パラメータ      | 値  | 説明                   | \n",
    "| --------------- | --- | ---------------------- | \n",
    "| df1(必須)       | DataFrame | 結合したいDataFrame | \n",
    "| df2(必須)       | DataFrame | 結合したいDataFrame | \n",
    "| on              | str       | key             | \n",
    "| how             | str: 'inner'/'outer'/'left'/'right' | 先頭行を読み込まない   |\n",
    "| indicator       | bool | マージ情報列を追加するかどうか"
   ]
  },
  {
   "cell_type": "code",
   "execution_count": 201,
   "id": "c3a20fa1-5a11-472e-aba2-f671f20e6fbe",
   "metadata": {},
   "outputs": [
    {
     "data": {
      "text/html": [
       "<div>\n",
       "<style scoped>\n",
       "    .dataframe tbody tr th:only-of-type {\n",
       "        vertical-align: middle;\n",
       "    }\n",
       "\n",
       "    .dataframe tbody tr th {\n",
       "        vertical-align: top;\n",
       "    }\n",
       "\n",
       "    .dataframe thead th {\n",
       "        text-align: right;\n",
       "    }\n",
       "</style>\n",
       "<table border=\"1\" class=\"dataframe\">\n",
       "  <thead>\n",
       "    <tr style=\"text-align: right;\">\n",
       "      <th></th>\n",
       "      <th>year</th>\n",
       "      <th>serial</th>\n",
       "      <th>inctot</th>\n",
       "      <th>age</th>\n",
       "      <th>race</th>\n",
       "      <th>empstat</th>\n",
       "    </tr>\n",
       "  </thead>\n",
       "  <tbody>\n",
       "    <tr>\n",
       "      <th>0</th>\n",
       "      <td>2017</td>\n",
       "      <td>177686</td>\n",
       "      <td>NaN</td>\n",
       "      <td>4</td>\n",
       "      <td>white</td>\n",
       "      <td>NaN</td>\n",
       "    </tr>\n",
       "    <tr>\n",
       "      <th>1</th>\n",
       "      <td>2017</td>\n",
       "      <td>1200045</td>\n",
       "      <td>6000.0</td>\n",
       "      <td>17</td>\n",
       "      <td>white</td>\n",
       "      <td>employed</td>\n",
       "    </tr>\n",
       "    <tr>\n",
       "      <th>2</th>\n",
       "      <td>2017</td>\n",
       "      <td>70831</td>\n",
       "      <td>6150.0</td>\n",
       "      <td>63</td>\n",
       "      <td>white</td>\n",
       "      <td>employed</td>\n",
       "    </tr>\n",
       "    <tr>\n",
       "      <th>3</th>\n",
       "      <td>2017</td>\n",
       "      <td>557128</td>\n",
       "      <td>14000.0</td>\n",
       "      <td>66</td>\n",
       "      <td>white</td>\n",
       "      <td>not in labor force</td>\n",
       "    </tr>\n",
       "    <tr>\n",
       "      <th>4</th>\n",
       "      <td>2017</td>\n",
       "      <td>614890</td>\n",
       "      <td>NaN</td>\n",
       "      <td>1</td>\n",
       "      <td>white</td>\n",
       "      <td>NaN</td>\n",
       "    </tr>\n",
       "    <tr>\n",
       "      <th>...</th>\n",
       "      <td>...</td>\n",
       "      <td>...</td>\n",
       "      <td>...</td>\n",
       "      <td>...</td>\n",
       "      <td>...</td>\n",
       "      <td>...</td>\n",
       "    </tr>\n",
       "    <tr>\n",
       "      <th>318999</th>\n",
       "      <td>2017</td>\n",
       "      <td>734396</td>\n",
       "      <td>22130.0</td>\n",
       "      <td>33</td>\n",
       "      <td>white</td>\n",
       "      <td>employed</td>\n",
       "    </tr>\n",
       "    <tr>\n",
       "      <th>319000</th>\n",
       "      <td>2017</td>\n",
       "      <td>586263</td>\n",
       "      <td>NaN</td>\n",
       "      <td>4</td>\n",
       "      <td>white</td>\n",
       "      <td>NaN</td>\n",
       "    </tr>\n",
       "    <tr>\n",
       "      <th>319001</th>\n",
       "      <td>2017</td>\n",
       "      <td>510444</td>\n",
       "      <td>5000.0</td>\n",
       "      <td>20</td>\n",
       "      <td>two major races</td>\n",
       "      <td>employed</td>\n",
       "    </tr>\n",
       "    <tr>\n",
       "      <th>319002</th>\n",
       "      <td>2017</td>\n",
       "      <td>1220474</td>\n",
       "      <td>240000.0</td>\n",
       "      <td>47</td>\n",
       "      <td>other asian or pacific islander</td>\n",
       "      <td>employed</td>\n",
       "    </tr>\n",
       "    <tr>\n",
       "      <th>319003</th>\n",
       "      <td>2017</td>\n",
       "      <td>219435</td>\n",
       "      <td>48000.0</td>\n",
       "      <td>33</td>\n",
       "      <td>white</td>\n",
       "      <td>employed</td>\n",
       "    </tr>\n",
       "  </tbody>\n",
       "</table>\n",
       "<p>319004 rows × 6 columns</p>\n",
       "</div>"
      ],
      "text/plain": [
       "        year   serial    inctot age                             race  \\\n",
       "0       2017   177686       NaN   4                            white   \n",
       "1       2017  1200045    6000.0  17                            white   \n",
       "2       2017    70831    6150.0  63                            white   \n",
       "3       2017   557128   14000.0  66                            white   \n",
       "4       2017   614890       NaN   1                            white   \n",
       "...      ...      ...       ...  ..                              ...   \n",
       "318999  2017   734396   22130.0  33                            white   \n",
       "319000  2017   586263       NaN   4                            white   \n",
       "319001  2017   510444    5000.0  20                  two major races   \n",
       "319002  2017  1220474  240000.0  47  other asian or pacific islander   \n",
       "319003  2017   219435   48000.0  33                            white   \n",
       "\n",
       "                   empstat  \n",
       "0                      NaN  \n",
       "1                 employed  \n",
       "2                 employed  \n",
       "3       not in labor force  \n",
       "4                      NaN  \n",
       "...                    ...  \n",
       "318999            employed  \n",
       "319000                 NaN  \n",
       "319001            employed  \n",
       "319002            employed  \n",
       "319003            employed  \n",
       "\n",
       "[319004 rows x 6 columns]"
      ]
     },
     "execution_count": 201,
     "metadata": {},
     "output_type": "execute_result"
    }
   ],
   "source": [
    "# ACSデータは列が多すぎてわかりにくいので削減したものを使う\n",
    "df = df[['year', 'serial', 'inctot', 'age', 'race', 'empstat']]\n",
    "df"
   ]
  },
  {
   "cell_type": "code",
   "execution_count": 203,
   "id": "9429ee00-26cb-4e0b-8c1d-2d6d08d65093",
   "metadata": {},
   "outputs": [
    {
     "data": {
      "text/html": [
       "<div>\n",
       "<style scoped>\n",
       "    .dataframe tbody tr th:only-of-type {\n",
       "        vertical-align: middle;\n",
       "    }\n",
       "\n",
       "    .dataframe tbody tr th {\n",
       "        vertical-align: top;\n",
       "    }\n",
       "\n",
       "    .dataframe thead th {\n",
       "        text-align: right;\n",
       "    }\n",
       "</style>\n",
       "<table border=\"1\" class=\"dataframe\">\n",
       "  <thead>\n",
       "    <tr style=\"text-align: right;\">\n",
       "      <th></th>\n",
       "      <th>year</th>\n",
       "      <th>serial</th>\n",
       "      <th>inctot</th>\n",
       "      <th>age</th>\n",
       "      <th>race</th>\n",
       "      <th>empstat</th>\n",
       "      <th>id</th>\n",
       "      <th>_merge</th>\n",
       "    </tr>\n",
       "  </thead>\n",
       "  <tbody>\n",
       "    <tr>\n",
       "      <th>0</th>\n",
       "      <td>2017.0</td>\n",
       "      <td>177686.0</td>\n",
       "      <td>NaN</td>\n",
       "      <td>4</td>\n",
       "      <td>white</td>\n",
       "      <td>NaN</td>\n",
       "      <td>000008</td>\n",
       "      <td>both</td>\n",
       "    </tr>\n",
       "    <tr>\n",
       "      <th>1</th>\n",
       "      <td>2017.0</td>\n",
       "      <td>1200045.0</td>\n",
       "      <td>6000.0</td>\n",
       "      <td>17</td>\n",
       "      <td>white</td>\n",
       "      <td>employed</td>\n",
       "      <td>000008</td>\n",
       "      <td>both</td>\n",
       "    </tr>\n",
       "    <tr>\n",
       "      <th>2</th>\n",
       "      <td>2017.0</td>\n",
       "      <td>70831.0</td>\n",
       "      <td>6150.0</td>\n",
       "      <td>63</td>\n",
       "      <td>white</td>\n",
       "      <td>employed</td>\n",
       "      <td>000008</td>\n",
       "      <td>both</td>\n",
       "    </tr>\n",
       "    <tr>\n",
       "      <th>3</th>\n",
       "      <td>2017.0</td>\n",
       "      <td>557128.0</td>\n",
       "      <td>14000.0</td>\n",
       "      <td>66</td>\n",
       "      <td>white</td>\n",
       "      <td>not in labor force</td>\n",
       "      <td>000008</td>\n",
       "      <td>both</td>\n",
       "    </tr>\n",
       "    <tr>\n",
       "      <th>4</th>\n",
       "      <td>2017.0</td>\n",
       "      <td>614890.0</td>\n",
       "      <td>NaN</td>\n",
       "      <td>1</td>\n",
       "      <td>white</td>\n",
       "      <td>NaN</td>\n",
       "      <td>000008</td>\n",
       "      <td>both</td>\n",
       "    </tr>\n",
       "    <tr>\n",
       "      <th>...</th>\n",
       "      <td>...</td>\n",
       "      <td>...</td>\n",
       "      <td>...</td>\n",
       "      <td>...</td>\n",
       "      <td>...</td>\n",
       "      <td>...</td>\n",
       "      <td>...</td>\n",
       "      <td>...</td>\n",
       "    </tr>\n",
       "    <tr>\n",
       "      <th>319002</th>\n",
       "      <td>2017.0</td>\n",
       "      <td>400992.0</td>\n",
       "      <td>82000.0</td>\n",
       "      <td>56</td>\n",
       "      <td>three or more major races</td>\n",
       "      <td>employed</td>\n",
       "      <td>000006</td>\n",
       "      <td>both</td>\n",
       "    </tr>\n",
       "    <tr>\n",
       "      <th>319003</th>\n",
       "      <td>2017.0</td>\n",
       "      <td>630504.0</td>\n",
       "      <td>0.0</td>\n",
       "      <td>29</td>\n",
       "      <td>three or more major races</td>\n",
       "      <td>not in labor force</td>\n",
       "      <td>000006</td>\n",
       "      <td>both</td>\n",
       "    </tr>\n",
       "    <tr>\n",
       "      <th>319004</th>\n",
       "      <td>NaN</td>\n",
       "      <td>NaN</td>\n",
       "      <td>NaN</td>\n",
       "      <td>NaN</td>\n",
       "      <td>indian</td>\n",
       "      <td>NaN</td>\n",
       "      <td>000009</td>\n",
       "      <td>right_only</td>\n",
       "    </tr>\n",
       "    <tr>\n",
       "      <th>319005</th>\n",
       "      <td>NaN</td>\n",
       "      <td>NaN</td>\n",
       "      <td>NaN</td>\n",
       "      <td>NaN</td>\n",
       "      <td>korean</td>\n",
       "      <td>NaN</td>\n",
       "      <td>000010</td>\n",
       "      <td>right_only</td>\n",
       "    </tr>\n",
       "    <tr>\n",
       "      <th>319006</th>\n",
       "      <td>NaN</td>\n",
       "      <td>NaN</td>\n",
       "      <td>NaN</td>\n",
       "      <td>NaN</td>\n",
       "      <td>arab</td>\n",
       "      <td>NaN</td>\n",
       "      <td>000011</td>\n",
       "      <td>right_only</td>\n",
       "    </tr>\n",
       "  </tbody>\n",
       "</table>\n",
       "<p>319007 rows × 8 columns</p>\n",
       "</div>"
      ],
      "text/plain": [
       "          year     serial   inctot  age                       race  \\\n",
       "0       2017.0   177686.0      NaN    4                      white   \n",
       "1       2017.0  1200045.0   6000.0   17                      white   \n",
       "2       2017.0    70831.0   6150.0   63                      white   \n",
       "3       2017.0   557128.0  14000.0   66                      white   \n",
       "4       2017.0   614890.0      NaN    1                      white   \n",
       "...        ...        ...      ...  ...                        ...   \n",
       "319002  2017.0   400992.0  82000.0   56  three or more major races   \n",
       "319003  2017.0   630504.0      0.0   29  three or more major races   \n",
       "319004     NaN        NaN      NaN  NaN                     indian   \n",
       "319005     NaN        NaN      NaN  NaN                     korean   \n",
       "319006     NaN        NaN      NaN  NaN                       arab   \n",
       "\n",
       "                   empstat      id      _merge  \n",
       "0                      NaN  000008        both  \n",
       "1                 employed  000008        both  \n",
       "2                 employed  000008        both  \n",
       "3       not in labor force  000008        both  \n",
       "4                      NaN  000008        both  \n",
       "...                    ...     ...         ...  \n",
       "319002            employed  000006        both  \n",
       "319003  not in labor force  000006        both  \n",
       "319004                 NaN  000009  right_only  \n",
       "319005                 NaN  000010  right_only  \n",
       "319006                 NaN  000011  right_only  \n",
       "\n",
       "[319007 rows x 8 columns]"
      ]
     },
     "execution_count": 203,
     "metadata": {},
     "output_type": "execute_result"
    }
   ],
   "source": [
    "merged_data = pd.merge(df, ID, on='race', how='outer', indicator=True)\n",
    "merged_data"
   ]
  },
  {
   "cell_type": "markdown",
   "id": "e2843368-babd-4819-8154-610da48042cb",
   "metadata": {},
   "source": [
    "**新しく`_merge`列が追加されている** <br>\n",
    "* both => keyが両方のデータフレームにあった<br>\n",
    "* right/left_only => keyがright/leftにしかなかった"
   ]
  },
  {
   "cell_type": "code",
   "execution_count": 204,
   "id": "bbaffa04-2688-4c5f-b440-527443bc3739",
   "metadata": {},
   "outputs": [
    {
     "data": {
      "text/html": [
       "<div>\n",
       "<style scoped>\n",
       "    .dataframe tbody tr th:only-of-type {\n",
       "        vertical-align: middle;\n",
       "    }\n",
       "\n",
       "    .dataframe tbody tr th {\n",
       "        vertical-align: top;\n",
       "    }\n",
       "\n",
       "    .dataframe thead th {\n",
       "        text-align: right;\n",
       "    }\n",
       "</style>\n",
       "<table border=\"1\" class=\"dataframe\">\n",
       "  <thead>\n",
       "    <tr style=\"text-align: right;\">\n",
       "      <th></th>\n",
       "      <th>year</th>\n",
       "      <th>serial</th>\n",
       "      <th>inctot</th>\n",
       "      <th>age</th>\n",
       "      <th>race</th>\n",
       "      <th>empstat</th>\n",
       "      <th>id</th>\n",
       "      <th>_merge</th>\n",
       "    </tr>\n",
       "  </thead>\n",
       "  <tbody>\n",
       "    <tr>\n",
       "      <th>319004</th>\n",
       "      <td>NaN</td>\n",
       "      <td>NaN</td>\n",
       "      <td>NaN</td>\n",
       "      <td>NaN</td>\n",
       "      <td>indian</td>\n",
       "      <td>NaN</td>\n",
       "      <td>000009</td>\n",
       "      <td>right_only</td>\n",
       "    </tr>\n",
       "    <tr>\n",
       "      <th>319005</th>\n",
       "      <td>NaN</td>\n",
       "      <td>NaN</td>\n",
       "      <td>NaN</td>\n",
       "      <td>NaN</td>\n",
       "      <td>korean</td>\n",
       "      <td>NaN</td>\n",
       "      <td>000010</td>\n",
       "      <td>right_only</td>\n",
       "    </tr>\n",
       "    <tr>\n",
       "      <th>319006</th>\n",
       "      <td>NaN</td>\n",
       "      <td>NaN</td>\n",
       "      <td>NaN</td>\n",
       "      <td>NaN</td>\n",
       "      <td>arab</td>\n",
       "      <td>NaN</td>\n",
       "      <td>000011</td>\n",
       "      <td>right_only</td>\n",
       "    </tr>\n",
       "  </tbody>\n",
       "</table>\n",
       "</div>"
      ],
      "text/plain": [
       "        year  serial  inctot  age    race empstat      id      _merge\n",
       "319004   NaN     NaN     NaN  NaN  indian     NaN  000009  right_only\n",
       "319005   NaN     NaN     NaN  NaN  korean     NaN  000010  right_only\n",
       "319006   NaN     NaN     NaN  NaN    arab     NaN  000011  right_only"
      ]
     },
     "execution_count": 204,
     "metadata": {},
     "output_type": "execute_result"
    }
   ],
   "source": [
    "merged_data.loc[merged_data['_merge'] != 'both']"
   ]
  },
  {
   "cell_type": "markdown",
   "id": "86cea30c-311a-4016-b140-9dd79d9b6c89",
   "metadata": {},
   "source": [
    "**indian, korean, arabはACCデータに無いためこの結果となる** <br>\n",
    "→howの与え方によって結合の方法を変更可能"
   ]
  },
  {
   "cell_type": "code",
   "execution_count": 207,
   "id": "ef296f65-9d4b-442a-ad59-445c5df0a1aa",
   "metadata": {},
   "outputs": [
    {
     "data": {
      "text/html": [
       "<div>\n",
       "<style scoped>\n",
       "    .dataframe tbody tr th:only-of-type {\n",
       "        vertical-align: middle;\n",
       "    }\n",
       "\n",
       "    .dataframe tbody tr th {\n",
       "        vertical-align: top;\n",
       "    }\n",
       "\n",
       "    .dataframe thead th {\n",
       "        text-align: right;\n",
       "    }\n",
       "</style>\n",
       "<table border=\"1\" class=\"dataframe\">\n",
       "  <thead>\n",
       "    <tr style=\"text-align: right;\">\n",
       "      <th></th>\n",
       "      <th>year</th>\n",
       "      <th>serial</th>\n",
       "      <th>inctot</th>\n",
       "      <th>age</th>\n",
       "      <th>race</th>\n",
       "      <th>empstat</th>\n",
       "      <th>id</th>\n",
       "      <th>_merge</th>\n",
       "    </tr>\n",
       "  </thead>\n",
       "  <tbody>\n",
       "  </tbody>\n",
       "</table>\n",
       "</div>"
      ],
      "text/plain": [
       "Empty DataFrame\n",
       "Columns: [year, serial, inctot, age, race, empstat, id, _merge]\n",
       "Index: []"
      ]
     },
     "execution_count": 207,
     "metadata": {},
     "output_type": "execute_result"
    }
   ],
   "source": [
    "merged_data = pd.merge(df, ID, on='race', how='inner', indicator=True)\n",
    "merged_data.loc[merged_data['_merge'] != 'both']"
   ]
  },
  {
   "cell_type": "markdown",
   "id": "8766b5ab-da73-4533-b9dd-bc0974ca62b7",
   "metadata": {},
   "source": [
    "**How to merge** <br>\n",
    "![how to merge](https://www.practicaldatascience.org/html/_images/join-or-merge-in-python-pandas.png)"
   ]
  },
  {
   "cell_type": "code",
   "execution_count": null,
   "id": "a30fc830-d904-43db-bd1c-086f04f75a02",
   "metadata": {},
   "outputs": [],
   "source": []
  }
 ],
 "metadata": {
  "kernelspec": {
   "display_name": "Python 3 (ipykernel)",
   "language": "python",
   "name": "python3"
  },
  "language_info": {
   "codemirror_mode": {
    "name": "ipython",
    "version": 3
   },
   "file_extension": ".py",
   "mimetype": "text/x-python",
   "name": "python",
   "nbconvert_exporter": "python",
   "pygments_lexer": "ipython3",
   "version": "3.7.13"
  }
 },
 "nbformat": 4,
 "nbformat_minor": 5
}
