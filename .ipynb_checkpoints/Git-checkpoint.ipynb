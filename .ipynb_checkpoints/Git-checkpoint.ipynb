{
 "cells": [
  {
   "cell_type": "markdown",
   "id": "e1205d82-896d-4067-8147-39ce91d8873c",
   "metadata": {},
   "source": [
    "# Git\n",
    "コード管理に使う\n",
    "今回必要な操作だけここにメモ <br>\n",
    "疑問があれば質問してください <br>"
   ]
  },
  {
   "cell_type": "markdown",
   "id": "01a20779-83d7-4305-b0b0-aa66b9bd23b7",
   "metadata": {},
   "source": [
    "<img src=\"https://tetoblog.org/wp-content/uploads/2021/06/9f2f13924b963aa795d4a0338da1bb41-1.png\">"
   ]
  },
  {
   "cell_type": "markdown",
   "id": "f24afead-6871-4077-bc9c-ad83c808eb83",
   "metadata": {},
   "source": [
    "# 手順"
   ]
  },
  {
   "cell_type": "markdown",
   "id": "645ab02b-d8b7-4126-a80c-8277a5a5fdd9",
   "metadata": {},
   "source": [
    "**0. clone: プロジェクトをローカル(自分のところ)に持ってくる** <br>\n",
    "**1. pull: リモート(外部、みんなで共有する所)の状態をローカルに取り込む** <br>\n",
    "**2. commit: 自分の編集をローカルに保存** <br>\n",
    "**3. push: ローカルにcommitした内容をリモートに反映** <br>\n",
    "\n",
    "**初回のみ0, 次回以降は1~3の繰り返し**"
   ]
  },
  {
   "cell_type": "markdown",
   "id": "13f02fc2-3d1b-4baf-989d-e905a36026b7",
   "metadata": {
    "tags": []
   },
   "source": [
    "## 0. clone(初回のみ)"
   ]
  },
  {
   "cell_type": "markdown",
   "id": "577b4435-9a6b-44a7-ae44-80b46fa12f5f",
   "metadata": {},
   "source": [
    "`git clone <URL>`"
   ]
  },
  {
   "cell_type": "markdown",
   "id": "ca0f83b7-7180-4e6b-b386-cf6661d2a5c1",
   "metadata": {},
   "source": [
    "**0.1 jupyter notebook を開く <br>\n",
    "0.2 New → Terminalを選択するとTerminalが開く <br>**\n",
    "\n",
    "以下Terminalでの操作<br>\n",
    "\n",
    "**0.3 cloneしたいディレクトリに移動 <br>**\n",
    "    `pwd` 現在地 <br>\n",
    "    `ls` 現在地の内容表示 <br>\n",
    "    `cd` ディレクトリ移動 <br>\n",
    "    `cd <directory>`  directoryへ移動 <br>\n",
    "    `cd ..` 一つ上の階層\n",
    "\n",
    "**0.4 gitlabからcloneしたい<URL>をコピーしてくる <br>**\n",
    "    `git clone <URL>` でディレクトリがダウンロードされる <br>"
   ]
  },
  {
   "cell_type": "markdown",
   "id": "57ece8cd-2cb4-44df-a71b-c2de89981da8",
   "metadata": {},
   "source": [
    "## 1. pull(2回目以降)"
   ]
  },
  {
   "cell_type": "markdown",
   "id": "032caf48-6658-4802-8594-31196550167e",
   "metadata": {},
   "source": [
    "みんなの作業内容を自分にも反映\n",
    "\n",
    "**作業前にはTerminalに移動して <br>**\n",
    "    `git pull`を実行"
   ]
  },
  {
   "cell_type": "markdown",
   "id": "f675f256-0085-472b-8841-00224ceae5b8",
   "metadata": {},
   "source": [
    "## 2. commit"
   ]
  },
  {
   "cell_type": "markdown",
   "id": "c7d09609-52a6-4800-a783-36e2f8608b12",
   "metadata": {},
   "source": [
    "作業が終わったら変更内容をローカルのgitに保存する <br>\n",
    "\n",
    "**2.1 Terminalを開く** <br>\n",
    "**2.2 作業したフォルダに移動** <br>\n",
    "**2.3 現在の状態の確認** <br>\n",
    "`git status` で現在のローカルリポジトリの状態を表示 <br>\n",
    "ステージングされているものは緑色→commitできる状態 <br>\n",
    "ステージングされていないものは赤色→commitするためにaddする必要がある <br>\n",
    "**2.4 変更をadd** <br>\n",
    "`git add <file or directory>` ファイルやディレクトリをステージング <br>\n",
    "`git add .` 現在のディレクトリ内をすべてステージング <br>\n",
    "`git add --all` すべてステージング <br>\n",
    "**2.5 ステージをローカルに保存** <br>\n",
    "`git commit -m \"保存内容のメモ\"` <br>\n",
    "※-m 忘れるとvimが立ち上がるので注意"
   ]
  },
  {
   "cell_type": "markdown",
   "id": "014c56eb-883c-443e-b37f-bd782c0b8046",
   "metadata": {},
   "source": [
    "## 3. push"
   ]
  },
  {
   "cell_type": "markdown",
   "id": "8235d4d5-cf37-4dd0-b033-5040622a46c7",
   "metadata": {},
   "source": [
    "自分の作業をみんなで共有\n",
    "\n",
    "**3.1 ローカルの内容をリモートに反映** <br>\n",
    "`git push`"
   ]
  },
  {
   "cell_type": "code",
   "execution_count": null,
   "id": "a19994db-77d7-4912-8d67-30930555e3b3",
   "metadata": {},
   "outputs": [],
   "source": []
  }
 ],
 "metadata": {
  "kernelspec": {
   "display_name": "Python 3 (ipykernel)",
   "language": "python",
   "name": "python3"
  },
  "language_info": {
   "codemirror_mode": {
    "name": "ipython",
    "version": 3
   },
   "file_extension": ".py",
   "mimetype": "text/x-python",
   "name": "python",
   "nbconvert_exporter": "python",
   "pygments_lexer": "ipython3",
   "version": "3.7.13"
  }
 },
 "nbformat": 4,
 "nbformat_minor": 5
}
