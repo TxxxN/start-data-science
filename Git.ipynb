{
 "cells": [
  {
   "cell_type": "markdown",
   "id": "59d8dbaa-9d06-43db-90fd-e7a7605a7f67",
   "metadata": {},
   "source": [
    "# Git\n",
    "コード管理に使う\n",
    "今回必要な操作だけここにメモ <br>\n",
    "疑問があれば質問してください <br>\n",
    "\n",
    "0. clone: プロジェクトをローカル(自分のところ)に持ってくる\n",
    "1. pull: リモート(外部、みんなで共有する所)の状態をローカルに取り込む\n",
    "2. commit: ローカルでの編集をローカルに保存\n",
    "3. push: ローカルでcommitした内容をリモートに反映"
   ]
  },
  {
   "cell_type": "code",
   "execution_count": null,
   "id": "94d6860e-5d91-4fe8-b7e0-aba254077eb4",
   "metadata": {},
   "outputs": [],
   "source": []
  },
  {
   "cell_type": "markdown",
   "id": "13f02fc2-3d1b-4baf-989d-e905a36026b7",
   "metadata": {},
   "source": [
    "## 他の人のコードをローカル(自分自身)に持ってくる"
   ]
  },
  {
   "cell_type": "code",
   "execution_count": null,
   "id": "a6b393a4-7342-4dbb-baa2-e8b0b50cc748",
   "metadata": {},
   "outputs": [],
   "source": []
  }
 ],
 "metadata": {
  "kernelspec": {
   "display_name": "Python 3 (ipykernel)",
   "language": "python",
   "name": "python3"
  },
  "language_info": {
   "codemirror_mode": {
    "name": "ipython",
    "version": 3
   },
   "file_extension": ".py",
   "mimetype": "text/x-python",
   "name": "python",
   "nbconvert_exporter": "python",
   "pygments_lexer": "ipython3",
   "version": "3.7.13"
  }
 },
 "nbformat": 4,
 "nbformat_minor": 5
}
