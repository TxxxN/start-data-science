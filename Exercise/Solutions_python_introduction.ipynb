{
 "cells": [
  {
   "cell_type": "markdown",
   "id": "a0383def-f56c-4381-b5ba-519f57db09be",
   "metadata": {},
   "source": [
    "# 演習1"
   ]
  },
  {
   "cell_type": "code",
   "execution_count": null,
   "id": "180ab77e-469d-4ef4-bf2f-38ced3b685b5",
   "metadata": {},
   "outputs": [],
   "source": [
    "# 出力を想像してから実行してみて下さい\n",
    "list = [1, 2, 3, [4, 5]]\n",
    "list[3]"
   ]
  },
  {
   "cell_type": "markdown",
   "id": "43d15e2f-9917-4090-8409-f5a06d01316b",
   "metadata": {},
   "source": [
    "# 演習2"
   ]
  },
  {
   "cell_type": "code",
   "execution_count": null,
   "id": "7936ec61-fa35-4a30-9e67-fab30d2ff8ab",
   "metadata": {},
   "outputs": [],
   "source": [
    "animals_in_my_zoo = {'Zebras': ['Stripey', 'Black and White'],\n",
    "                     'Polar Bears': 'Fluffy',\n",
    "                     'Dinosaurs': 'Bitey'}\n",
    "x = animals_in_my_zoo"
   ]
  },
  {
   "cell_type": "code",
   "execution_count": null,
   "id": "acbd17ad-b009-443f-a4ae-b14078d1e086",
   "metadata": {},
   "outputs": [],
   "source": [
    "x"
   ]
  },
  {
   "cell_type": "code",
   "execution_count": null,
   "id": "b246da7e-746b-470f-973a-15bf5b464eee",
   "metadata": {},
   "outputs": [],
   "source": [
    "# 値は何になるか？予想してから実行してみてください\n",
    "x['Zebras'][0]"
   ]
  },
  {
   "cell_type": "code",
   "execution_count": null,
   "id": "40cdcf33-cdab-4abf-ac50-f8b06ebb96a3",
   "metadata": {},
   "outputs": [],
   "source": [
    "# 出力を想像してから実行してみて下さい\n",
    "x['Meerkat'] = 'Peeps'\n",
    "x"
   ]
  },
  {
   "cell_type": "markdown",
   "id": "6c75982d-b4b2-4d91-9253-52a0636ec8bd",
   "metadata": {},
   "source": [
    "# 演習3"
   ]
  },
  {
   "cell_type": "code",
   "execution_count": null,
   "id": "4be1f7de-b050-4d1a-ba4f-7ce16ec6ddc1",
   "metadata": {},
   "outputs": [],
   "source": [
    "# 1.xの型を確認し、2.文字型に変換してください\n",
    "x = 12345"
   ]
  },
  {
   "cell_type": "code",
   "execution_count": null,
   "id": "56d6a188-3404-40a1-97aa-2c714b6957db",
   "metadata": {},
   "outputs": [],
   "source": [
    "# 1. 型の確認\n",
    "type(x)"
   ]
  },
  {
   "cell_type": "code",
   "execution_count": null,
   "id": "ffffd264-d586-4d70-befd-311e42028526",
   "metadata": {},
   "outputs": [],
   "source": [
    "# 2. 型変換\n",
    "str(x)"
   ]
  },
  {
   "cell_type": "code",
   "execution_count": null,
   "id": "e5b5bbb2-f365-43e2-b5bd-9779d6c8cb86",
   "metadata": {},
   "outputs": [],
   "source": [
    "type(x)"
   ]
  },
  {
   "cell_type": "code",
   "execution_count": null,
   "id": "952b2e56-dd63-4b91-bbba-a5e4665693c1",
   "metadata": {},
   "outputs": [],
   "source": [
    "x = str(x)\n",
    "type(x)"
   ]
  },
  {
   "cell_type": "markdown",
   "id": "6d0b2507-d652-4459-a76d-4b56ebc8fe6c",
   "metadata": {
    "tags": []
   },
   "source": [
    "# 演習4"
   ]
  },
  {
   "cell_type": "code",
   "execution_count": null,
   "id": "a2619d00-7867-4ff6-86fc-aca278457e8d",
   "metadata": {},
   "outputs": [],
   "source": [
    "# 以下の関数の意味ををネットで調べてから出力してみてください\n",
    "random.randint(0, 100)"
   ]
  },
  {
   "cell_type": "code",
   "execution_count": null,
   "id": "672590e7-1121-4936-b4d8-60cf65d84fb2",
   "metadata": {},
   "outputs": [],
   "source": [
    "# 出力を想像してから実行してみてください\n",
    "list_a = []\n",
    "\n",
    "for i in range(10):\n",
    "    a = random.randint(0, 10)\n",
    "    print(a)\n",
    "    list_a.append(a)\n",
    "    \n",
    "list_a"
   ]
  },
  {
   "cell_type": "markdown",
   "id": "7a22601f-f7f9-4238-8e1d-de5280b39cd3",
   "metadata": {},
   "source": [
    "# 演習5"
   ]
  },
  {
   "cell_type": "code",
   "execution_count": null,
   "id": "d408d880-e40c-40f2-9712-093ae8e332b8",
   "metadata": {},
   "outputs": [],
   "source": [
    "# 0~10の整数をランダムに生成し10要素のリストを作成\n",
    "# 実行するたびに値が変わります\n",
    "import random\n",
    "a = [random.randint(0, 10) for i in range(10)]"
   ]
  },
  {
   "cell_type": "code",
   "execution_count": null,
   "id": "97e87e79-6cb9-4ba7-901b-a392918c3bfe",
   "metadata": {},
   "outputs": [],
   "source": [
    "a"
   ]
  },
  {
   "cell_type": "code",
   "execution_count": null,
   "id": "a083deaf-aea5-47a7-9865-5818630b0f5e",
   "metadata": {},
   "outputs": [],
   "source": [
    "# aの合計値が50より上なら'over 50', 50より下なら'under 50', 50なら'just 50'と出力させてください\n",
    "print('sum of a = {}'.format(sum(a)))\n",
    "\n",
    "if sum(a)>50:\n",
    "    print('over 50')\n",
    "    \n",
    "elif sum(a)<50:\n",
    "    print('under 50')\n",
    "\n",
    "else:\n",
    "    print('just 50')"
   ]
  },
  {
   "cell_type": "code",
   "execution_count": null,
   "id": "b10cf8cf-8b3e-4969-8ee1-549e7c622e76",
   "metadata": {},
   "outputs": [],
   "source": []
  }
 ],
 "metadata": {
  "kernelspec": {
   "display_name": "Python 3 (ipykernel)",
   "language": "python",
   "name": "python3"
  },
  "language_info": {
   "codemirror_mode": {
    "name": "ipython",
    "version": 3
   },
   "file_extension": ".py",
   "mimetype": "text/x-python",
   "name": "python",
   "nbconvert_exporter": "python",
   "pygments_lexer": "ipython3",
   "version": "3.7.13"
  }
 },
 "nbformat": 4,
 "nbformat_minor": 5
}
