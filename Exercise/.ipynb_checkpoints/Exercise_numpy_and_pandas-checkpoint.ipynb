{
 "cells": [
  {
   "cell_type": "markdown",
   "id": "720348f6-9860-4d03-918d-2a51f52590d1",
   "metadata": {
    "tags": []
   },
   "source": [
    "# Pandas_Series演習\n",
    "実際のデータ分析の手順に沿って演習していきます"
   ]
  },
  {
   "cell_type": "code",
   "execution_count": 3,
   "id": "324bd0f1-7fbc-48aa-90b3-87c86496721b",
   "metadata": {},
   "outputs": [],
   "source": [
    "import pandas as pd"
   ]
  },
  {
   "cell_type": "code",
   "execution_count": 5,
   "id": "d334d1b8-9b1b-4dfd-93b3-f05971a47317",
   "metadata": {
    "tags": []
   },
   "outputs": [],
   "source": [
    "# American Comunities Survay(ACS):米国国勢調査局によるデータ\n",
    "df = pd.read_stata(\n",
    "    \"https://github.com/nickeubank/MIDS_Data/raw/master/US_AmericanCommunitySurvey/US_ACS_2017_10pct_sample.dta\"\n",
    ")"
   ]
  },
  {
   "cell_type": "markdown",
   "id": "37b2c66d-065a-4dda-9f32-3c2b10059671",
   "metadata": {},
   "source": [
    "[practical data science](https://www.practicaldatascience.org/html/exercises/Exercise_dataframe.html)\n",
    ">この演習では、American Communities Survey(ACS)のデータを使用して、学歴と賃金の関係を研究します。ACSは、米国国勢調査局(ただし、10年ごとに行われる米国内のすべての人のカウントである「国勢調査」ではありませんが)が米国人口の多数の特徴を測定するために実施した調査です。<br> 私たちが扱うデータには、2017年のACS調査から約100の変数が含まれており、ACSの10%サンプルです(それ自体は米国人口の1%サンプルであるため、米国の約0.1%サンプルで作業しています)。<br>\n",
    "このデータは[IPUMS](https://usa.ipums.org/usa/)から得られ、米国だけでなく世界中の政府統計機関から主要な調査データセットのサブセットを取得するための非常に便利なツールです。<br>\n",
    "このデータで使用されるすべての変数のドキュメントは、[こちら](https://usa.ipums.org/usa-action/variables/group)にあります(変数名で検索してこのデータ内の変数の意味を把握するか、正しい名前の変数がこのデータにあるかどうかを確認したいものを検索できます)。\n",
    "このデータには、アメリカ人の代表的なサンプルの学歴と現在の収入の両方に関する情報が含まれています。<br>\n",
    "\n",
    "**今回はこのデータを使用して、人種と労働市場での価値を推定します。**"
   ]
  },
  {
   "cell_type": "markdown",
   "id": "b4cb3dbb-a1c4-4650-9ea5-27c2bce00f1b",
   "metadata": {},
   "source": [
    "## データの確認"
   ]
  },
  {
   "cell_type": "markdown",
   "id": "fc678cfd-7e84-45ea-a4bb-995a05447c37",
   "metadata": {},
   "source": [
    "### 演習1"
   ]
  },
  {
   "cell_type": "code",
   "execution_count": 138,
   "id": "31251dba-a1ab-45aa-a898-15d23d666304",
   "metadata": {},
   "outputs": [
    {
     "data": {
      "text/html": [
       "<div>\n",
       "<style scoped>\n",
       "    .dataframe tbody tr th:only-of-type {\n",
       "        vertical-align: middle;\n",
       "    }\n",
       "\n",
       "    .dataframe tbody tr th {\n",
       "        vertical-align: top;\n",
       "    }\n",
       "\n",
       "    .dataframe thead th {\n",
       "        text-align: right;\n",
       "    }\n",
       "</style>\n",
       "<table border=\"1\" class=\"dataframe\">\n",
       "  <thead>\n",
       "    <tr style=\"text-align: right;\">\n",
       "      <th></th>\n",
       "      <th>year</th>\n",
       "      <th>datanum</th>\n",
       "      <th>serial</th>\n",
       "      <th>cbserial</th>\n",
       "      <th>numprec</th>\n",
       "      <th>subsamp</th>\n",
       "      <th>hhwt</th>\n",
       "      <th>hhtype</th>\n",
       "      <th>cluster</th>\n",
       "      <th>adjust</th>\n",
       "      <th>...</th>\n",
       "      <th>migcounty1</th>\n",
       "      <th>migmet131</th>\n",
       "      <th>vetdisab</th>\n",
       "      <th>diffrem</th>\n",
       "      <th>diffphys</th>\n",
       "      <th>diffmob</th>\n",
       "      <th>diffcare</th>\n",
       "      <th>diffsens</th>\n",
       "      <th>diffeye</th>\n",
       "      <th>diffhear</th>\n",
       "    </tr>\n",
       "  </thead>\n",
       "  <tbody>\n",
       "    <tr>\n",
       "      <th>0</th>\n",
       "      <td>2017</td>\n",
       "      <td>1</td>\n",
       "      <td>177686</td>\n",
       "      <td>2.017001e+12</td>\n",
       "      <td>9</td>\n",
       "      <td>64</td>\n",
       "      <td>55</td>\n",
       "      <td>female householder, no husband present</td>\n",
       "      <td>2.017002e+12</td>\n",
       "      <td>1.011189</td>\n",
       "      <td>...</td>\n",
       "      <td>0</td>\n",
       "      <td>not in identifiable area</td>\n",
       "      <td>NaN</td>\n",
       "      <td>NaN</td>\n",
       "      <td>NaN</td>\n",
       "      <td>NaN</td>\n",
       "      <td>NaN</td>\n",
       "      <td>no vision or hearing difficulty</td>\n",
       "      <td>no</td>\n",
       "      <td>no</td>\n",
       "    </tr>\n",
       "    <tr>\n",
       "      <th>1</th>\n",
       "      <td>2017</td>\n",
       "      <td>1</td>\n",
       "      <td>1200045</td>\n",
       "      <td>2.017001e+12</td>\n",
       "      <td>6</td>\n",
       "      <td>79</td>\n",
       "      <td>25</td>\n",
       "      <td>male householder, no wife present</td>\n",
       "      <td>2.017012e+12</td>\n",
       "      <td>1.011189</td>\n",
       "      <td>...</td>\n",
       "      <td>0</td>\n",
       "      <td>not in identifiable area</td>\n",
       "      <td>NaN</td>\n",
       "      <td>no cognitive difficulty</td>\n",
       "      <td>no ambulatory difficulty</td>\n",
       "      <td>no independent living difficulty</td>\n",
       "      <td>no</td>\n",
       "      <td>no vision or hearing difficulty</td>\n",
       "      <td>no</td>\n",
       "      <td>no</td>\n",
       "    </tr>\n",
       "    <tr>\n",
       "      <th>2</th>\n",
       "      <td>2017</td>\n",
       "      <td>1</td>\n",
       "      <td>70831</td>\n",
       "      <td>2.017000e+12</td>\n",
       "      <td>1 person record</td>\n",
       "      <td>36</td>\n",
       "      <td>57</td>\n",
       "      <td>male householder, living alone</td>\n",
       "      <td>2.017001e+12</td>\n",
       "      <td>1.011189</td>\n",
       "      <td>...</td>\n",
       "      <td>0</td>\n",
       "      <td>not in identifiable area</td>\n",
       "      <td>NaN</td>\n",
       "      <td>has cognitive difficulty</td>\n",
       "      <td>no ambulatory difficulty</td>\n",
       "      <td>no independent living difficulty</td>\n",
       "      <td>no</td>\n",
       "      <td>no vision or hearing difficulty</td>\n",
       "      <td>no</td>\n",
       "      <td>no</td>\n",
       "    </tr>\n",
       "    <tr>\n",
       "      <th>3</th>\n",
       "      <td>2017</td>\n",
       "      <td>1</td>\n",
       "      <td>557128</td>\n",
       "      <td>2.017001e+12</td>\n",
       "      <td>2</td>\n",
       "      <td>10</td>\n",
       "      <td>98</td>\n",
       "      <td>married-couple family household</td>\n",
       "      <td>2.017006e+12</td>\n",
       "      <td>1.011189</td>\n",
       "      <td>...</td>\n",
       "      <td>0</td>\n",
       "      <td>not in identifiable area</td>\n",
       "      <td>NaN</td>\n",
       "      <td>no cognitive difficulty</td>\n",
       "      <td>no ambulatory difficulty</td>\n",
       "      <td>no independent living difficulty</td>\n",
       "      <td>no</td>\n",
       "      <td>no vision or hearing difficulty</td>\n",
       "      <td>no</td>\n",
       "      <td>no</td>\n",
       "    </tr>\n",
       "    <tr>\n",
       "      <th>4</th>\n",
       "      <td>2017</td>\n",
       "      <td>1</td>\n",
       "      <td>614890</td>\n",
       "      <td>2.017001e+12</td>\n",
       "      <td>4</td>\n",
       "      <td>96</td>\n",
       "      <td>54</td>\n",
       "      <td>married-couple family household</td>\n",
       "      <td>2.017006e+12</td>\n",
       "      <td>1.011189</td>\n",
       "      <td>...</td>\n",
       "      <td>0</td>\n",
       "      <td>not in identifiable area</td>\n",
       "      <td>NaN</td>\n",
       "      <td>NaN</td>\n",
       "      <td>NaN</td>\n",
       "      <td>NaN</td>\n",
       "      <td>NaN</td>\n",
       "      <td>no vision or hearing difficulty</td>\n",
       "      <td>no</td>\n",
       "      <td>no</td>\n",
       "    </tr>\n",
       "  </tbody>\n",
       "</table>\n",
       "<p>5 rows × 104 columns</p>\n",
       "</div>"
      ],
      "text/plain": [
       "   year  datanum   serial      cbserial          numprec subsamp  hhwt  \\\n",
       "0  2017        1   177686  2.017001e+12                9      64    55   \n",
       "1  2017        1  1200045  2.017001e+12                6      79    25   \n",
       "2  2017        1    70831  2.017000e+12  1 person record      36    57   \n",
       "3  2017        1   557128  2.017001e+12                2      10    98   \n",
       "4  2017        1   614890  2.017001e+12                4      96    54   \n",
       "\n",
       "                                   hhtype       cluster    adjust  ...  \\\n",
       "0  female householder, no husband present  2.017002e+12  1.011189  ...   \n",
       "1       male householder, no wife present  2.017012e+12  1.011189  ...   \n",
       "2          male householder, living alone  2.017001e+12  1.011189  ...   \n",
       "3         married-couple family household  2.017006e+12  1.011189  ...   \n",
       "4         married-couple family household  2.017006e+12  1.011189  ...   \n",
       "\n",
       "   migcounty1                 migmet131 vetdisab                   diffrem  \\\n",
       "0           0  not in identifiable area      NaN                       NaN   \n",
       "1           0  not in identifiable area      NaN   no cognitive difficulty   \n",
       "2           0  not in identifiable area      NaN  has cognitive difficulty   \n",
       "3           0  not in identifiable area      NaN   no cognitive difficulty   \n",
       "4           0  not in identifiable area      NaN                       NaN   \n",
       "\n",
       "                   diffphys                           diffmob diffcare  \\\n",
       "0                       NaN                               NaN      NaN   \n",
       "1  no ambulatory difficulty  no independent living difficulty       no   \n",
       "2  no ambulatory difficulty  no independent living difficulty       no   \n",
       "3  no ambulatory difficulty  no independent living difficulty       no   \n",
       "4                       NaN                               NaN      NaN   \n",
       "\n",
       "                          diffsens  diffeye  diffhear  \n",
       "0  no vision or hearing difficulty       no        no  \n",
       "1  no vision or hearing difficulty       no        no  \n",
       "2  no vision or hearing difficulty       no        no  \n",
       "3  no vision or hearing difficulty       no        no  \n",
       "4  no vision or hearing difficulty       no        no  \n",
       "\n",
       "[5 rows x 104 columns]"
      ]
     },
     "execution_count": 138,
     "metadata": {},
     "output_type": "execute_result"
    }
   ],
   "source": [
    "# DataFrameの先頭5行を確認してください\n"
   ]
  },
  {
   "cell_type": "markdown",
   "id": "4a9a3ea4-66fd-4618-8c45-1bb9e8342f20",
   "metadata": {},
   "source": [
    "### 演習2"
   ]
  },
  {
   "cell_type": "code",
   "execution_count": 6,
   "id": "1be391b0-7599-4f5d-b91e-890ae18a4754",
   "metadata": {},
   "outputs": [
    {
     "data": {
      "text/plain": [
       "(319004, 104)"
      ]
     },
     "execution_count": 6,
     "metadata": {},
     "output_type": "execute_result"
    }
   ],
   "source": [
    "# DataFrameのサイズを確認してください\n"
   ]
  },
  {
   "cell_type": "markdown",
   "id": "ef7f1fcb-ad9d-416f-a625-7ab395709b0e",
   "metadata": {
    "tags": []
   },
   "source": [
    "### 演習3"
   ]
  },
  {
   "cell_type": "code",
   "execution_count": 126,
   "id": "98ced34c-5d00-417c-b051-f9193331db75",
   "metadata": {},
   "outputs": [
    {
     "data": {
      "text/plain": [
       "Index(['year', 'datanum', 'serial', 'cbserial', 'numprec', 'subsamp', 'hhwt',\n",
       "       'hhtype', 'cluster', 'adjust',\n",
       "       ...\n",
       "       'migcounty1', 'migmet131', 'vetdisab', 'diffrem', 'diffphys', 'diffmob',\n",
       "       'diffcare', 'diffsens', 'diffeye', 'diffhear'],\n",
       "      dtype='object', length=104)"
      ]
     },
     "execution_count": 126,
     "metadata": {},
     "output_type": "execute_result"
    }
   ],
   "source": [
    "# DataFrameのカラムを確認してください\n"
   ]
  },
  {
   "cell_type": "markdown",
   "id": "043c99e0-c211-460c-8432-44d3a973a5d8",
   "metadata": {
    "tags": []
   },
   "source": [
    "### 演習4\n",
    "**平均所得(`columns = 'inctot'`)**"
   ]
  },
  {
   "cell_type": "code",
   "execution_count": 15,
   "id": "7e77053b-fe6a-4db3-980b-a50b098a92af",
   "metadata": {},
   "outputs": [
    {
     "data": {
      "text/plain": [
       "count    3.190040e+05\n",
       "mean     1.723646e+06\n",
       "std      3.732326e+06\n",
       "min     -9.000000e+03\n",
       "25%      1.050000e+04\n",
       "50%      3.370000e+04\n",
       "75%      9.140000e+04\n",
       "max      9.999999e+06\n",
       "Name: inctot, dtype: float64"
      ]
     },
     "execution_count": 15,
     "metadata": {},
     "output_type": "execute_result"
    }
   ],
   "source": [
    "# 平均所得の統計量を確認してください\n"
   ]
  },
  {
   "cell_type": "code",
   "execution_count": 132,
   "id": "1db67665-19ca-4f1d-85e9-61e1ffe61c08",
   "metadata": {},
   "outputs": [
    {
     "data": {
      "text/plain": [
       "1723646.2703978634"
      ]
     },
     "execution_count": 132,
     "metadata": {},
     "output_type": "execute_result"
    }
   ],
   "source": [
    "df['inctot'].describe()['mean']"
   ]
  },
  {
   "cell_type": "markdown",
   "id": "87a10942-5ba9-4ad6-a3de-8810c5b581fd",
   "metadata": {},
   "source": [
    "**平均所得が高すぎる→max値がどうも怪しい**"
   ]
  },
  {
   "cell_type": "markdown",
   "id": "f860eab1-99bf-4988-bc71-643d05736ad0",
   "metadata": {},
   "source": [
    "### 演習5"
   ]
  },
  {
   "cell_type": "code",
   "execution_count": 133,
   "id": "06203e0e-e599-4074-b477-d07d45b1c6bb",
   "metadata": {},
   "outputs": [
    {
     "data": {
      "text/plain": [
       "9999999    53901\n",
       "0          33679\n",
       "30000       4778\n",
       "50000       4414\n",
       "40000       4413\n",
       "           ...  \n",
       "70520          1\n",
       "76680          1\n",
       "57760          1\n",
       "200310         1\n",
       "505400         1\n",
       "Name: inctot, Length: 8471, dtype: int64"
      ]
     },
     "execution_count": 133,
     "metadata": {},
     "output_type": "execute_result"
    }
   ],
   "source": [
    "# inctot列にはどのような値が含まれていてそれぞれが何個あるかを見つけてください\n"
   ]
  },
  {
   "cell_type": "markdown",
   "id": "c0593c3e-e4dc-4d5a-9241-4f57dca6a912",
   "metadata": {},
   "source": [
    "**9999999が多すぎる** <br>\n",
    "**→ このデータでは欠損地を9999999にしているらしいと予想できます**"
   ]
  },
  {
   "cell_type": "markdown",
   "id": "84048a17-ed82-428f-ac2e-024c0a84d37e",
   "metadata": {},
   "source": [
    "### 演習6"
   ]
  },
  {
   "cell_type": "code",
   "execution_count": 19,
   "id": "88b248e0-616a-4842-bdd0-8a473b284371",
   "metadata": {},
   "outputs": [],
   "source": [
    "# 9999999をnp.nanに置換してください\n"
   ]
  },
  {
   "cell_type": "code",
   "execution_count": 20,
   "id": "6601fe3a-96b3-4893-93a8-3955981dfe28",
   "metadata": {},
   "outputs": [
    {
     "data": {
      "text/plain": [
       "0.0         33679\n",
       "30000.0      4778\n",
       "50000.0      4414\n",
       "40000.0      4413\n",
       "20000.0      4067\n",
       "            ...  \n",
       "246600.0        1\n",
       "90810.0         1\n",
       "341380.0        1\n",
       "15790.0         1\n",
       "505400.0        1\n",
       "Name: inctot, Length: 8470, dtype: int64"
      ]
     },
     "execution_count": 20,
     "metadata": {},
     "output_type": "execute_result"
    }
   ],
   "source": [
    "df['inctot'].value_counts()"
   ]
  },
  {
   "cell_type": "markdown",
   "id": "9ee704a2-69eb-48e4-a404-f45f7640414e",
   "metadata": {},
   "source": [
    "### 演習7"
   ]
  },
  {
   "cell_type": "code",
   "execution_count": 21,
   "id": "f494b2d6-6bd3-434c-8acc-c83f7ed5f3cb",
   "metadata": {},
   "outputs": [
    {
     "data": {
      "text/plain": [
       "40890.177564946454"
      ]
     },
     "execution_count": 21,
     "metadata": {},
     "output_type": "execute_result"
    }
   ],
   "source": [
    "# もう一度平均所得を計算してください\n"
   ]
  },
  {
   "cell_type": "markdown",
   "id": "d9967fec-891f-475e-bc80-fbe4d32dc686",
   "metadata": {},
   "source": [
    "**それではいつ9999999が使われていたのかを特定します**"
   ]
  },
  {
   "cell_type": "markdown",
   "id": "3cfb91b9-70dc-444e-b8e7-95d5873e653f",
   "metadata": {},
   "source": [
    "### 演習8"
   ]
  },
  {
   "cell_type": "code",
   "execution_count": 25,
   "id": "7523fc31-e9bd-4ecc-a68e-6d2b908e9410",
   "metadata": {
    "collapsed": true,
    "jupyter": {
     "outputs_hidden": true
    },
    "tags": []
   },
   "outputs": [
    {
     "data": {
      "text/html": [
       "<div>\n",
       "<style scoped>\n",
       "    .dataframe tbody tr th:only-of-type {\n",
       "        vertical-align: middle;\n",
       "    }\n",
       "\n",
       "    .dataframe tbody tr th {\n",
       "        vertical-align: top;\n",
       "    }\n",
       "\n",
       "    .dataframe thead th {\n",
       "        text-align: right;\n",
       "    }\n",
       "</style>\n",
       "<table border=\"1\" class=\"dataframe\">\n",
       "  <thead>\n",
       "    <tr style=\"text-align: right;\">\n",
       "      <th></th>\n",
       "      <th>year</th>\n",
       "      <th>datanum</th>\n",
       "      <th>serial</th>\n",
       "      <th>cbserial</th>\n",
       "      <th>numprec</th>\n",
       "      <th>subsamp</th>\n",
       "      <th>hhwt</th>\n",
       "      <th>hhtype</th>\n",
       "      <th>cluster</th>\n",
       "      <th>adjust</th>\n",
       "      <th>...</th>\n",
       "      <th>migcounty1</th>\n",
       "      <th>migmet131</th>\n",
       "      <th>vetdisab</th>\n",
       "      <th>diffrem</th>\n",
       "      <th>diffphys</th>\n",
       "      <th>diffmob</th>\n",
       "      <th>diffcare</th>\n",
       "      <th>diffsens</th>\n",
       "      <th>diffeye</th>\n",
       "      <th>diffhear</th>\n",
       "    </tr>\n",
       "  </thead>\n",
       "  <tbody>\n",
       "    <tr>\n",
       "      <th>0</th>\n",
       "      <td>2017</td>\n",
       "      <td>1</td>\n",
       "      <td>177686</td>\n",
       "      <td>2.017001e+12</td>\n",
       "      <td>9</td>\n",
       "      <td>64</td>\n",
       "      <td>55</td>\n",
       "      <td>female householder, no husband present</td>\n",
       "      <td>2.017002e+12</td>\n",
       "      <td>1.011189</td>\n",
       "      <td>...</td>\n",
       "      <td>0</td>\n",
       "      <td>not in identifiable area</td>\n",
       "      <td>n/a</td>\n",
       "      <td>n/a</td>\n",
       "      <td>n/a</td>\n",
       "      <td>n/a</td>\n",
       "      <td>n/a</td>\n",
       "      <td>no vision or hearing difficulty</td>\n",
       "      <td>no</td>\n",
       "      <td>no</td>\n",
       "    </tr>\n",
       "    <tr>\n",
       "      <th>4</th>\n",
       "      <td>2017</td>\n",
       "      <td>1</td>\n",
       "      <td>614890</td>\n",
       "      <td>2.017001e+12</td>\n",
       "      <td>4</td>\n",
       "      <td>96</td>\n",
       "      <td>54</td>\n",
       "      <td>married-couple family household</td>\n",
       "      <td>2.017006e+12</td>\n",
       "      <td>1.011189</td>\n",
       "      <td>...</td>\n",
       "      <td>0</td>\n",
       "      <td>not in identifiable area</td>\n",
       "      <td>n/a</td>\n",
       "      <td>n/a</td>\n",
       "      <td>n/a</td>\n",
       "      <td>n/a</td>\n",
       "      <td>n/a</td>\n",
       "      <td>no vision or hearing difficulty</td>\n",
       "      <td>no</td>\n",
       "      <td>no</td>\n",
       "    </tr>\n",
       "    <tr>\n",
       "      <th>7</th>\n",
       "      <td>2017</td>\n",
       "      <td>1</td>\n",
       "      <td>1250314</td>\n",
       "      <td>2.017001e+12</td>\n",
       "      <td>4</td>\n",
       "      <td>98</td>\n",
       "      <td>70</td>\n",
       "      <td>married-couple family household</td>\n",
       "      <td>2.017013e+12</td>\n",
       "      <td>1.011189</td>\n",
       "      <td>...</td>\n",
       "      <td>0</td>\n",
       "      <td>not in identifiable area</td>\n",
       "      <td>n/a</td>\n",
       "      <td>no cognitive difficulty</td>\n",
       "      <td>no ambulatory difficulty</td>\n",
       "      <td>n/a</td>\n",
       "      <td>no</td>\n",
       "      <td>no vision or hearing difficulty</td>\n",
       "      <td>no</td>\n",
       "      <td>no</td>\n",
       "    </tr>\n",
       "    <tr>\n",
       "      <th>8</th>\n",
       "      <td>2017</td>\n",
       "      <td>1</td>\n",
       "      <td>32541</td>\n",
       "      <td>2.017000e+12</td>\n",
       "      <td>5</td>\n",
       "      <td>42</td>\n",
       "      <td>67</td>\n",
       "      <td>hhtype could not be determined</td>\n",
       "      <td>2.017000e+12</td>\n",
       "      <td>1.011189</td>\n",
       "      <td>...</td>\n",
       "      <td>13</td>\n",
       "      <td>phoenix-mesa-scottsdale, az</td>\n",
       "      <td>n/a</td>\n",
       "      <td>no cognitive difficulty</td>\n",
       "      <td>no ambulatory difficulty</td>\n",
       "      <td>n/a</td>\n",
       "      <td>no</td>\n",
       "      <td>no vision or hearing difficulty</td>\n",
       "      <td>no</td>\n",
       "      <td>no</td>\n",
       "    </tr>\n",
       "    <tr>\n",
       "      <th>11</th>\n",
       "      <td>2017</td>\n",
       "      <td>1</td>\n",
       "      <td>105085</td>\n",
       "      <td>2.017000e+12</td>\n",
       "      <td>4</td>\n",
       "      <td>11</td>\n",
       "      <td>101</td>\n",
       "      <td>married-couple family household</td>\n",
       "      <td>2.017001e+12</td>\n",
       "      <td>1.011189</td>\n",
       "      <td>...</td>\n",
       "      <td>0</td>\n",
       "      <td>not in identifiable area</td>\n",
       "      <td>n/a</td>\n",
       "      <td>no cognitive difficulty</td>\n",
       "      <td>no ambulatory difficulty</td>\n",
       "      <td>n/a</td>\n",
       "      <td>no</td>\n",
       "      <td>no vision or hearing difficulty</td>\n",
       "      <td>no</td>\n",
       "      <td>no</td>\n",
       "    </tr>\n",
       "    <tr>\n",
       "      <th>...</th>\n",
       "      <td>...</td>\n",
       "      <td>...</td>\n",
       "      <td>...</td>\n",
       "      <td>...</td>\n",
       "      <td>...</td>\n",
       "      <td>...</td>\n",
       "      <td>...</td>\n",
       "      <td>...</td>\n",
       "      <td>...</td>\n",
       "      <td>...</td>\n",
       "      <td>...</td>\n",
       "      <td>...</td>\n",
       "      <td>...</td>\n",
       "      <td>...</td>\n",
       "      <td>...</td>\n",
       "      <td>...</td>\n",
       "      <td>...</td>\n",
       "      <td>...</td>\n",
       "      <td>...</td>\n",
       "      <td>...</td>\n",
       "      <td>...</td>\n",
       "    </tr>\n",
       "    <tr>\n",
       "      <th>318986</th>\n",
       "      <td>2017</td>\n",
       "      <td>1</td>\n",
       "      <td>157942</td>\n",
       "      <td>2.017001e+12</td>\n",
       "      <td>3</td>\n",
       "      <td>80</td>\n",
       "      <td>165</td>\n",
       "      <td>married-couple family household</td>\n",
       "      <td>2.017002e+12</td>\n",
       "      <td>1.011189</td>\n",
       "      <td>...</td>\n",
       "      <td>59</td>\n",
       "      <td>los angeles-long beach-anaheim, ca</td>\n",
       "      <td>n/a</td>\n",
       "      <td>n/a</td>\n",
       "      <td>n/a</td>\n",
       "      <td>n/a</td>\n",
       "      <td>n/a</td>\n",
       "      <td>no vision or hearing difficulty</td>\n",
       "      <td>no</td>\n",
       "      <td>no</td>\n",
       "    </tr>\n",
       "    <tr>\n",
       "      <th>318989</th>\n",
       "      <td>2017</td>\n",
       "      <td>1</td>\n",
       "      <td>441873</td>\n",
       "      <td>2.017001e+12</td>\n",
       "      <td>11</td>\n",
       "      <td>77</td>\n",
       "      <td>120</td>\n",
       "      <td>married-couple family household</td>\n",
       "      <td>2.017004e+12</td>\n",
       "      <td>1.011189</td>\n",
       "      <td>...</td>\n",
       "      <td>0</td>\n",
       "      <td>not in identifiable area</td>\n",
       "      <td>n/a</td>\n",
       "      <td>n/a</td>\n",
       "      <td>n/a</td>\n",
       "      <td>n/a</td>\n",
       "      <td>n/a</td>\n",
       "      <td>no vision or hearing difficulty</td>\n",
       "      <td>no</td>\n",
       "      <td>no</td>\n",
       "    </tr>\n",
       "    <tr>\n",
       "      <th>318991</th>\n",
       "      <td>2017</td>\n",
       "      <td>1</td>\n",
       "      <td>892823</td>\n",
       "      <td>2.017001e+12</td>\n",
       "      <td>5</td>\n",
       "      <td>24</td>\n",
       "      <td>146</td>\n",
       "      <td>female householder, no husband present</td>\n",
       "      <td>2.017009e+12</td>\n",
       "      <td>1.011189</td>\n",
       "      <td>...</td>\n",
       "      <td>0</td>\n",
       "      <td>not in identifiable area</td>\n",
       "      <td>n/a</td>\n",
       "      <td>no cognitive difficulty</td>\n",
       "      <td>no ambulatory difficulty</td>\n",
       "      <td>n/a</td>\n",
       "      <td>no</td>\n",
       "      <td>no vision or hearing difficulty</td>\n",
       "      <td>no</td>\n",
       "      <td>no</td>\n",
       "    </tr>\n",
       "    <tr>\n",
       "      <th>318997</th>\n",
       "      <td>2017</td>\n",
       "      <td>1</td>\n",
       "      <td>798229</td>\n",
       "      <td>2.017001e+12</td>\n",
       "      <td>5</td>\n",
       "      <td>53</td>\n",
       "      <td>72</td>\n",
       "      <td>married-couple family household</td>\n",
       "      <td>2.017008e+12</td>\n",
       "      <td>1.011189</td>\n",
       "      <td>...</td>\n",
       "      <td>0</td>\n",
       "      <td>not in identifiable area</td>\n",
       "      <td>n/a</td>\n",
       "      <td>no cognitive difficulty</td>\n",
       "      <td>no ambulatory difficulty</td>\n",
       "      <td>n/a</td>\n",
       "      <td>no</td>\n",
       "      <td>no vision or hearing difficulty</td>\n",
       "      <td>no</td>\n",
       "      <td>no</td>\n",
       "    </tr>\n",
       "    <tr>\n",
       "      <th>319000</th>\n",
       "      <td>2017</td>\n",
       "      <td>1</td>\n",
       "      <td>586263</td>\n",
       "      <td>2.017001e+12</td>\n",
       "      <td>4</td>\n",
       "      <td>57</td>\n",
       "      <td>77</td>\n",
       "      <td>married-couple family household</td>\n",
       "      <td>2.017006e+12</td>\n",
       "      <td>1.011189</td>\n",
       "      <td>...</td>\n",
       "      <td>0</td>\n",
       "      <td>not in identifiable area</td>\n",
       "      <td>n/a</td>\n",
       "      <td>n/a</td>\n",
       "      <td>n/a</td>\n",
       "      <td>n/a</td>\n",
       "      <td>n/a</td>\n",
       "      <td>no vision or hearing difficulty</td>\n",
       "      <td>no</td>\n",
       "      <td>no</td>\n",
       "    </tr>\n",
       "  </tbody>\n",
       "</table>\n",
       "<p>53901 rows × 104 columns</p>\n",
       "</div>"
      ],
      "text/plain": [
       "        year  datanum   serial      cbserial numprec subsamp  hhwt  \\\n",
       "0       2017        1   177686  2.017001e+12       9      64    55   \n",
       "4       2017        1   614890  2.017001e+12       4      96    54   \n",
       "7       2017        1  1250314  2.017001e+12       4      98    70   \n",
       "8       2017        1    32541  2.017000e+12       5      42    67   \n",
       "11      2017        1   105085  2.017000e+12       4      11   101   \n",
       "...      ...      ...      ...           ...     ...     ...   ...   \n",
       "318986  2017        1   157942  2.017001e+12       3      80   165   \n",
       "318989  2017        1   441873  2.017001e+12      11      77   120   \n",
       "318991  2017        1   892823  2.017001e+12       5      24   146   \n",
       "318997  2017        1   798229  2.017001e+12       5      53    72   \n",
       "319000  2017        1   586263  2.017001e+12       4      57    77   \n",
       "\n",
       "                                        hhtype       cluster    adjust  ...  \\\n",
       "0       female householder, no husband present  2.017002e+12  1.011189  ...   \n",
       "4              married-couple family household  2.017006e+12  1.011189  ...   \n",
       "7              married-couple family household  2.017013e+12  1.011189  ...   \n",
       "8               hhtype could not be determined  2.017000e+12  1.011189  ...   \n",
       "11             married-couple family household  2.017001e+12  1.011189  ...   \n",
       "...                                        ...           ...       ...  ...   \n",
       "318986         married-couple family household  2.017002e+12  1.011189  ...   \n",
       "318989         married-couple family household  2.017004e+12  1.011189  ...   \n",
       "318991  female householder, no husband present  2.017009e+12  1.011189  ...   \n",
       "318997         married-couple family household  2.017008e+12  1.011189  ...   \n",
       "319000         married-couple family household  2.017006e+12  1.011189  ...   \n",
       "\n",
       "        migcounty1                           migmet131 vetdisab  \\\n",
       "0                0            not in identifiable area      n/a   \n",
       "4                0            not in identifiable area      n/a   \n",
       "7                0            not in identifiable area      n/a   \n",
       "8               13         phoenix-mesa-scottsdale, az      n/a   \n",
       "11               0            not in identifiable area      n/a   \n",
       "...            ...                                 ...      ...   \n",
       "318986          59  los angeles-long beach-anaheim, ca      n/a   \n",
       "318989           0            not in identifiable area      n/a   \n",
       "318991           0            not in identifiable area      n/a   \n",
       "318997           0            not in identifiable area      n/a   \n",
       "319000           0            not in identifiable area      n/a   \n",
       "\n",
       "                        diffrem                  diffphys  diffmob diffcare  \\\n",
       "0                           n/a                       n/a      n/a      n/a   \n",
       "4                           n/a                       n/a      n/a      n/a   \n",
       "7       no cognitive difficulty  no ambulatory difficulty      n/a       no   \n",
       "8       no cognitive difficulty  no ambulatory difficulty      n/a       no   \n",
       "11      no cognitive difficulty  no ambulatory difficulty      n/a       no   \n",
       "...                         ...                       ...      ...      ...   \n",
       "318986                      n/a                       n/a      n/a      n/a   \n",
       "318989                      n/a                       n/a      n/a      n/a   \n",
       "318991  no cognitive difficulty  no ambulatory difficulty      n/a       no   \n",
       "318997  no cognitive difficulty  no ambulatory difficulty      n/a       no   \n",
       "319000                      n/a                       n/a      n/a      n/a   \n",
       "\n",
       "                               diffsens  diffeye  diffhear  \n",
       "0       no vision or hearing difficulty       no        no  \n",
       "4       no vision or hearing difficulty       no        no  \n",
       "7       no vision or hearing difficulty       no        no  \n",
       "8       no vision or hearing difficulty       no        no  \n",
       "11      no vision or hearing difficulty       no        no  \n",
       "...                                 ...      ...       ...  \n",
       "318986  no vision or hearing difficulty       no        no  \n",
       "318989  no vision or hearing difficulty       no        no  \n",
       "318991  no vision or hearing difficulty       no        no  \n",
       "318997  no vision or hearing difficulty       no        no  \n",
       "319000  no vision or hearing difficulty       no        no  \n",
       "\n",
       "[53901 rows x 104 columns]"
      ]
     },
     "execution_count": 25,
     "metadata": {},
     "output_type": "execute_result"
    }
   ],
   "source": [
    "# dfの中でinctotがNaNの行を抽出して下さい\n"
   ]
  },
  {
   "cell_type": "markdown",
   "id": "924b0778-5831-403c-aa20-29fe845784b6",
   "metadata": {},
   "source": [
    "### 演習9"
   ]
  },
  {
   "cell_type": "code",
   "execution_count": 26,
   "id": "5cee2108-f8df-4a6d-92ac-5dc8bb6d0c1d",
   "metadata": {},
   "outputs": [
    {
     "data": {
      "text/plain": [
       "10                      3997\n",
       "9                       3977\n",
       "14                      3847\n",
       "12                      3845\n",
       "13                      3800\n",
       "11                      3791\n",
       "8                       3648\n",
       "7                       3527\n",
       "6                       3524\n",
       "5                       3512\n",
       "2                       3405\n",
       "1                       3340\n",
       "4                       3318\n",
       "3                       3220\n",
       "less than 1 year old    3150\n",
       "74                         0\n",
       "73                         0\n",
       "72                         0\n",
       "71                         0\n",
       "70                         0\n",
       "Name: age, dtype: int64"
      ]
     },
     "execution_count": 26,
     "metadata": {},
     "output_type": "execute_result"
    }
   ],
   "source": [
    "# さらにage列を抽出し9999999がいつ使われていたかを特定してください\n",
    "# 本来であればすべてのカラムに対して調査しないといけないですが簡単のため原因がage列にある事がわかっているものとします\n"
   ]
  },
  {
   "cell_type": "markdown",
   "id": "1bfe357f-48da-44aa-81c2-99454e077dd3",
   "metadata": {},
   "source": [
    "**どうやら14歳以下のinctotを9999999にしていたらしい**"
   ]
  },
  {
   "cell_type": "markdown",
   "id": "012ca722-b5e5-4ddf-a339-5605c3475ee9",
   "metadata": {},
   "source": [
    "***さらに収入0もかなりの数あるため現在働いている人を対象として抽出*** <br>\n",
    "**→労働市場での価値を測りたいため**"
   ]
  },
  {
   "cell_type": "markdown",
   "id": "2b018021-447f-4ac4-9d59-a6e3fae9b5e6",
   "metadata": {
    "tags": []
   },
   "source": [
    "### 演習10\n",
    "**労働しているかの指標(`columns = 'empstat'`)**"
   ]
  },
  {
   "cell_type": "code",
   "execution_count": 27,
   "id": "fadb406a-ebdb-4a08-96d2-0ebaf2890979",
   "metadata": {},
   "outputs": [
    {
     "data": {
      "text/plain": [
       "employed              148758\n",
       "not in labor force    104676\n",
       "n/a                    57843\n",
       "unemployed              7727\n",
       "Name: empstat, dtype: int64"
      ]
     },
     "execution_count": 27,
     "metadata": {},
     "output_type": "execute_result"
    }
   ],
   "source": [
    "# empstatのvaluesを確認してください\n"
   ]
  },
  {
   "cell_type": "code",
   "execution_count": 146,
   "id": "458e1f80-21b1-4582-903a-6a4d0fb93e35",
   "metadata": {},
   "outputs": [
    {
     "data": {
      "text/plain": [
       "57854.723914007984"
      ]
     },
     "execution_count": 146,
     "metadata": {},
     "output_type": "execute_result"
    }
   ],
   "source": [
    "# dfのうち雇用されている人の平均所得を出力してください\n"
   ]
  },
  {
   "cell_type": "markdown",
   "id": "32407247-db3e-4dde-8409-35a899618405",
   "metadata": {},
   "source": [
    "## 分析"
   ]
  },
  {
   "cell_type": "markdown",
   "id": "5067eddb-b38c-4b9d-b331-20352fbec9cd",
   "metadata": {},
   "source": [
    "### 演習11"
   ]
  },
  {
   "cell_type": "markdown",
   "id": "f1500885-631f-4728-a254-c4bd90b81e93",
   "metadata": {},
   "source": [
    "**収入と人種(`columns='race'`)**"
   ]
  },
  {
   "cell_type": "code",
   "execution_count": 28,
   "id": "52d83bc1-26f0-4a12-a0d1-68ca55ab39f1",
   "metadata": {},
   "outputs": [
    {
     "data": {
      "text/plain": [
       "white                               243751\n",
       "black/african american/negro         31691\n",
       "other asian or pacific islander      12508\n",
       "other race, nec                      12304\n",
       "two major races                       8826\n",
       "chinese                               4313\n",
       "american indian or alaska native      3595\n",
       "three or more major races             1207\n",
       "japanese                               809\n",
       "Name: race, dtype: int64"
      ]
     },
     "execution_count": 28,
     "metadata": {},
     "output_type": "execute_result"
    }
   ],
   "source": [
    "# 人種のvalueを確認してください\n"
   ]
  },
  {
   "cell_type": "markdown",
   "id": "9833a935-85e6-4d2e-afbe-d017e49ad8fb",
   "metadata": {},
   "source": [
    "***ここでは白人と日本人で比較***"
   ]
  },
  {
   "cell_type": "markdown",
   "id": "95a8a2d5-3f51-43d6-8deb-01e60ea7c77e",
   "metadata": {},
   "source": [
    "### 演習12"
   ]
  },
  {
   "cell_type": "code",
   "execution_count": 29,
   "id": "7dada196-40fd-4425-a1aa-ae001890ab5a",
   "metadata": {},
   "outputs": [
    {
     "data": {
      "text/plain": [
       "60473.15372747098"
      ]
     },
     "execution_count": 29,
     "metadata": {},
     "output_type": "execute_result"
    }
   ],
   "source": [
    "# 白人かつ雇用されている人の平均年収を出力してください\n",
    "# 複数条件のmaskは()で囲み, &(and), |(or)で記述\n"
   ]
  },
  {
   "cell_type": "code",
   "execution_count": 30,
   "id": "0fd8cf42-7751-48ff-b549-c04ee4bd83c5",
   "metadata": {},
   "outputs": [
    {
     "data": {
      "text/plain": [
       "78906.74418604652"
      ]
     },
     "execution_count": 30,
     "metadata": {},
     "output_type": "execute_result"
    }
   ],
   "source": [
    "# 日本人かつ雇用されている人の平均所得を出力してください\n"
   ]
  },
  {
   "cell_type": "markdown",
   "id": "b7849a07-b3f4-4fcc-b8a3-f4b37007f183",
   "metadata": {},
   "source": [
    "***groupbyで一度に算出***"
   ]
  },
  {
   "cell_type": "code",
   "execution_count": 152,
   "id": "9dc45f46-afff-44fa-b7f9-ace97d1c7442",
   "metadata": {},
   "outputs": [
    {
     "data": {
      "text/plain": [
       "race\n",
       "american indian or alaska native    23992.854989\n",
       "black/african american/negro        27427.134738\n",
       "chinese                             47246.115591\n",
       "japanese                            54477.486842\n",
       "other asian or pacific islander     45444.672559\n",
       "other race, nec                     23703.220545\n",
       "three or more major races           34824.905660\n",
       "two major races                     32277.964461\n",
       "white                               43488.430019\n",
       "Name: inctot, dtype: float64"
      ]
     },
     "execution_count": 152,
     "metadata": {},
     "output_type": "execute_result"
    }
   ],
   "source": [
    "# non_employed含む\n"
   ]
  },
  {
   "cell_type": "code",
   "execution_count": 153,
   "id": "e9c74b97-7a6b-41d6-8870-ecbd4a506a16",
   "metadata": {},
   "outputs": [
    {
     "data": {
      "text/plain": [
       "race\n",
       "american indian or alaska native    37996.522481\n",
       "black/african american/negro        41747.949905\n",
       "chinese                             72804.918567\n",
       "japanese                            78906.744186\n",
       "other asian or pacific islander     66647.736613\n",
       "other race, nec                     34989.400521\n",
       "three or more major races           49787.183099\n",
       "two major races                     49021.151515\n",
       "white                               60473.153727\n",
       "Name: inctot, dtype: float64"
      ]
     },
     "execution_count": 153,
     "metadata": {},
     "output_type": "execute_result"
    }
   ],
   "source": [
    "# employedのみ\n"
   ]
  },
  {
   "cell_type": "markdown",
   "id": "de1810e0-e5cb-4f17-b347-36a4ebcfa832",
   "metadata": {},
   "source": [
    "### 演習13"
   ]
  },
  {
   "cell_type": "markdown",
   "id": "555dfa2f-d0cc-4e93-9166-a6e8be32d65b",
   "metadata": {},
   "source": [
    "白人の中にはヒスパニック系アメリカ人も含まれるため、一般に想定される白人アメリカ人の給与が過小評価されてしまっている<br>\n",
    "`hispan`列を用いて白人アメリカ人の平均給与を算出してください"
   ]
  },
  {
   "cell_type": "code",
   "execution_count": null,
   "id": "a30fc830-d904-43db-bd1c-086f04f75a02",
   "metadata": {},
   "outputs": [],
   "source": []
  }
 ],
 "metadata": {
  "kernelspec": {
   "display_name": "Python 3 (ipykernel)",
   "language": "python",
   "name": "python3"
  },
  "language_info": {
   "codemirror_mode": {
    "name": "ipython",
    "version": 3
   },
   "file_extension": ".py",
   "mimetype": "text/x-python",
   "name": "python",
   "nbconvert_exporter": "python",
   "pygments_lexer": "ipython3",
   "version": "3.7.13"
  },
  "toc-autonumbering": false
 },
 "nbformat": 4,
 "nbformat_minor": 5
}
