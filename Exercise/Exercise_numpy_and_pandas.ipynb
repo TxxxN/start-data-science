{
 "cells": [
  {
   "cell_type": "markdown",
   "id": "720348f6-9860-4d03-918d-2a51f52590d1",
   "metadata": {
    "tags": []
   },
   "source": [
    "# Pandas_Series演習\n",
    "実際のデータ分析の手順に沿って演習していきます"
   ]
  },
  {
   "cell_type": "code",
   "execution_count": null,
   "id": "324bd0f1-7fbc-48aa-90b3-87c86496721b",
   "metadata": {},
   "outputs": [],
   "source": [
    "import pandas as pd"
   ]
  },
  {
   "cell_type": "code",
   "execution_count": null,
   "id": "d334d1b8-9b1b-4dfd-93b3-f05971a47317",
   "metadata": {
    "tags": []
   },
   "outputs": [],
   "source": [
    "# American Comunities Survay(ACS):米国国勢調査局によるデータ\n",
    "df = pd.read_stata(\n",
    "    \"https://github.com/nickeubank/MIDS_Data/raw/master/US_AmericanCommunitySurvey/US_ACS_2017_10pct_sample.dta\"\n",
    ")"
   ]
  },
  {
   "cell_type": "markdown",
   "id": "37b2c66d-065a-4dda-9f32-3c2b10059671",
   "metadata": {},
   "source": [
    "[practical data science](https://www.practicaldatascience.org/html/exercises/Exercise_dataframe.html)\n",
    ">この演習では、American Communities Survey(ACS)のデータを使用して、学歴と賃金の関係を研究します。ACSは、米国国勢調査局(ただし、10年ごとに行われる米国内のすべての人のカウントである「国勢調査」ではありませんが)が米国人口の多数の特徴を測定するために実施した調査です。<br> 私たちが扱うデータには、2017年のACS調査から約100の変数が含まれており、ACSの10%サンプルです(それ自体は米国人口の1%サンプルであるため、米国の約0.1%サンプルで作業しています)。<br>\n",
    "このデータは[IPUMS](https://usa.ipums.org/usa/)から得られ、米国だけでなく世界中の政府統計機関から主要な調査データセットのサブセットを取得するための非常に便利なツールです。<br>\n",
    "このデータで使用されるすべての変数のドキュメントは、[こちら](https://usa.ipums.org/usa-action/variables/group)にあります(変数名で検索してこのデータ内の変数の意味を把握するか、正しい名前の変数がこのデータにあるかどうかを確認したいものを検索できます)。\n",
    "このデータには、アメリカ人の代表的なサンプルの学歴と現在の収入の両方に関する情報が含まれています。<br>\n",
    "\n",
    "**今回はこのデータを使用して、人種と労働市場での価値を推定します。**"
   ]
  },
  {
   "cell_type": "markdown",
   "id": "b4cb3dbb-a1c4-4650-9ea5-27c2bce00f1b",
   "metadata": {},
   "source": [
    "## データの確認"
   ]
  },
  {
   "cell_type": "markdown",
   "id": "fc678cfd-7e84-45ea-a4bb-995a05447c37",
   "metadata": {},
   "source": [
    "### 演習1"
   ]
  },
  {
   "cell_type": "code",
   "execution_count": null,
   "id": "31251dba-a1ab-45aa-a898-15d23d666304",
   "metadata": {},
   "outputs": [],
   "source": [
    "# DataFrameの先頭5行を確認してください\n"
   ]
  },
  {
   "cell_type": "markdown",
   "id": "4a9a3ea4-66fd-4618-8c45-1bb9e8342f20",
   "metadata": {},
   "source": [
    "### 演習2"
   ]
  },
  {
   "cell_type": "code",
   "execution_count": null,
   "id": "1be391b0-7599-4f5d-b91e-890ae18a4754",
   "metadata": {},
   "outputs": [],
   "source": [
    "# DataFrameのサイズを確認してください\n"
   ]
  },
  {
   "cell_type": "markdown",
   "id": "ef7f1fcb-ad9d-416f-a625-7ab395709b0e",
   "metadata": {
    "tags": []
   },
   "source": [
    "### 演習3"
   ]
  },
  {
   "cell_type": "code",
   "execution_count": null,
   "id": "98ced34c-5d00-417c-b051-f9193331db75",
   "metadata": {},
   "outputs": [],
   "source": [
    "# DataFrameのカラムを確認してください\n"
   ]
  },
  {
   "cell_type": "markdown",
   "id": "043c99e0-c211-460c-8432-44d3a973a5d8",
   "metadata": {
    "tags": []
   },
   "source": [
    "### 演習4\n",
    "**平均所得(`columns = 'inctot'`)**"
   ]
  },
  {
   "cell_type": "code",
   "execution_count": null,
   "id": "7e77053b-fe6a-4db3-980b-a50b098a92af",
   "metadata": {},
   "outputs": [],
   "source": [
    "# 平均所得の統計量を確認してください\n"
   ]
  },
  {
   "cell_type": "code",
   "execution_count": null,
   "id": "1db67665-19ca-4f1d-85e9-61e1ffe61c08",
   "metadata": {},
   "outputs": [],
   "source": [
    "df['inctot'].describe()['mean']"
   ]
  },
  {
   "cell_type": "markdown",
   "id": "87a10942-5ba9-4ad6-a3de-8810c5b581fd",
   "metadata": {},
   "source": [
    "**平均所得が高すぎる→max値がどうも怪しい**"
   ]
  },
  {
   "cell_type": "markdown",
   "id": "f860eab1-99bf-4988-bc71-643d05736ad0",
   "metadata": {},
   "source": [
    "### 演習5"
   ]
  },
  {
   "cell_type": "code",
   "execution_count": null,
   "id": "06203e0e-e599-4074-b477-d07d45b1c6bb",
   "metadata": {},
   "outputs": [],
   "source": [
    "# inctot列にはどのような値が含まれていてそれぞれが何個あるかを見つけてください\n"
   ]
  },
  {
   "cell_type": "markdown",
   "id": "c0593c3e-e4dc-4d5a-9241-4f57dca6a912",
   "metadata": {},
   "source": [
    "**9999999が多すぎる** <br>\n",
    "**→ このデータでは欠損地を9999999にしているらしいと予想できます**"
   ]
  },
  {
   "cell_type": "markdown",
   "id": "84048a17-ed82-428f-ac2e-024c0a84d37e",
   "metadata": {},
   "source": [
    "### 演習6"
   ]
  },
  {
   "cell_type": "code",
   "execution_count": null,
   "id": "88b248e0-616a-4842-bdd0-8a473b284371",
   "metadata": {},
   "outputs": [],
   "source": [
    "# 9999999をnp.nanに置換してください\n"
   ]
  },
  {
   "cell_type": "code",
   "execution_count": null,
   "id": "6601fe3a-96b3-4893-93a8-3955981dfe28",
   "metadata": {},
   "outputs": [],
   "source": [
    "df['inctot'].value_counts()"
   ]
  },
  {
   "cell_type": "markdown",
   "id": "9ee704a2-69eb-48e4-a404-f45f7640414e",
   "metadata": {},
   "source": [
    "### 演習7"
   ]
  },
  {
   "cell_type": "code",
   "execution_count": null,
   "id": "f494b2d6-6bd3-434c-8acc-c83f7ed5f3cb",
   "metadata": {},
   "outputs": [],
   "source": [
    "# もう一度平均所得を計算してください\n"
   ]
  },
  {
   "cell_type": "markdown",
   "id": "d9967fec-891f-475e-bc80-fbe4d32dc686",
   "metadata": {},
   "source": [
    "**それではいつ9999999が使われていたのかを特定します**"
   ]
  },
  {
   "cell_type": "markdown",
   "id": "3cfb91b9-70dc-444e-b8e7-95d5873e653f",
   "metadata": {},
   "source": [
    "### 演習8"
   ]
  },
  {
   "cell_type": "code",
   "execution_count": null,
   "id": "7523fc31-e9bd-4ecc-a68e-6d2b908e9410",
   "metadata": {
    "tags": []
   },
   "outputs": [],
   "source": [
    "# dfの中でinctotがNaNの行を抽出して下さい\n"
   ]
  },
  {
   "cell_type": "markdown",
   "id": "924b0778-5831-403c-aa20-29fe845784b6",
   "metadata": {},
   "source": [
    "### 演習9"
   ]
  },
  {
   "cell_type": "code",
   "execution_count": null,
   "id": "5cee2108-f8df-4a6d-92ac-5dc8bb6d0c1d",
   "metadata": {},
   "outputs": [],
   "source": [
    "# さらにage列を抽出し9999999がいつ使われていたかを特定してください\n",
    "# 本来であればすべてのカラムに対して調査しないといけないですが簡単のため原因がage列にある事がわかっているものとします\n"
   ]
  },
  {
   "cell_type": "markdown",
   "id": "1bfe357f-48da-44aa-81c2-99454e077dd3",
   "metadata": {},
   "source": [
    "**どうやら14歳以下のinctotを9999999にしていたらしい**"
   ]
  },
  {
   "cell_type": "markdown",
   "id": "012ca722-b5e5-4ddf-a339-5605c3475ee9",
   "metadata": {},
   "source": [
    "***さらに収入0もかなりの数あるため現在働いている人を対象として抽出*** <br>\n",
    "**→労働市場での価値を測りたいため**"
   ]
  },
  {
   "cell_type": "markdown",
   "id": "2b018021-447f-4ac4-9d59-a6e3fae9b5e6",
   "metadata": {
    "tags": []
   },
   "source": [
    "### 演習10\n",
    "**労働しているかの指標(`columns = 'empstat'`)**"
   ]
  },
  {
   "cell_type": "code",
   "execution_count": null,
   "id": "fadb406a-ebdb-4a08-96d2-0ebaf2890979",
   "metadata": {},
   "outputs": [],
   "source": [
    "# empstatのvaluesを確認してください\n"
   ]
  },
  {
   "cell_type": "code",
   "execution_count": null,
   "id": "458e1f80-21b1-4582-903a-6a4d0fb93e35",
   "metadata": {},
   "outputs": [],
   "source": [
    "# dfのうち雇用されている人の平均所得を出力してください\n"
   ]
  },
  {
   "cell_type": "markdown",
   "id": "32407247-db3e-4dde-8409-35a899618405",
   "metadata": {},
   "source": [
    "## 分析"
   ]
  },
  {
   "cell_type": "markdown",
   "id": "5067eddb-b38c-4b9d-b331-20352fbec9cd",
   "metadata": {},
   "source": [
    "### 演習11"
   ]
  },
  {
   "cell_type": "markdown",
   "id": "f1500885-631f-4728-a254-c4bd90b81e93",
   "metadata": {},
   "source": [
    "**収入と人種(`columns='race'`)**"
   ]
  },
  {
   "cell_type": "code",
   "execution_count": null,
   "id": "52d83bc1-26f0-4a12-a0d1-68ca55ab39f1",
   "metadata": {},
   "outputs": [],
   "source": [
    "# 人種のvalueを確認してください\n"
   ]
  },
  {
   "cell_type": "markdown",
   "id": "9833a935-85e6-4d2e-afbe-d017e49ad8fb",
   "metadata": {},
   "source": [
    "***ここでは白人と日本人で比較***"
   ]
  },
  {
   "cell_type": "markdown",
   "id": "95a8a2d5-3f51-43d6-8deb-01e60ea7c77e",
   "metadata": {},
   "source": [
    "### 演習12"
   ]
  },
  {
   "cell_type": "code",
   "execution_count": null,
   "id": "7dada196-40fd-4425-a1aa-ae001890ab5a",
   "metadata": {},
   "outputs": [],
   "source": [
    "# 白人かつ雇用されている人の平均年収を出力してください\n",
    "# 複数条件のmaskは()で囲み, &(and), |(or)で記述\n"
   ]
  },
  {
   "cell_type": "code",
   "execution_count": null,
   "id": "0fd8cf42-7751-48ff-b549-c04ee4bd83c5",
   "metadata": {},
   "outputs": [],
   "source": [
    "# 日本人かつ雇用されている人の平均所得を出力してください\n"
   ]
  },
  {
   "cell_type": "markdown",
   "id": "b7849a07-b3f4-4fcc-b8a3-f4b37007f183",
   "metadata": {},
   "source": [
    "***groupbyで一度に算出***"
   ]
  },
  {
   "cell_type": "code",
   "execution_count": null,
   "id": "9dc45f46-afff-44fa-b7f9-ace97d1c7442",
   "metadata": {},
   "outputs": [],
   "source": [
    "# non_employed含む\n"
   ]
  },
  {
   "cell_type": "code",
   "execution_count": null,
   "id": "e9c74b97-7a6b-41d6-8870-ecbd4a506a16",
   "metadata": {},
   "outputs": [],
   "source": [
    "# employedのみ\n"
   ]
  },
  {
   "cell_type": "markdown",
   "id": "de1810e0-e5cb-4f17-b347-36a4ebcfa832",
   "metadata": {},
   "source": [
    "### 演習13"
   ]
  },
  {
   "cell_type": "markdown",
   "id": "555dfa2f-d0cc-4e93-9166-a6e8be32d65b",
   "metadata": {},
   "source": [
    "白人の中にはヒスパニック系アメリカ人も含まれるため、一般に想定される白人アメリカ人の給与が過小評価されてしまっている<br>\n",
    "`hispan`列を用いて白人アメリカ人の平均給与を算出してください"
   ]
  },
  {
   "cell_type": "code",
   "execution_count": null,
   "id": "a30fc830-d904-43db-bd1c-086f04f75a02",
   "metadata": {},
   "outputs": [],
   "source": []
  }
 ],
 "metadata": {
  "kernelspec": {
   "display_name": "Python 3 (ipykernel)",
   "language": "python",
   "name": "python3"
  },
  "language_info": {
   "codemirror_mode": {
    "name": "ipython",
    "version": 3
   },
   "file_extension": ".py",
   "mimetype": "text/x-python",
   "name": "python",
   "nbconvert_exporter": "python",
   "pygments_lexer": "ipython3",
   "version": "3.7.13"
  },
  "toc-autonumbering": false
 },
 "nbformat": 4,
 "nbformat_minor": 5
}
