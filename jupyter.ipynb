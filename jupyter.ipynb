{
 "cells": [
  {
   "cell_type": "markdown",
   "id": "ffba3047-fb3a-4353-9b74-6eb88d1e2edf",
   "metadata": {},
   "source": [
    "# jupyter"
   ]
  },
  {
   "cell_type": "markdown",
   "id": "393f29f0-c60e-43f2-ace1-60e0354bedd5",
   "metadata": {},
   "source": [
    "## 便利なショートカット"
   ]
  },
  {
   "cell_type": "markdown",
   "id": "fbffc8c2-dca1-45d7-b98e-58d4a13666fd",
   "metadata": {},
   "source": [
    "|| キー      | 値  | \n",
    "|-| --------------- | --- | \n",
    "|共通| Shift + Enter | 実行して次のセルへ |\n",
    "|| Ctrl + Enter | セルの実行 |\n",
    "|コマンドモード| Enter | 編集モード移行 | \n",
    "|| ↑, ↓        | 上下のセルに移動 | \n",
    "|| A        | 上にセル追加 |\n",
    "|| B        | 下にセル追加 |\n",
    "||C        | セルのコピー |\n",
    "|| V        | セルのペースト |\n",
    "|| X        | セルのカット |\n",
    "|| Z        | やり直し |\n",
    "|| Esc + M        | マークダウン |\n",
    "|編集モード| Esc | コマンドモード移行 |\n",
    "|| Tab | コード補完, インデント |"
   ]
  },
  {
   "cell_type": "markdown",
   "id": "894bc420-b33b-4500-9916-c0a74e303f76",
   "metadata": {
    "tags": []
   },
   "source": [
    "## 演習用コード"
   ]
  },
  {
   "cell_type": "code",
   "execution_count": 7,
   "id": "8828feb8-e1bf-4863-be68-87a95ecd72c8",
   "metadata": {},
   "outputs": [
    {
     "name": "stdout",
     "output_type": "stream",
     "text": [
      "test\n"
     ]
    }
   ],
   "source": [
    "print('test')"
   ]
  },
  {
   "cell_type": "code",
   "execution_count": 6,
   "id": "d678cf19-3502-4eea-b7bd-512461dda306",
   "metadata": {},
   "outputs": [
    {
     "data": {
      "text/plain": [
       "3"
      ]
     },
     "execution_count": 6,
     "metadata": {},
     "output_type": "execute_result"
    }
   ],
   "source": [
    "a = 1\n",
    "b = 2\n",
    "\n",
    "a + b"
   ]
  },
  {
   "cell_type": "code",
   "execution_count": 5,
   "id": "b154acbc-6e0a-440f-bdbf-6c72d01ba783",
   "metadata": {},
   "outputs": [],
   "source": [
    "test_hennsuu = a + b"
   ]
  },
  {
   "cell_type": "code",
   "execution_count": null,
   "id": "dd724462-446b-48e8-a240-07be2550aa9b",
   "metadata": {},
   "outputs": [],
   "source": [
    "# 打つのが面倒な変数はTabで補完したりもできる\n",
    "tes"
   ]
  }
 ],
 "metadata": {
  "kernelspec": {
   "display_name": "Python 3 (ipykernel)",
   "language": "python",
   "name": "python3"
  },
  "language_info": {
   "codemirror_mode": {
    "name": "ipython",
    "version": 3
   },
   "file_extension": ".py",
   "mimetype": "text/x-python",
   "name": "python",
   "nbconvert_exporter": "python",
   "pygments_lexer": "ipython3",
   "version": "3.7.13"
  }
 },
 "nbformat": 4,
 "nbformat_minor": 5
}
