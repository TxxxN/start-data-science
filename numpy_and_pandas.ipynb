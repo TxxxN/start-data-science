{
 "cells": [
  {
   "cell_type": "markdown",
   "id": "f10a24dc-061a-4a50-9f13-774939a332b8",
   "metadata": {
    "tags": []
   },
   "source": [
    "# numpy(advanced)\n",
    "* 行列計算に特化したモジュール\n",
    "* pythonの標準ライブラリではないのでimportが必要"
   ]
  },
  {
   "cell_type": "markdown",
   "id": "8042fc02-c43d-4968-b42b-40593e732af7",
   "metadata": {
    "tags": []
   },
   "source": [
    "## numpy array"
   ]
  },
  {
   "cell_type": "markdown",
   "id": "a88a371b-ed20-40b7-8c2f-f4825d0ea464",
   "metadata": {
    "tags": []
   },
   "source": [
    "### 基本"
   ]
  },
  {
   "cell_type": "code",
   "execution_count": 37,
   "id": "005026fd-b21a-4e57-a75e-184eebf2c906",
   "metadata": {},
   "outputs": [],
   "source": [
    "import numpy as np"
   ]
  },
  {
   "cell_type": "code",
   "execution_count": 38,
   "id": "96f6aabc-a950-4d68-a02b-eae18bab0b24",
   "metadata": {},
   "outputs": [
    {
     "data": {
      "text/plain": [
       "array([0, 1, 2, 3, 4, 5])"
      ]
     },
     "execution_count": 38,
     "metadata": {},
     "output_type": "execute_result"
    }
   ],
   "source": [
    "a = np.array(range(0, 6))\n",
    "a"
   ]
  },
  {
   "cell_type": "code",
   "execution_count": 39,
   "id": "696aaf5a-9b76-41bd-a4a8-e9d710c6be4d",
   "metadata": {},
   "outputs": [
    {
     "data": {
      "text/plain": [
       "numpy.ndarray"
      ]
     },
     "execution_count": 39,
     "metadata": {},
     "output_type": "execute_result"
    }
   ],
   "source": [
    "type(a)"
   ]
  },
  {
   "cell_type": "code",
   "execution_count": 40,
   "id": "ec812e5e-a194-47e1-88e4-5f7567c3c8a6",
   "metadata": {},
   "outputs": [
    {
     "data": {
      "text/plain": [
       "(6,)"
      ]
     },
     "execution_count": 40,
     "metadata": {},
     "output_type": "execute_result"
    }
   ],
   "source": [
    "a.shape"
   ]
  },
  {
   "cell_type": "markdown",
   "id": "86b96966-a3df-4601-b96b-43b4e31b9156",
   "metadata": {},
   "source": [
    "**.reshape()で好きな形に変形できる**"
   ]
  },
  {
   "cell_type": "code",
   "execution_count": 41,
   "id": "76b86d04-8b01-4dd5-a72c-28e6b0414bbb",
   "metadata": {},
   "outputs": [
    {
     "data": {
      "text/plain": [
       "array([[0, 1],\n",
       "       [2, 3],\n",
       "       [4, 5]])"
      ]
     },
     "execution_count": 41,
     "metadata": {},
     "output_type": "execute_result"
    }
   ],
   "source": [
    "# 3行×2列に変換\n",
    "b = a.reshape(3, 2)\n",
    "b"
   ]
  },
  {
   "cell_type": "markdown",
   "id": "80726870-4f1e-4bfb-b19d-cee4d849ecb4",
   "metadata": {},
   "source": [
    "**.flatten()で1行に変換できる**"
   ]
  },
  {
   "cell_type": "code",
   "execution_count": 42,
   "id": "5bcb6742-6577-4509-8425-3e9856476942",
   "metadata": {},
   "outputs": [
    {
     "data": {
      "text/plain": [
       "array([0, 1, 2, 3, 4, 5])"
      ]
     },
     "execution_count": 42,
     "metadata": {},
     "output_type": "execute_result"
    }
   ],
   "source": [
    "b.flatten()"
   ]
  },
  {
   "cell_type": "markdown",
   "id": "b3b8aa34-9515-4e00-9c91-e6c624b70ec7",
   "metadata": {
    "tags": []
   },
   "source": [
    "### 行列計算"
   ]
  },
  {
   "cell_type": "code",
   "execution_count": 43,
   "id": "0d82aee7-58e4-4857-984a-09dbcb5a7288",
   "metadata": {},
   "outputs": [],
   "source": [
    "a = np.array(np.random.randint(0, 10, (3, 3)))\n",
    "b = np.array(np.random.randint(0, 10, (3, 3)))"
   ]
  },
  {
   "cell_type": "code",
   "execution_count": 44,
   "id": "88a3502a-5d47-43cb-b4fb-b04c705cd382",
   "metadata": {},
   "outputs": [
    {
     "data": {
      "text/plain": [
       "array([[2, 0, 5],\n",
       "       [9, 6, 4],\n",
       "       [7, 3, 7]])"
      ]
     },
     "execution_count": 44,
     "metadata": {},
     "output_type": "execute_result"
    }
   ],
   "source": [
    "a"
   ]
  },
  {
   "cell_type": "code",
   "execution_count": 45,
   "id": "c5748598-25f0-4383-83d6-4fe88886c59d",
   "metadata": {},
   "outputs": [
    {
     "data": {
      "text/plain": [
       "array([[7, 4, 6],\n",
       "       [8, 8, 0],\n",
       "       [0, 8, 3]])"
      ]
     },
     "execution_count": 45,
     "metadata": {},
     "output_type": "execute_result"
    }
   ],
   "source": [
    "b"
   ]
  },
  {
   "cell_type": "code",
   "execution_count": 46,
   "id": "895f2e63-c39d-4941-8c29-9bc3036a49c1",
   "metadata": {},
   "outputs": [
    {
     "data": {
      "text/plain": [
       "array([[ 9,  4, 11],\n",
       "       [17, 14,  4],\n",
       "       [ 7, 11, 10]])"
      ]
     },
     "execution_count": 46,
     "metadata": {},
     "output_type": "execute_result"
    }
   ],
   "source": [
    "a + b"
   ]
  },
  {
   "cell_type": "code",
   "execution_count": 47,
   "id": "40adc4ac-e0aa-4bf9-bd54-5e77d6b6c22a",
   "metadata": {},
   "outputs": [
    {
     "data": {
      "text/plain": [
       "array([[14,  0, 30],\n",
       "       [72, 48,  0],\n",
       "       [ 0, 24, 21]])"
      ]
     },
     "execution_count": 47,
     "metadata": {},
     "output_type": "execute_result"
    }
   ],
   "source": [
    "a * b"
   ]
  },
  {
   "cell_type": "code",
   "execution_count": 48,
   "id": "a3cf637c-5919-4370-9ffc-a6c20f93c58c",
   "metadata": {
    "collapsed": true,
    "jupyter": {
     "outputs_hidden": true
    },
    "tags": []
   },
   "outputs": [
    {
     "data": {
      "text/plain": [
       "array([[[[0., 0., 0.],\n",
       "         [0., 0., 0.],\n",
       "         [0., 0., 0.]],\n",
       "\n",
       "        [[0., 0., 0.],\n",
       "         [0., 0., 0.],\n",
       "         [0., 0., 0.]],\n",
       "\n",
       "        [[0., 0., 0.],\n",
       "         [0., 0., 0.],\n",
       "         [0., 0., 0.]]],\n",
       "\n",
       "\n",
       "       [[[0., 0., 0.],\n",
       "         [0., 0., 0.],\n",
       "         [0., 0., 0.]],\n",
       "\n",
       "        [[0., 0., 0.],\n",
       "         [0., 0., 0.],\n",
       "         [0., 0., 0.]],\n",
       "\n",
       "        [[0., 0., 0.],\n",
       "         [0., 0., 0.],\n",
       "         [0., 0., 0.]]],\n",
       "\n",
       "\n",
       "       [[[0., 0., 0.],\n",
       "         [0., 0., 0.],\n",
       "         [0., 0., 0.]],\n",
       "\n",
       "        [[0., 0., 0.],\n",
       "         [0., 0., 0.],\n",
       "         [0., 0., 0.]],\n",
       "\n",
       "        [[0., 0., 0.],\n",
       "         [0., 0., 0.],\n",
       "         [0., 0., 0.]]]])"
      ]
     },
     "execution_count": 48,
     "metadata": {},
     "output_type": "execute_result"
    }
   ],
   "source": [
    "# n次元配列も作れるが実務では登場機会は少ないか\n",
    "ndarray_3D = np.zeros((3, 3, 3, 3))\n",
    "ndarray_3D"
   ]
  },
  {
   "cell_type": "markdown",
   "id": "d2b80dd2-83e2-4db0-847b-926bfaa2bd8d",
   "metadata": {},
   "source": [
    "### 要素の抽出"
   ]
  },
  {
   "cell_type": "markdown",
   "id": "f6e73382-d91a-4aa4-b555-36d3dfa0a90b",
   "metadata": {},
   "source": [
    "**要素の番号で指定**"
   ]
  },
  {
   "cell_type": "code",
   "execution_count": 52,
   "id": "90699655-a895-434b-b290-51a4009529aa",
   "metadata": {},
   "outputs": [
    {
     "data": {
      "text/plain": [
       "array([2, 0, 5, 9, 6, 4, 7, 3, 7])"
      ]
     },
     "execution_count": 52,
     "metadata": {},
     "output_type": "execute_result"
    }
   ],
   "source": [
    "a = a.flatten()\n",
    "a"
   ]
  },
  {
   "cell_type": "code",
   "execution_count": 53,
   "id": "421d65f0-39b3-4993-926d-668e7a0c1005",
   "metadata": {},
   "outputs": [
    {
     "data": {
      "text/plain": [
       "5"
      ]
     },
     "execution_count": 53,
     "metadata": {},
     "output_type": "execute_result"
    }
   ],
   "source": [
    "a[2]"
   ]
  },
  {
   "cell_type": "markdown",
   "id": "c44d4032-bdbe-4ea3-96e7-66d9cafa9ef8",
   "metadata": {},
   "source": [
    "**[行番号, 列番号]で指定**"
   ]
  },
  {
   "cell_type": "code",
   "execution_count": 71,
   "id": "6ea3abaa-3d36-41e9-9f60-520165c7cded",
   "metadata": {},
   "outputs": [
    {
     "data": {
      "text/plain": [
       "array([[ 0,  1,  2,  3,  4,  5,  6,  7],\n",
       "       [ 8,  9, 10, 11, 12, 13, 14, 15],\n",
       "       [16, 17, 18, 19, 20, 21, 22, 23],\n",
       "       [24, 25, 26, 27, 28, 29, 30, 31],\n",
       "       [32, 33, 34, 35, 36, 37, 38, 39],\n",
       "       [40, 41, 42, 43, 44, 45, 46, 47]])"
      ]
     },
     "execution_count": 71,
     "metadata": {},
     "output_type": "execute_result"
    }
   ],
   "source": [
    "c = np.arange(0, 48, 1).reshape(6, 8)\n",
    "c"
   ]
  },
  {
   "cell_type": "code",
   "execution_count": 31,
   "id": "76446d8f-4c36-4368-a3f5-bb49a8689bfe",
   "metadata": {},
   "outputs": [
    {
     "data": {
      "text/plain": [
       "9"
      ]
     },
     "execution_count": 31,
     "metadata": {},
     "output_type": "execute_result"
    }
   ],
   "source": [
    "# 2行3列目\n",
    "c[2, 3]"
   ]
  },
  {
   "cell_type": "code",
   "execution_count": 27,
   "id": "8a51f023-644a-46bc-bf61-d47958f585fb",
   "metadata": {},
   "outputs": [
    {
     "data": {
      "text/plain": [
       "array([5, 6, 3, 9, 3, 2, 5, 4])"
      ]
     },
     "execution_count": 27,
     "metadata": {},
     "output_type": "execute_result"
    }
   ],
   "source": [
    "# 2行目(2個目の要素とも言える)\n",
    "c[2]"
   ]
  },
  {
   "cell_type": "code",
   "execution_count": 29,
   "id": "da0f5f36-7dd7-457e-bf02-530222d8de57",
   "metadata": {},
   "outputs": [
    {
     "data": {
      "text/plain": [
       "9"
      ]
     },
     "execution_count": 29,
     "metadata": {},
     "output_type": "execute_result"
    }
   ],
   "source": [
    "# 2行3列目(2個目の要素の中の３個目の要素とも言える)\n",
    "c[2][3]"
   ]
  },
  {
   "cell_type": "markdown",
   "id": "89d049b5-ea3c-4c0a-97b7-fea3bf5c2748",
   "metadata": {},
   "source": [
    "**スライスで指定**"
   ]
  },
  {
   "cell_type": "code",
   "execution_count": 54,
   "id": "33106007-ea09-4404-bdc6-3809c6cad7c5",
   "metadata": {},
   "outputs": [
    {
     "data": {
      "text/plain": [
       "array([2, 0, 5, 9, 6, 4, 7, 3, 7])"
      ]
     },
     "execution_count": 54,
     "metadata": {},
     "output_type": "execute_result"
    }
   ],
   "source": [
    "# 1次元の場合\n",
    "a"
   ]
  },
  {
   "cell_type": "code",
   "execution_count": 56,
   "id": "791eedcf-77e5-4011-98b3-7ae4bba60800",
   "metadata": {},
   "outputs": [
    {
     "data": {
      "text/plain": [
       "array([9, 6, 4])"
      ]
     },
     "execution_count": 56,
     "metadata": {},
     "output_type": "execute_result"
    }
   ],
   "source": [
    "# 3から6個目まで取り出す(※6は含まれない)\n",
    "a[3:6]"
   ]
  },
  {
   "cell_type": "code",
   "execution_count": 65,
   "id": "eb03f854-1f3f-4677-88e0-16c9ead95bdb",
   "metadata": {},
   "outputs": [
    {
     "data": {
      "text/plain": [
       "array([9, 6, 4, 7, 3, 7])"
      ]
     },
     "execution_count": 65,
     "metadata": {},
     "output_type": "execute_result"
    }
   ],
   "source": [
    "# 3から全部\n",
    "a[3:]"
   ]
  },
  {
   "cell_type": "code",
   "execution_count": 66,
   "id": "e5612d89-a471-4a6e-b57c-c6de8da149ef",
   "metadata": {},
   "outputs": [
    {
     "data": {
      "text/plain": [
       "array([2, 0, 5])"
      ]
     },
     "execution_count": 66,
     "metadata": {},
     "output_type": "execute_result"
    }
   ],
   "source": [
    "# 3まで全部\n",
    "a[:3]"
   ]
  },
  {
   "cell_type": "code",
   "execution_count": 67,
   "id": "5c79c1c0-b645-43f3-86eb-2e1a8c3e870f",
   "metadata": {},
   "outputs": [
    {
     "data": {
      "text/plain": [
       "array([2, 0, 5, 9, 6, 4, 7, 3, 7])"
      ]
     },
     "execution_count": 67,
     "metadata": {},
     "output_type": "execute_result"
    }
   ],
   "source": [
    "# 全部\n",
    "a[:]"
   ]
  },
  {
   "cell_type": "code",
   "execution_count": 70,
   "id": "b559fb37-543f-41be-9468-934eb97f56f5",
   "metadata": {},
   "outputs": [
    {
     "data": {
      "text/plain": [
       "7"
      ]
     },
     "execution_count": 70,
     "metadata": {},
     "output_type": "execute_result"
    }
   ],
   "source": [
    "# 最後尾\n",
    "a[-1]"
   ]
  },
  {
   "cell_type": "code",
   "execution_count": 78,
   "id": "2818c0ac-f39a-4495-a89a-81529e54471d",
   "metadata": {},
   "outputs": [
    {
     "data": {
      "text/plain": [
       "array([[  1.        ,   3.02040816,   5.04081633,   7.06122449,\n",
       "          9.08163265],\n",
       "       [ 11.10204082,  13.12244898,  15.14285714,  17.16326531,\n",
       "         19.18367347],\n",
       "       [ 21.20408163,  23.2244898 ,  25.24489796,  27.26530612,\n",
       "         29.28571429],\n",
       "       [ 31.30612245,  33.32653061,  35.34693878,  37.36734694,\n",
       "         39.3877551 ],\n",
       "       [ 41.40816327,  43.42857143,  45.44897959,  47.46938776,\n",
       "         49.48979592],\n",
       "       [ 51.51020408,  53.53061224,  55.55102041,  57.57142857,\n",
       "         59.59183673],\n",
       "       [ 61.6122449 ,  63.63265306,  65.65306122,  67.67346939,\n",
       "         69.69387755],\n",
       "       [ 71.71428571,  73.73469388,  75.75510204,  77.7755102 ,\n",
       "         79.79591837],\n",
       "       [ 81.81632653,  83.83673469,  85.85714286,  87.87755102,\n",
       "         89.89795918],\n",
       "       [ 91.91836735,  93.93877551,  95.95918367,  97.97959184,\n",
       "        100.        ]])"
      ]
     },
     "execution_count": 78,
     "metadata": {},
     "output_type": "execute_result"
    }
   ],
   "source": [
    "# 2次元の場合\n",
    "d = np.linspace(1, 100, 50).reshape(10, 5)\n",
    "d"
   ]
  },
  {
   "cell_type": "code",
   "execution_count": 79,
   "id": "9ac8555a-a0f4-41f3-80d7-cdb9250db5f9",
   "metadata": {},
   "outputs": [
    {
     "data": {
      "text/plain": [
       "array([[21.20408163, 23.2244898 , 25.24489796, 27.26530612, 29.28571429],\n",
       "       [31.30612245, 33.32653061, 35.34693878, 37.36734694, 39.3877551 ]])"
      ]
     },
     "execution_count": 79,
     "metadata": {},
     "output_type": "execute_result"
    }
   ],
   "source": [
    "d[2:4]"
   ]
  },
  {
   "cell_type": "code",
   "execution_count": 80,
   "id": "a42eb0d0-f4bb-43fd-a63c-f65fdd6ac29e",
   "metadata": {},
   "outputs": [
    {
     "data": {
      "text/plain": [
       "array([[21.20408163, 23.2244898 , 25.24489796, 27.26530612, 29.28571429],\n",
       "       [31.30612245, 33.32653061, 35.34693878, 37.36734694, 39.3877551 ]])"
      ]
     },
     "execution_count": 80,
     "metadata": {},
     "output_type": "execute_result"
    }
   ],
   "source": [
    "# 注意\n",
    "d[2:4][0:3]"
   ]
  },
  {
   "cell_type": "code",
   "execution_count": 81,
   "id": "9e4312af-45fd-40dc-8563-62a24eb577ed",
   "metadata": {},
   "outputs": [
    {
     "data": {
      "text/plain": [
       "array([[21.20408163, 23.2244898 , 25.24489796],\n",
       "       [31.30612245, 33.32653061, 35.34693878]])"
      ]
     },
     "execution_count": 81,
     "metadata": {},
     "output_type": "execute_result"
    }
   ],
   "source": [
    "d[2:4, 0:3]"
   ]
  },
  {
   "cell_type": "markdown",
   "id": "23aa84c4-c1db-43e3-95f5-98f8490328eb",
   "metadata": {
    "jupyter": {
     "source_hidden": true
    },
    "tags": []
   },
   "source": [
    "### 参照渡しと値渡し"
   ]
  },
  {
   "cell_type": "markdown",
   "id": "3797af46-e684-4b61-9ed6-5077e63404c2",
   "metadata": {},
   "source": [
    "* listやnumpyを関数に渡して処理させると元のオブジェクトにも変更が加えられてしまうことがありバグの原因になりうる\n",
    "* 頭の片隅に入れておくとよい\n",
    "* listやnumpyを関数に食わせるときはcopy()しておくのが安全\n",
    "\n",
    "https://datawokagaku.com/numpy_generate/"
   ]
  },
  {
   "cell_type": "code",
   "execution_count": 109,
   "id": "ca2fcb28-6660-4413-9ec4-2e136c6da6be",
   "metadata": {},
   "outputs": [],
   "source": [
    "def change_hundred(array):\n",
    "\n",
    "    array[0] = 100\n",
    "    return array\n",
    "\n",
    "def change_hundred_copy(array):\n",
    "    \n",
    "    array_copy = array.copy()\n",
    "    array_copy[0] = 100\n",
    "    return array_copy"
   ]
  },
  {
   "cell_type": "code",
   "execution_count": 110,
   "id": "ef4ea43c-7815-4b26-9bdc-ce0f01c55d8c",
   "metadata": {},
   "outputs": [],
   "source": [
    "# array1とarray2は同じ値\n",
    "array_1 = np.arange(0, 4)\n",
    "array_2 = np.arange(0, 4)"
   ]
  },
  {
   "cell_type": "code",
   "execution_count": 111,
   "id": "73b86bce-d582-451b-a3f1-9f077fe84fc5",
   "metadata": {},
   "outputs": [],
   "source": [
    "# 関数に入れると\n",
    "output_array = change_hundred(array_1)\n",
    "output_array_copy = change_hundred_copy(array_2)"
   ]
  },
  {
   "cell_type": "code",
   "execution_count": 112,
   "id": "cf960c0a-acef-4e35-abb7-37fee77cfec0",
   "metadata": {},
   "outputs": [
    {
     "name": "stdout",
     "output_type": "stream",
     "text": [
      "[100   1   2   3]\n",
      "[0 1 2 3]\n"
     ]
    }
   ],
   "source": [
    "# 別の値になってしまった\n",
    "print(array_1)\n",
    "print(array_2)"
   ]
  },
  {
   "cell_type": "markdown",
   "id": "5fa0cb4b-55f1-4c75-8e7c-29cd9add0b90",
   "metadata": {
    "jp-MarkdownHeadingCollapsed": true,
    "tags": []
   },
   "source": [
    "### 便利関数まとめ"
   ]
  },
  {
   "cell_type": "markdown",
   "id": "2ba622be-27fa-4a32-af4d-41b30b1e53cf",
   "metadata": {},
   "source": [
    "|                                          |                                                                          | \n",
    "| ---------------------------------------- | ------------------------------------------------------------------------ | \n",
    "| .flatten()                               | 一列にする                                                               | \n",
    "| np.arange([start,] stop[, step])         | start以上stop未満の値をstepずつ増加させた値のarrayを生成                 | \n",
    "| np.linspace(start, stop, num=50)         | start以上stop未満の値を均等にnum個等分した値のarrayを生成                | \n",
    "| .copy()                                  | NumPy arrayをコピー                                                      | \n",
    "| np.zeros(shape)                          | 要素が全て０のndarrayを生成                                              | \n",
    "| np.ones(shape)                           | 要素が全て１のndarrayを生成                                              | \n",
    "| np.eye(N)                                | N x Nの単位行列を生成                                                    | \n",
    "| np.random.rand()                         | 0 ~ 1からランダムな数字で行列を生成                                      | \n",
    "| np.random.randn()                        | 標準正規分布から値をとって行列を生成                                     | \n",
    "| np.random.randint(low[, hight] [, size]) | low以上hight未満のintegerからランダムに，指定したsizeのndarrayを生成<br> | \n",
    "| .reshape(shape)                          | ndarrayのshapeを任意のshapeに変換                                        | \n",
    "|                                          |                                                                          | \n",
    "|                                          |                                                                          | "
   ]
  },
  {
   "cell_type": "markdown",
   "id": "f9a697c6-1294-4652-a6fc-5fa7afab1429",
   "metadata": {
    "tags": []
   },
   "source": [
    "# Series_and_Pandas\n",
    "* 表計算用のライブラリ\n",
    "* 内部ではnumpyを使っているのでnumpyと扱い方は結構似てる部分もあるが、さらに便利な機能がたくさん搭載されている\n",
    "* importが必要"
   ]
  },
  {
   "cell_type": "markdown",
   "id": "6b674110-ef9e-46a8-8682-e011f2a9a997",
   "metadata": {},
   "source": [
    "<img src='https://user-images.githubusercontent.com/7065401/56914690-1d889700-6a8b-11e9-874d-9d7220342610.png'>"
   ]
  },
  {
   "cell_type": "markdown",
   "id": "838800f8-137a-4da0-9039-3882748fee5e",
   "metadata": {},
   "source": [
    "`pd.read_csv()` : csvファイルの読み込み\n",
    "\n",
    "| パラメータ      | 値  | 説明                   | \n",
    "| --------------- | --- | ---------------------- | \n",
    "| file_path(必須) | str | 読み込むファイルのパス | \n",
    "| encoding        | str | エンコード             | \n",
    "| skip_rows        | int | 先頭行を読み込まない   | "
   ]
  },
  {
   "cell_type": "markdown",
   "id": "4aecf3db-a315-40de-9350-e2d7aaeeb2a3",
   "metadata": {},
   "source": [
    "`pd.read_excel()` : excelファイルの読み込み\n",
    "\n",
    "| パラメータ      | 値  | 説明                   | \n",
    "| --------------- | --- | ---------------------- | \n",
    "| file_path(必須) | str | 読み込むファイルのパス | \n",
    "| encoding        | str | エンコード             |\n",
    "| skip_rows        | int | 先頭行を読み込まない   | \n",
    "|sheet_name       | str | シート指定             |"
   ]
  },
  {
   "cell_type": "markdown",
   "id": "dce84eb8-6a4e-4472-b5ca-631f99444ba3",
   "metadata": {},
   "source": [
    "`df.to_csv('faile_name')` : csvファイルへの出力 <br>\n",
    "`df.to_excel('faile_name')` : excelファイルへの出力"
   ]
  },
  {
   "cell_type": "markdown",
   "id": "b118e94e-711a-4586-a881-d964aaa623ab",
   "metadata": {
    "jp-MarkdownHeadingCollapsed": true,
    "tags": []
   },
   "source": [
    "\n",
    "**df操作** <br>\n",
    "`df.columns` : カラムのリスト <br>\n",
    "`df.index ` : インデックスのリスト <br>\n",
    "`df.head()` : dfの先頭n行を抽出 <br>\n",
    "`df.tail()` : dfの最後尾n行を抽出 <br>\n",
    "`df.sample()` : ランダムにn行抽出 <br>\n",
    "`df['column_name']` : column_name列抽出 <br>\n",
    "`df.loc['column_name']` : column_name列抽出 <br>\n",
    "`df.loc[mask]` : mask条件文がTrueなものを抽出 <br>\n",
    "`df.iloc[index_num, column_num]` : 行列番号で抽出 <br>\n",
    "`df.rename(columns={'previous_name':'new_name'})` : カラム名の変更 <br>\n",
    "`df.set_index('column_name')` : column_name列をindexにする(時刻など) <br>\n",
    "`df.reset_index()` : indexを0から振りなおす <br> <br>\n",
    "**統計量** <br>\n",
    "`df.describe()` : 統計量まとめ <br>\n",
    "`seriese.value_counts` : 同じ値をカウント <br>\n",
    "`df.groupby('column_name')` : column_name列の値でグルーピング <br> <br>\n",
    "**欠損値** <br>\n",
    "`df.isna()` : NaNの抽出 <br>\n",
    "`df.dropna()` : NaNをドロップ <br>\n",
    "`df.fillna()` : NaNに値を代入 <br>\n",
    "`df.replace()` : ある値を別の値に置き換える(np.nan) <br> <br>\n",
    "**その他** <br>\n",
    "`pd.concat([df1, df2])` : df1とdf2の結合 <br>\n",
    "`df1.merge(df2)` : df1とdf2の結合　キーや結合方法を指定可能"
   ]
  },
  {
   "cell_type": "markdown",
   "id": "f88ddd6b-b934-46ef-b319-aa4c0fd5a329",
   "metadata": {},
   "source": [
    "Pandsについてはこちらのサイトに沿って説明します。個人的にかなりわかりやすいと思うので。<br>\n",
    "https://datawokagaku.com/python_for_ds_summary/"
   ]
  },
  {
   "cell_type": "markdown",
   "id": "9a5e4e20-cd9b-4977-8123-6f5044f458aa",
   "metadata": {
    "tags": []
   },
   "source": [
    "## csvファイルを読み込む"
   ]
  },
  {
   "cell_type": "code",
   "execution_count": 3,
   "id": "ef013490-35c3-4cfe-80f5-d9d742bf04a0",
   "metadata": {},
   "outputs": [],
   "source": [
    "import pandas as pd\n",
    "df = pd.read_csv('./datasets/Titanic.csv')"
   ]
  },
  {
   "cell_type": "code",
   "execution_count": null,
   "id": "d7eff71a-6ef8-48f8-9971-603dcbe26e40",
   "metadata": {},
   "outputs": [],
   "source": []
  },
  {
   "cell_type": "code",
   "execution_count": null,
   "id": "2fde3fea-5d14-487d-a508-2eef037024af",
   "metadata": {},
   "outputs": [],
   "source": []
  },
  {
   "cell_type": "markdown",
   "id": "34d76d83-9f30-49be-a3c5-300deada9aa8",
   "metadata": {},
   "source": [
    "## DataFrameの基本的な使い方(head, describe, Seriesの取得など)"
   ]
  },
  {
   "cell_type": "code",
   "execution_count": null,
   "id": "1a62a2d4-c630-4c79-8ba5-9e84dce0c336",
   "metadata": {},
   "outputs": [],
   "source": []
  },
  {
   "cell_type": "code",
   "execution_count": null,
   "id": "f59065a2-8b32-4ff8-9b5c-7edb2b4438b9",
   "metadata": {},
   "outputs": [],
   "source": []
  },
  {
   "cell_type": "code",
   "execution_count": null,
   "id": "d408119e-2eb9-4a97-ad45-a7cc3b5135ed",
   "metadata": {},
   "outputs": [],
   "source": []
  },
  {
   "cell_type": "markdown",
   "id": "efeba380-decf-47e5-96f7-897c578bedeb",
   "metadata": {},
   "source": [
    "## DataFrameのフィルタ操作の基本(超重要)"
   ]
  },
  {
   "cell_type": "code",
   "execution_count": null,
   "id": "b8209aef-d2f7-4a6b-911e-9b91761f7510",
   "metadata": {},
   "outputs": [],
   "source": []
  },
  {
   "cell_type": "code",
   "execution_count": null,
   "id": "4822b494-bd6e-4762-8ccd-404b46ffea24",
   "metadata": {},
   "outputs": [],
   "source": []
  },
  {
   "cell_type": "code",
   "execution_count": null,
   "id": "70a5dbed-c0c0-473c-bb0b-8f1c7ebb56d9",
   "metadata": {},
   "outputs": [],
   "source": []
  },
  {
   "cell_type": "markdown",
   "id": "62cac7de-8d03-4c61-993d-ccb1c34966e4",
   "metadata": {},
   "source": [
    "## DataFrameの欠損値NaNに対応する"
   ]
  },
  {
   "cell_type": "code",
   "execution_count": null,
   "id": "fac5b3ea-4d57-45cc-ae65-778cd8d094fa",
   "metadata": {},
   "outputs": [],
   "source": []
  },
  {
   "cell_type": "code",
   "execution_count": null,
   "id": "9b344b64-3030-4a84-a367-419e8a06711e",
   "metadata": {},
   "outputs": [],
   "source": []
  },
  {
   "cell_type": "code",
   "execution_count": null,
   "id": "66dcca4e-5a43-4ebc-a928-92c365e0e788",
   "metadata": {},
   "outputs": [],
   "source": []
  },
  {
   "cell_type": "markdown",
   "id": "1132f67c-3d0f-4519-bc66-cb665ff82a5d",
   "metadata": {},
   "source": [
    "## DataFrameのgroupbyをマスターする"
   ]
  },
  {
   "cell_type": "code",
   "execution_count": null,
   "id": "468e70ac-69da-4f5c-835e-23f02bfa6f95",
   "metadata": {},
   "outputs": [],
   "source": []
  },
  {
   "cell_type": "code",
   "execution_count": null,
   "id": "42414a8e-4d35-41fe-879d-0cf81e266b30",
   "metadata": {},
   "outputs": [],
   "source": []
  },
  {
   "cell_type": "code",
   "execution_count": null,
   "id": "82532d4c-6c40-46df-a8d9-8bfdcab1e44b",
   "metadata": {},
   "outputs": [],
   "source": []
  },
  {
   "cell_type": "markdown",
   "id": "d2413396-5a72-481d-ac02-456cbb6ba33e",
   "metadata": {},
   "source": [
    "## DataFrameのテーブル結合を完全解説(merge, join, concat)"
   ]
  },
  {
   "cell_type": "code",
   "execution_count": null,
   "id": "ca45095b-1c03-4e99-9972-b0744b6545e1",
   "metadata": {},
   "outputs": [],
   "source": []
  },
  {
   "cell_type": "code",
   "execution_count": null,
   "id": "f53cf2a7-01b9-48cf-bf57-c96d0898dd3d",
   "metadata": {},
   "outputs": [],
   "source": []
  },
  {
   "cell_type": "code",
   "execution_count": null,
   "id": "7c04ba1b-fc1d-4d69-a80a-3c4db0e3ad42",
   "metadata": {},
   "outputs": [],
   "source": []
  },
  {
   "cell_type": "code",
   "execution_count": null,
   "id": "abe5aaff-5ea3-49a6-866d-5dedf629d1a3",
   "metadata": {},
   "outputs": [],
   "source": []
  }
 ],
 "metadata": {
  "kernelspec": {
   "display_name": "Python 3 (ipykernel)",
   "language": "python",
   "name": "python3"
  },
  "language_info": {
   "codemirror_mode": {
    "name": "ipython",
    "version": 3
   },
   "file_extension": ".py",
   "mimetype": "text/x-python",
   "name": "python",
   "nbconvert_exporter": "python",
   "pygments_lexer": "ipython3",
   "version": "3.7.13"
  },
  "toc-autonumbering": false
 },
 "nbformat": 4,
 "nbformat_minor": 5
}
